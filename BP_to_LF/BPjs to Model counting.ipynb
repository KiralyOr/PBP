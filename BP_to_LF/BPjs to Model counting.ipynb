{
 "cells": [
  {
   "cell_type": "markdown",
   "metadata": {},
   "source": [
    "### BP to LF transition:\n",
    "#### Variables\n",
    "For each $e\\in E$ and every time $t$:  \n",
    "-  $requested(e,t)$        \n",
    "-  $blocked(e,t)$  \n",
    "- $triggered(e,t)$  \n",
    "\n",
    "\n",
    "\n",
    "For each state $s\\in S(bt)$ of every b-thread $bt$ and every time $t$:\n",
    "\n",
    "    \n",
    "- $at(s,t)$  \n",
    "\n",
    "_________________________________________________________________\n",
    "#### Rules\n",
    "\n",
    "1. $\\forall t \\colon  \\oplus_{e\\in E}(triggered(e,t))$\n",
    "\n",
    "1. $\\forall t,e \\colon  triggered(e,t) \\Rightarrow requested(e,t) \\wedge \\neg blocked(e,t)$\n",
    "\n",
    "1. $at(s,t) \\iff ( t=0 \\wedge s \\in INITIAL)  \\vee (at(s',t-1) \\wedge triggered(e,t-1) \\wedge (s',e,s)\\in  TRANSITIONS) \\vee  (at(s,t-1) \\wedge triggered(e,t-1) \\wedge \\{(s,e,s'): s' \\in S\\} \\cap  TRANSITIONS = \\emptyset) $\n",
    "\n",
    "1. $requested(e,t) \\iff \\bigvee_{s \\in S} e \\in REQUESTED(s) \\wedge at(s,t)$\n",
    "\n",
    "1. $blocked(e,t) \\iff \\bigvee_{s \\in S} e \\in BLOCKED(s) \\wedge at(s,t)$\n"
   ]
  },
  {
   "cell_type": "markdown",
   "metadata": {},
   "source": [
    "\n"
   ]
  },
  {
   "cell_type": "code",
   "execution_count": 1,
   "metadata": {},
   "outputs": [],
   "source": [
    "import os\n",
    "import re\n",
    "import yaml\n",
    "import aiger\n",
    "from pysat.formula import CNF\n",
    "from yaml import CLoader as Loader, CDumper as Dumper\n",
    "from collections import defaultdict\n",
    "from aiger_sat import SolverWrapper\n",
    "from pysat.solvers import Glucose3"
   ]
  },
  {
   "cell_type": "markdown",
   "metadata": {},
   "source": [
    "### Parse BThreads yaml"
   ]
  },
  {
   "cell_type": "code",
   "execution_count": 2,
   "metadata": {},
   "outputs": [
    {
     "data": {
      "text/plain": [
       "['bt1.yaml', 'bt3.yaml', 'bt2.yaml']"
      ]
     },
     "execution_count": 2,
     "metadata": {},
     "output_type": "execute_result"
    }
   ],
   "source": [
    "r = re.compile(\"bt\\d.yaml\")\n",
    "bthreads_files = list(filter(r.match, os.listdir('.')))\n",
    "bthreads_files"
   ]
  },
  {
   "cell_type": "code",
   "execution_count": 3,
   "metadata": {},
   "outputs": [],
   "source": [
    "bt_dict = dict()\n",
    "bthreads = dict()\n",
    "for bt_file in bthreads_files:\n",
    "    with open(bt_file, 'r') as bt_yaml:\n",
    "        bt_dict[bt_file.split('.')[0]] = yaml.load(bt_yaml, Loader=Loader)\n",
    "# bt_dict"
   ]
  },
  {
   "cell_type": "code",
   "execution_count": 4,
   "metadata": {},
   "outputs": [],
   "source": [
    "INITIALS = set()\n",
    "EVENTS = set()\n",
    "STATES = set()\n",
    "BLOCKED = defaultdict(list)\n",
    "REQUESTED = defaultdict(list)\n",
    "TIME = [i for i in range(3)]\n",
    "TRANSITIONS = set()\n",
    "for bt in bt_dict:\n",
    "    INITIALS.add(f\"{bt}_{bt_dict[bt]['initial']}\")\n",
    "    for step in bt_dict[bt]['states']:\n",
    "        step_id = f\"{bt}_{step['id']}\"\n",
    "        for key, values in step.items():\n",
    "            if key == 'id':\n",
    "                STATES.add(step_id)\n",
    "            if key in ('R', 'W', 'B'):\n",
    "                for val in values:\n",
    "                    EVENTS.add(val)\n",
    "              \n",
    "        if len(step['B']) > 0:\n",
    "            BLOCKED[step_id].extend(step['B'])\n",
    "        if len(step['R']) > 0:\n",
    "            REQUESTED[step_id].extend(step['R'])\n",
    "    for t in bt_dict[bt]['transitions']:\n",
    "        TRANSITIONS.add((f\"{bt}_state_{t['source']}\",f\"{bt}_state_{t['target']}\",t['event']))"
   ]
  },
  {
   "cell_type": "code",
   "execution_count": 5,
   "metadata": {},
   "outputs": [
    {
     "data": {
      "text/plain": [
       "{'bt1_state_0', 'bt2_state_0', 'bt3_state_0'}"
      ]
     },
     "execution_count": 5,
     "metadata": {},
     "output_type": "execute_result"
    }
   ],
   "source": [
    "INITIALS"
   ]
  },
  {
   "cell_type": "code",
   "execution_count": 6,
   "metadata": {},
   "outputs": [
    {
     "data": {
      "text/plain": [
       "{'bt1_state_0',\n",
       " 'bt1_state_1',\n",
       " 'bt1_state_2',\n",
       " 'bt1_state_3',\n",
       " 'bt2_state_0',\n",
       " 'bt2_state_1',\n",
       " 'bt2_state_2',\n",
       " 'bt2_state_3',\n",
       " 'bt3_state_0',\n",
       " 'bt3_state_1',\n",
       " 'bt3_state_2',\n",
       " 'bt3_state_3'}"
      ]
     },
     "execution_count": 6,
     "metadata": {},
     "output_type": "execute_result"
    }
   ],
   "source": [
    "STATES "
   ]
  },
  {
   "cell_type": "code",
   "execution_count": 7,
   "metadata": {},
   "outputs": [
    {
     "data": {
      "text/plain": [
       "{'g1', 'g2', 'g3', 'h1', 'h2', 'h3', 'o1', 'o2', 'o3'}"
      ]
     },
     "execution_count": 7,
     "metadata": {},
     "output_type": "execute_result"
    }
   ],
   "source": [
    "EVENTS "
   ]
  },
  {
   "cell_type": "code",
   "execution_count": 8,
   "metadata": {},
   "outputs": [
    {
     "data": {
      "text/plain": [
       "defaultdict(list,\n",
       "            {'bt3_state_1': ['o1'],\n",
       "             'bt3_state_2': ['o2'],\n",
       "             'bt3_state_3': ['o3'],\n",
       "             'bt2_state_1': ['o1'],\n",
       "             'bt2_state_2': ['o2'],\n",
       "             'bt2_state_3': ['o3']})"
      ]
     },
     "execution_count": 8,
     "metadata": {},
     "output_type": "execute_result"
    }
   ],
   "source": [
    "BLOCKED "
   ]
  },
  {
   "cell_type": "code",
   "execution_count": 9,
   "metadata": {},
   "outputs": [
    {
     "data": {
      "text/plain": [
       "defaultdict(list,\n",
       "            {'bt1_state_0': ['h1', 'h2', 'h3'],\n",
       "             'bt1_state_1': ['g1', 'g2', 'g3'],\n",
       "             'bt1_state_2': ['o1', 'o2', 'o3']})"
      ]
     },
     "execution_count": 9,
     "metadata": {},
     "output_type": "execute_result"
    }
   ],
   "source": [
    "REQUESTED"
   ]
  },
  {
   "cell_type": "code",
   "execution_count": 10,
   "metadata": {},
   "outputs": [
    {
     "data": {
      "text/plain": [
       "[0, 1, 2]"
      ]
     },
     "execution_count": 10,
     "metadata": {},
     "output_type": "execute_result"
    }
   ],
   "source": [
    "TIME"
   ]
  },
  {
   "cell_type": "code",
   "execution_count": 11,
   "metadata": {},
   "outputs": [
    {
     "data": {
      "text/plain": [
       "{('bt1_state_0', 'bt1_state_1', 'h1'),\n",
       " ('bt1_state_0', 'bt1_state_1', 'h2'),\n",
       " ('bt1_state_0', 'bt1_state_1', 'h3'),\n",
       " ('bt1_state_1', 'bt1_state_2', 'g1'),\n",
       " ('bt1_state_1', 'bt1_state_2', 'g2'),\n",
       " ('bt1_state_1', 'bt1_state_2', 'g3'),\n",
       " ('bt1_state_2', 'bt1_state_3', 'o1'),\n",
       " ('bt1_state_2', 'bt1_state_3', 'o2'),\n",
       " ('bt1_state_2', 'bt1_state_3', 'o3'),\n",
       " ('bt2_state_0', 'bt2_state_1', 'h1'),\n",
       " ('bt2_state_0', 'bt2_state_2', 'h2'),\n",
       " ('bt2_state_0', 'bt2_state_3', 'h3'),\n",
       " ('bt3_state_0', 'bt3_state_1', 'g1'),\n",
       " ('bt3_state_0', 'bt3_state_2', 'g2'),\n",
       " ('bt3_state_0', 'bt3_state_3', 'g3')}"
      ]
     },
     "execution_count": 11,
     "metadata": {},
     "output_type": "execute_result"
    }
   ],
   "source": [
    "TRANSITIONS"
   ]
  },
  {
   "cell_type": "markdown",
   "metadata": {},
   "source": [
    "### Literals creation"
   ]
  },
  {
   "cell_type": "code",
   "execution_count": 12,
   "metadata": {},
   "outputs": [],
   "source": [
    "atoms = dict()\n",
    "def get_atom(name):\n",
    "    if name not in atoms:\n",
    "        atoms[name] = aiger.atom(name)\n",
    "    return atoms[name]"
   ]
  },
  {
   "cell_type": "markdown",
   "metadata": {},
   "source": [
    "1. $\\forall t \\colon  \\oplus_{e\\in E}(triggered(e,t))$"
   ]
  },
  {
   "cell_type": "code",
   "execution_count": 13,
   "metadata": {},
   "outputs": [],
   "source": [
    "def unique_event(events=EVENTS , time=TIME):\n",
    "    formula = True\n",
    "    for t in time:\n",
    "        triggered = [get_atom(f'triggered_{e}_at_{t}') for e in events]\n",
    "        clause = False\n",
    "\n",
    "        for tr in triggered:\n",
    "            c = tr\n",
    "            for ttr in triggered:\n",
    "                if tr is not ttr:\n",
    "                    c = c & ~ttr\n",
    "            clause = c | clause\n",
    "        formula = clause & formula\n",
    "    return formula\n",
    "  "
   ]
  },
  {
   "cell_type": "markdown",
   "metadata": {},
   "source": [
    "2. $\\forall t,e \\colon  triggered(e,t) \\Rightarrow requested(e,t) \\wedge \\neg blocked(e,t)$\n",
    " "
   ]
  },
  {
   "cell_type": "code",
   "execution_count": 14,
   "metadata": {},
   "outputs": [],
   "source": [
    "def bp(events=EVENTS , time=TIME):\n",
    "    literals = [(get_atom(f'requested_{e}_at_{t}'),\n",
    "                  get_atom(f'blocked_{e}_at_{t}'),\n",
    "                  get_atom(f'triggered_{e}_at_{t}')) for e in events for t in time]\n",
    "    formula = True\n",
    "    for r,b,t in literals:\n",
    "        formula = t.implies(r & ~b) & formula\n",
    "        \n",
    "    return formula"
   ]
  },
  {
   "cell_type": "markdown",
   "metadata": {},
   "source": [
    "3. $\\forall bt, t \\colon  \\oplus_{s\\in S(bt)}(at(s,t))$  "
   ]
  },
  {
   "cell_type": "code",
   "execution_count": 15,
   "metadata": {},
   "outputs": [],
   "source": [
    "def one_state_at_time(states=STATES , time=TIME):\n",
    "    literals = [get_atom(f'{s}_at_{t}') for s in states for t in time]\n",
    "    formula = False\n",
    "    for l in literals:\n",
    "        c = l\n",
    "        for ll in literals:\n",
    "            if l != ll:\n",
    "                c = c & ~ll\n",
    "        formula = c | formula\n",
    "    return formula"
   ]
  },
  {
   "cell_type": "markdown",
   "metadata": {},
   "source": [
    "4. \n",
    "$at(s,t) \\iff ( t=0 \\wedge s \\in INITIAL)  \\vee (at(s',t-1) \\wedge triggered(e,t-1) \\wedge (s',e,s)\\in  TRANSITIONS) \\vee  (at(s,t-1) \\wedge triggered(e,t-1) \\wedge \\{(s,e,s'): s' \\in S\\} \\cap  TRANSITIONS = \\emptyset) $"
   ]
  },
  {
   "cell_type": "code",
   "execution_count": 16,
   "metadata": {},
   "outputs": [],
   "source": [
    "def check_transitions(states=STATES , time=TIME, initials=INITIALS, transitions=TRANSITIONS, events=EVENTS):                   \n",
    "    formula = True\n",
    "    for t in time:\n",
    "        for s in states:\n",
    "            at_state = get_atom(f'{s}_at_{t}') \n",
    "            right_hand_formula = False\n",
    "            if t == 0:\n",
    "                right_hand_formula = s in initials\n",
    "            else:\n",
    "                events_not_waitfor_s = set(events)\n",
    "                for src, tar, e in transitions:     \n",
    "                    if tar == s:\n",
    "                        prev_at_state = get_atom(f'{src}_at_{t-1}')\n",
    "                        prev_triggered = get_atom(f'triggered_{e}_at_{t-1}')\n",
    "                        right_hand_formula = (prev_at_state &  prev_triggered)  | right_hand_formula\n",
    "                    if src == s:\n",
    "                        events_not_waitfor_s.remove(e)\n",
    "                for e in events_not_waitfor_s:\n",
    "                    prev_at_state = get_atom(f'{s}_at_{t-1}')\n",
    "                    prev_triggered = get_atom(f'triggered_{e}_at_{t-1}')\n",
    "                    right_hand_formula = (prev_at_state &  prev_triggered)  | right_hand_formula\n",
    "            formula = (at_state == right_hand_formula) & formula\n",
    "    return formula"
   ]
  },
  {
   "cell_type": "markdown",
   "metadata": {},
   "source": [
    "5. $requested(e,t) \\iff \\bigvee_{s \\in S} e \\in REQUESTED(s) \\wedge at(s,t)$"
   ]
  },
  {
   "cell_type": "code",
   "execution_count": 17,
   "metadata": {},
   "outputs": [],
   "source": [
    "def check_requested(events=EVENTS, states=STATES , time=TIME):\n",
    "    formula = True\n",
    "    for t in time:\n",
    "        clause = True\n",
    "        at_state = [(get_atom(f'{s}_at_{t}'), s) for s in states ]\n",
    "        requested = [(get_atom(f'requested_{e}_at_{t}'),e) for e in events]\n",
    "        for req, e in requested:\n",
    "            states_disjunction = False\n",
    "            for state, s in at_state:\n",
    "                if e in REQUESTED[s]:\n",
    "                    states_disjunction = state |states_disjunction\n",
    "            clause = (req == states_disjunction) & clause\n",
    "        formula = clause & formula\n",
    "    return formula"
   ]
  },
  {
   "cell_type": "markdown",
   "metadata": {},
   "source": [
    "6. $blocked(e,t) \\iff \\bigvee_{s \\in S} e \\in BLOCKED(s) \\wedge at(s,t)$  "
   ]
  },
  {
   "cell_type": "code",
   "execution_count": 18,
   "metadata": {},
   "outputs": [],
   "source": [
    "def check_blocked(events=EVENTS, states=STATES , time=TIME):\n",
    "    formula = True\n",
    "    for t in time:\n",
    "        clause = True\n",
    "        at_state = [(get_atom(f'{s}_at_{t}'), s) for s in states]\n",
    "        blocked = [(get_atom(f'blocked_{e}_at_{t}'),e) for e in events]\n",
    "        for block, e in blocked:\n",
    "            states_disjunction = False\n",
    "            for state, s in at_state:\n",
    "                if e in BLOCKED[s]:\n",
    "                    states_disjunction = state |states_disjunction\n",
    "            clause = (block ==states_disjunction) & clause\n",
    "        formula = clause & formula\n",
    "    return formula"
   ]
  },
  {
   "cell_type": "markdown",
   "metadata": {},
   "source": [
    "### Generate CNF"
   ]
  },
  {
   "cell_type": "code",
   "execution_count": 19,
   "metadata": {},
   "outputs": [],
   "source": [
    "formula = (\n",
    "    unique_event() \n",
    "    & bp() \n",
    "    & check_blocked()  \n",
    "    & check_requested()  \n",
    "    & check_transitions()  \n",
    "#     one_state_at_time() \n",
    ")\n",
    "cnf = CNF(from_aiger=(formula.aig))\n",
    "cnf.to_file('cnf_bp.cnf')"
   ]
  },
  {
   "cell_type": "markdown",
   "metadata": {},
   "source": [
    "### Analyze CNF"
   ]
  },
  {
   "cell_type": "code",
   "execution_count": 20,
   "metadata": {
    "scrolled": true
   },
   "outputs": [],
   "source": [
    "def get_solution(formula):\n",
    "    solver = SolverWrapper()  # defaults to Glucose4\n",
    "    solver.add_expr(formula)\n",
    "    assert solver.is_sat()\n",
    "    model = solver.get_model()\n",
    "    triggered = []\n",
    "    for t in TIME:\n",
    "        r = re.compile(f\"triggered_.*_at_{t}\")\n",
    "#         r = re.compile(f\"requested_.*_at_{t}\")\n",
    "#         r = re.compile(f\"(bt|triggered|blocked).*_at_{t}\")\n",
    "        for key, value in model.items():\n",
    "            if r.match(key):\n",
    "                if value:\n",
    "                    triggered.append(f'{key}')\n",
    "    assert formula(model)\n",
    "    return triggered"
   ]
  },
  {
   "cell_type": "code",
   "execution_count": 21,
   "metadata": {},
   "outputs": [
    {
     "name": "stdout",
     "output_type": "stream",
     "text": [
      "time: 0, event: h2\n",
      "time: 1, event: g3\n",
      "time: 2, event: o1\n"
     ]
    }
   ],
   "source": [
    "for e in get_solution(formula):\n",
    "    e = e.split('_')\n",
    "    print(f'time: {e[3]}, event: {e[1]}')"
   ]
  },
  {
   "cell_type": "markdown",
   "metadata": {},
   "source": [
    "### Create Queries"
   ]
  },
  {
   "cell_type": "code",
   "execution_count": 22,
   "metadata": {},
   "outputs": [],
   "source": [
    "queries = [(f'triggered_h{t}_at_0', get_atom(f'triggered_h{t}_at_0')) for t in range(1,4)]"
   ]
  },
  {
   "cell_type": "code",
   "execution_count": 23,
   "metadata": {},
   "outputs": [
    {
     "name": "stdout",
     "output_type": "stream",
     "text": [
      "\n",
      "constraints: triggered_h1_at_0\n",
      "\ttime: 0, event: h1\n",
      "\ttime: 1, event: g2\n",
      "\ttime: 2, event: o3\n",
      "****************************************\n",
      "\n",
      "constraints: triggered_h2_at_0\n",
      "\ttime: 0, event: h2\n",
      "\ttime: 1, event: g1\n",
      "\ttime: 2, event: o3\n",
      "****************************************\n",
      "\n",
      "constraints: triggered_h3_at_0\n",
      "\ttime: 0, event: h3\n",
      "\ttime: 1, event: g3\n",
      "\ttime: 2, event: o1\n",
      "****************************************\n"
     ]
    }
   ],
   "source": [
    "for q in queries:\n",
    "    print(f'\\nconstraints: {q[0]}')\n",
    "    for e in get_solution(formula & q[1]):\n",
    "        e = e.split('_')\n",
    "        print(f'\\ttime: {e[3]}, event: {e[1]}')\n",
    "    print('*'*40)    "
   ]
  }
 ],
 "metadata": {
  "kernelspec": {
   "display_name": "Python 3",
   "language": "python",
   "name": "python3"
  },
  "language_info": {
   "codemirror_mode": {
    "name": "ipython",
    "version": 3
   },
   "file_extension": ".py",
   "mimetype": "text/x-python",
   "name": "python",
   "nbconvert_exporter": "python",
   "pygments_lexer": "ipython3",
   "version": "3.8.5"
  }
 },
 "nbformat": 4,
 "nbformat_minor": 4
}

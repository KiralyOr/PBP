{
 "cells": [
  {
   "cell_type": "markdown",
   "metadata": {},
   "source": [
    "# Monty Hall problem\n",
    "## Probabilistic programming model analysis for ascending door number"
   ]
  },
  {
   "cell_type": "code",
   "execution_count": 1,
   "metadata": {},
   "outputs": [],
   "source": [
    "import timeit\n",
    "import pandas as pd\n",
    "%matplotlib inline\n",
    "import matplotlib.pyplot as plt\n",
    "plt.style.use('seaborn-whitegrid')\n",
    "import numpy as np\n",
    "import networkx as nx\n",
    "\n",
    "from problog import get_evaluatable\n",
    "from problog.program import PrologString\n",
    "from problog.formula import LogicFormula, LogicDAG\n",
    "from problog.ddnnf_formula import DDNNF\n",
    "from problog.cnf_formula import CNF\n"
   ]
  },
  {
   "cell_type": "markdown",
   "metadata": {},
   "source": [
    "### import model problog model with embedded BP"
   ]
  },
  {
   "cell_type": "code",
   "execution_count": 2,
   "metadata": {},
   "outputs": [],
   "source": [
    "with open('modelT.pl') as model:\n",
    "    m = model.read()"
   ]
  },
  {
   "cell_type": "code",
   "execution_count": 3,
   "metadata": {},
   "outputs": [],
   "source": [
    "lfs = []\n",
    "dags = []\n",
    "cnfs = []"
   ]
  },
  {
   "cell_type": "markdown",
   "metadata": {},
   "source": [
    "### Evaluate model for door nubmer between $3$ to $11$"
   ]
  },
  {
   "cell_type": "code",
   "execution_count": 4,
   "metadata": {},
   "outputs": [
    {
     "name": "stdout",
     "output_type": "stream",
     "text": [
      "{event(0,h(3)): 0.6666666666666669, event(0,h(1)): 0.3333333333333329, event(0,h(2)): 0.0}\n",
      "{event(0,h(4)): 0.37500000000000017, event(0,h(3)): 0.37500000000000017, event(0,h(1)): 0.24999999999999983, event(0,h(2)): 0.0}\n",
      "{event(0,h(1)): 0.20000000000000007, event(0,h(4)): 0.2666666666666665, event(0,h(5)): 0.2666666666666665, event(0,h(3)): 0.2666666666666662, event(0,h(2)): 0.0}\n",
      "{event(0,h(6)): 0.20833333333333323, event(0,h(1)): 0.16666666666666705, event(0,h(5)): 0.20833333333333323, event(0,h(4)): 0.20833333333333307, event(0,h(3)): 0.20833333333333323, event(0,h(2)): 0.0}\n",
      "{event(0,h(3)): 0.1714285714285712, event(0,h(1)): 0.14285714285714315, event(0,h(7)): 0.1714285714285715, event(0,h(6)): 0.1714285714285715, event(0,h(5)): 0.1714285714285712, event(0,h(4)): 0.1714285714285712, event(0,h(2)): 0.0}\n",
      "{event(0,h(3)): 0.14583333333333365, event(0,h(7)): 0.1458333333333334, event(0,h(8)): 0.1458333333333334, event(0,h(4)): 0.1458333333333334, event(0,h(6)): 0.14583333333333312, event(0,h(5)): 0.1458333333333334, event(0,h(1)): 0.12499999999999986, event(0,h(2)): 0.0}\n",
      "{event(0,h(1)): 0.11111111111111094, event(0,h(5)): 0.12698412698412692, event(0,h(8)): 0.12698412698412703, event(0,h(9)): 0.12698412698412703, event(0,h(7)): 0.1269841269841267, event(0,h(6)): 0.1269841269841268, event(0,h(4)): 0.12698412698412714, event(0,h(3)): 0.12698412698412703, event(0,h(2)): 0.0}\n",
      "{event(0,h(3)): 0.11250000000000002, event(0,h(1)): 0.0999999999999998, event(0,h(4)): 0.11250000000000002, event(0,h(5)): 0.11250000000000021, event(0,h(7)): 0.11250000000000011, event(0,h(10)): 0.11249999999999992, event(0,h(9)): 0.11249999999999992, event(0,h(8)): 0.11249999999999992, event(0,h(6)): 0.11250000000000011, event(0,h(2)): 0.0}\n",
      "{event(0,h(3)): 0.10101010101010095, event(0,h(8)): 0.10101010101010105, event(0,h(6)): 0.10101010101010113, event(0,h(5)): 0.10101010101010113, event(0,h(9)): 0.10101010101010087, event(0,h(10)): 0.10101010101010105, event(0,h(4)): 0.10101010101010113, event(0,h(11)): 0.10101010101010105, event(0,h(7)): 0.10101010101010105, event(0,h(1)): 0.09090909090909106, event(0,h(2)): 0.0}\n"
     ]
    }
   ],
   "source": [
    "times = []\n",
    "door_num = range(3, 12)\n",
    "for i in door_num:\n",
    "    start = timeit.default_timer()\n",
    "    model = m.format(door_num=i)\n",
    "    p = PrologString(model)\n",
    "    formula = get_evaluatable().create_from(p)\n",
    "    print(formula.evaluate())\n",
    "    stop = timeit.default_timer()\n",
    "    times.append(stop - start)"
   ]
  },
  {
   "cell_type": "code",
   "execution_count": 5,
   "metadata": {},
   "outputs": [],
   "source": [
    "for i in door_num:\n",
    "    model = m.format(door_num=i)\n",
    "    p = PrologString(model)\n",
    "    lf = LogicFormula.create_from(p)\n",
    "    lfs.append(lf)\n",
    "    dag = LogicDAG.create_from(lf)\n",
    "    dags.append(dag)\n",
    "    cnf = CNF.create_from(dag)\n",
    "    cnfs.append(cnf)\n",
    " "
   ]
  },
  {
   "cell_type": "code",
   "execution_count": 6,
   "metadata": {},
   "outputs": [
    {
     "data": {
      "text/html": [
       "<div>\n",
       "<style scoped>\n",
       "    .dataframe tbody tr th:only-of-type {\n",
       "        vertical-align: middle;\n",
       "    }\n",
       "\n",
       "    .dataframe tbody tr th {\n",
       "        vertical-align: top;\n",
       "    }\n",
       "\n",
       "    .dataframe thead th {\n",
       "        text-align: right;\n",
       "    }\n",
       "</style>\n",
       "<table border=\"1\" class=\"dataframe\">\n",
       "  <thead>\n",
       "    <tr style=\"text-align: right;\">\n",
       "      <th></th>\n",
       "      <th>Number Of Doors</th>\n",
       "      <th>Solving time</th>\n",
       "      <th>Lines in LF</th>\n",
       "    </tr>\n",
       "  </thead>\n",
       "  <tbody>\n",
       "    <tr>\n",
       "      <th>0</th>\n",
       "      <td>3</td>\n",
       "      <td>0.408666</td>\n",
       "      <td>48</td>\n",
       "    </tr>\n",
       "    <tr>\n",
       "      <th>1</th>\n",
       "      <td>4</td>\n",
       "      <td>0.387657</td>\n",
       "      <td>86</td>\n",
       "    </tr>\n",
       "    <tr>\n",
       "      <th>2</th>\n",
       "      <td>5</td>\n",
       "      <td>0.667958</td>\n",
       "      <td>155</td>\n",
       "    </tr>\n",
       "    <tr>\n",
       "      <th>3</th>\n",
       "      <td>6</td>\n",
       "      <td>1.141714</td>\n",
       "      <td>285</td>\n",
       "    </tr>\n",
       "    <tr>\n",
       "      <th>4</th>\n",
       "      <td>7</td>\n",
       "      <td>2.695006</td>\n",
       "      <td>536</td>\n",
       "    </tr>\n",
       "    <tr>\n",
       "      <th>5</th>\n",
       "      <td>8</td>\n",
       "      <td>8.097147</td>\n",
       "      <td>1029</td>\n",
       "    </tr>\n",
       "    <tr>\n",
       "      <th>6</th>\n",
       "      <td>9</td>\n",
       "      <td>29.334891</td>\n",
       "      <td>2001</td>\n",
       "    </tr>\n",
       "    <tr>\n",
       "      <th>7</th>\n",
       "      <td>10</td>\n",
       "      <td>114.841924</td>\n",
       "      <td>3935</td>\n",
       "    </tr>\n",
       "    <tr>\n",
       "      <th>8</th>\n",
       "      <td>11</td>\n",
       "      <td>438.986992</td>\n",
       "      <td>7790</td>\n",
       "    </tr>\n",
       "  </tbody>\n",
       "</table>\n",
       "</div>"
      ],
      "text/plain": [
       "   Number Of Doors  Solving time  Lines in LF\n",
       "0                3      0.408666           48\n",
       "1                4      0.387657           86\n",
       "2                5      0.667958          155\n",
       "3                6      1.141714          285\n",
       "4                7      2.695006          536\n",
       "5                8      8.097147         1029\n",
       "6                9     29.334891         2001\n",
       "7               10    114.841924         3935\n",
       "8               11    438.986992         7790"
      ]
     },
     "execution_count": 6,
     "metadata": {},
     "output_type": "execute_result"
    }
   ],
   "source": [
    "pd.DataFrame(data={'Number Of Doors': door_num,\n",
    "                   'Solving time': times,\n",
    "                  'Lines in LF':[len(str(lf).split('\\n')) for lf in lfs]})"
   ]
  },
  {
   "cell_type": "code",
   "execution_count": 7,
   "metadata": {},
   "outputs": [
    {
     "name": "stdout",
     "output_type": "stream",
     "text": [
      "1: atom(identifier=(163, (0, 0.333333333333333, [0.333333333333333, 0.333333333333333], h(1), [h(2), h(3)]) {{}}, 0), probability=0.333333333333333, group=(163, (0, 0.333333333333333, [0.333333333333333, 0.333333333333333], h(1), [h(2), h(3)]) {{}}), name=event(0,h(1)), source=None)\n",
      "2: atom(identifier=(163, (0, 0.5, [0.333333333333333], h(2), [h(3)]) {{}}, 0), probability=0.5, group=(163, (0, 0.5, [0.333333333333333], h(2), [h(3)]) {{}}), name=choice(163,0,_lists_sw_p(0,0.5,[0.333333333333333],h(2),[h(3)]),0,0.5,[0.333333333333333],h(2),[h(3)]), source=None)\n",
      "3: conj(children=(2, -1), name=event(0,h(2)))\n",
      "4: conj(children=(-1, -2), name=event(0,h(3)))\n",
      "5: disj(children=(1, 3, 4), name=None)\n",
      "6: atom(identifier=(163, (1, 0.333333333333333, [0.333333333333333, 0.333333333333333], g(1), [g(2), g(3)]) {{}}, 0), probability=0.333333333333333, group=(163, (1, 0.333333333333333, [0.333333333333333, 0.333333333333333], g(1), [g(2), g(3)]) {{}}), name=choice(163,0,_lists_sw_p(1,0.333333333333333,[0.333333333333333, 0.333333333333333],g(1),[g(2), g(3)]),1,0.333333333333333,[0.333333333333333, 0.333333333333333],g(1),[g(2), g(3)]), source=None)\n",
      "7: atom(identifier=(163, (1, 0.5, [0.333333333333333], g(2), [g(3)]) {{}}, 0), probability=0.5, group=(163, (1, 0.5, [0.333333333333333], g(2), [g(3)]) {{}}), name=choice(163,0,_lists_sw_p(1,0.5,[0.333333333333333],g(2),[g(3)]),1,0.5,[0.333333333333333],g(2),[g(3)]), source=None)\n",
      "8: conj(children=(5, 6), name=event(1,g(1)))\n",
      "9: conj(children=(-6, 7), name=None)\n",
      "10: conj(children=(-7, -6), name=None)\n",
      "11: conj(children=(9, 5), name=None)\n",
      "12: conj(children=(10, 5), name=None)\n",
      "13: conj(children=(8, 5), name=None)\n",
      "14: conj(children=(11, 5), name=None)\n",
      "15: conj(children=(12, 5), name=None)\n",
      "16: disj(children=(13, 14, 15), name=None)\n",
      "17: disj(children=(8, 11, 12), name=None)\n",
      "18: disj(children=(8, 1), name=None)\n",
      "19: conj(children=(16, -18), name=None)\n",
      "20: disj(children=(11, 3), name=None)\n",
      "21: conj(children=(16, -20), name=None)\n",
      "22: disj(children=(4, 12), name=None)\n",
      "23: conj(children=(16, -22), name=None)\n",
      "24: conj(children=(19, 21, 23), name=None)\n",
      "25: conj(children=(-19, 21, 23), name=None)\n",
      "26: conj(children=(-21, 19, 23), name=None)\n",
      "27: conj(children=(-21, -19, 23), name=None)\n",
      "28: conj(children=(-23, 19, 21), name=None)\n",
      "29: conj(children=(-19, 21, -23), name=None)\n",
      "30: conj(children=(-23, 19, -21), name=None)\n",
      "31: atom(identifier=(163, (2, 0.333333333333333, [0.333333333333333, 0.333333333333333], o(1), [o(2), o(3)]) {{}}, 0), probability=0.333333333333333, group=(163, (2, 0.333333333333333, [0.333333333333333, 0.333333333333333], o(1), [o(2), o(3)]) {{}}), name=choice(163,0,_lists_sw_p(2,0.333333333333333,[0.333333333333333, 0.333333333333333],o(1),[o(2), o(3)]),2,0.333333333333333,[0.333333333333333, 0.333333333333333],o(1),[o(2), o(3)]), source=None)\n",
      "32: atom(identifier=(163, (2, 0.5, [0.333333333333333], o(2), [o(3)]) {{}}, 0), probability=0.5, group=(163, (2, 0.5, [0.333333333333333], o(2), [o(3)]) {{}}), name=choice(163,0,_lists_sw_p(2,0.5,[0.333333333333333],o(2),[o(3)]),2,0.5,[0.333333333333333],o(2),[o(3)]), source=None)\n",
      "33: conj(children=(32, -31), name=None)\n",
      "34: conj(children=(24, 33), name=None)\n",
      "35: atom(identifier=(163, (2, 0.5, [0.5], o(2), [o(3)]) {{}}, 0), probability=0.5, group=(163, (2, 0.5, [0.5], o(2), [o(3)]) {{}}), name=choice(163,0,_lists_sw_p(2,0.5,[0.5],o(2),[o(3)]),2,0.5,[0.5],o(2),[o(3)]), source=None)\n",
      "36: conj(children=(25, 35), name=None)\n",
      "37: atom(identifier=(163, (2, 0.5, [0.5], o(1), [o(3)]) {{}}, 0), probability=0.5, group=(163, (2, 0.5, [0.5], o(1), [o(3)]) {{}}), name=choice(163,0,_lists_sw_p(2,0.5,[0.5],o(1),[o(3)]),2,0.5,[0.5],o(1),[o(3)]), source=None)\n",
      "38: atom(identifier=(163, (2, 0.5, [0.5], o(1), [o(2)]) {{}}, 0), probability=0.5, group=(163, (2, 0.5, [0.5], o(1), [o(2)]) {{}}), name=choice(163,0,_lists_sw_p(2,0.5,[0.5],o(1),[o(2)]),2,0.5,[0.5],o(1),[o(2)]), source=None)\n",
      "39: conj(children=(-38, 28), name=None)\n",
      "40: disj(children=(34, 36, 29, 39), name=event(2,o(2)))\n",
      "Queries : \n",
      "* event(0,h(1)) : 1 [query]\n",
      "* event(0,h(2)) : 3 [query]\n",
      "* event(0,h(3)) : 4 [query]\n",
      "Evidence : \n",
      "* event(1,g(1)) : 8\n",
      "* event(2,o(2)) : 40\n",
      "\n"
     ]
    }
   ],
   "source": [
    "print(lfs[0])"
   ]
  },
  {
   "cell_type": "code",
   "execution_count": 8,
   "metadata": {},
   "outputs": [
    {
     "data": {
      "image/png": "[encoded data removed]",
      "text/plain": [
       "<Figure size 640x480 with 1 Axes>"
      ]
     },
     "metadata": {},
     "output_type": "display_data"
    }
   ],
   "source": [
    "plt.figure(num=None, figsize=(8, 6), dpi=80, facecolor='w', edgecolor='k')\n",
    "plt.plot(door_num, times)\n",
    "plt.title('Monty Hall ascending door number',fontsize=16)\n",
    "plt.ylabel('Time (sec)',fontsize=14)\n",
    "plt.xlabel('# of doors ',fontsize=14)\n",
    "plt.savefig('Monty Hall ascending door number.png')\n",
    "plt.show()\n"
   ]
  },
  {
   "cell_type": "code",
   "execution_count": 9,
   "metadata": {},
   "outputs": [
    {
     "data": {
      "image/png": "[encoded data removed]",
      "text/plain": [
       "<Figure size 432x288 with 1 Axes>"
      ]
     },
     "metadata": {},
     "output_type": "display_data"
    }
   ],
   "source": [
    "G = nx.DiGraph()\n",
    "G.add_edges_from(\n",
    "    [('A', 'B'), ('A', 'C'), ('D', 'B'), ('E', 'C'), ('E', 'F'),\n",
    "     ('B', 'H'), ('B', 'G'), ('B', 'F'), ('C', 'G')])\n",
    "\n",
    "val_map = {'A': 1.0,\n",
    "           'D': 0.5714285714285714,\n",
    "           'H': 0.0}\n",
    "\n",
    "values = [val_map.get(node, 0.25) for node in G.nodes()]\n",
    "\n",
    "# Specify the edges you want here\n",
    "red_edges = [('A', 'C'), ('E', 'C')]\n",
    "edge_colours = ['black' if not edge in red_edges else 'red'\n",
    "                for edge in G.edges()]\n",
    "black_edges = [edge for edge in G.edges() if edge not in red_edges]\n",
    "\n",
    "# Need to create a layout when doing\n",
    "# separate calls to draw nodes and edges\n",
    "pos = nx.spring_layout(G)\n",
    "nx.draw_networkx_nodes(G, pos, cmap=plt.get_cmap('jet'), \n",
    "                       node_color = values, node_size = 500)\n",
    "nx.draw_networkx_labels(G, pos)\n",
    "nx.draw_networkx_edges(G, pos, edgelist=red_edges, edge_color='r', arrows=True)\n",
    "nx.draw_networkx_edges(G, pos, edgelist=black_edges, arrows=False)\n",
    "plt.show()\n"
   ]
  }
 ],
 "metadata": {
  "kernelspec": {
   "display_name": "Python 3",
   "language": "python",
   "name": "python3"
  },
  "language_info": {
   "codemirror_mode": {
    "name": "ipython",
    "version": 3
   },
   "file_extension": ".py",
   "mimetype": "text/x-python",
   "name": "python",
   "nbconvert_exporter": "python",
   "pygments_lexer": "ipython3",
   "version": "3.7.6"
  }
 },
 "nbformat": 4,
 "nbformat_minor": 4
}

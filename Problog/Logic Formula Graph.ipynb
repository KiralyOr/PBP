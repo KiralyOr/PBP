{
 "cells": [
  {
   "cell_type": "markdown",
   "metadata": {},
   "source": [
    "# likes(john,tom) example\n"
   ]
  },
  {
   "cell_type": "code",
   "execution_count": 5,
   "metadata": {},
   "outputs": [],
   "source": [
    "from problog import get_evaluatable\n",
    "from problog.program import PrologString\n",
    "from problog.formula import LogicFormula, LogicDAG\n",
    "from problog.ddnnf_formula import DDNNF\n",
    "from problog.cnf_formula import CNF\n",
    "import timeit\n",
    "import pandas as pd\n",
    "%matplotlib inline\n",
    "import matplotlib.pyplot as plt\n",
    "plt.style.use('seaborn-whitegrid')\n",
    "import numpy as np\n",
    "import re\n",
    "import networkx as nx"
   ]
  },
  {
   "cell_type": "code",
   "execution_count": 6,
   "metadata": {},
   "outputs": [],
   "source": [
    "with open('model2.pl') as model:\n",
    "    m = model.read()"
   ]
  },
  {
   "cell_type": "code",
   "execution_count": 7,
   "metadata": {},
   "outputs": [],
   "source": [
    "lfs = []\n",
    "dags = []\n",
    "cnfs = []"
   ]
  },
  {
   "cell_type": "code",
   "execution_count": 8,
   "metadata": {},
   "outputs": [
    {
     "name": "stdout",
     "output_type": "stream",
     "text": [
      "{likes(john,tom): 0.24000000000000005}\n"
     ]
    }
   ],
   "source": [
    "times = []\n",
    "door_num = range(1, 2)\n",
    "for i in door_num:\n",
    "    start = timeit.default_timer()\n",
    "    model = m\n",
    "    p = PrologString(model)\n",
    "    formula = get_evaluatable().create_from(p)\n",
    "    print(formula.evaluate())\n",
    "    stop = timeit.default_timer()\n",
    "    times.append(stop - start)"
   ]
  },
  {
   "cell_type": "code",
   "execution_count": 9,
   "metadata": {},
   "outputs": [
    {
     "name": "stdout",
     "output_type": "stream",
     "text": [
      "{likes(john,tom): 0.24000000000000005}\n"
     ]
    }
   ],
   "source": [
    "for i in door_num:\n",
    "    model = m.format(door_num=i)\n",
    "    p = PrologString(model)\n",
    "    lf = LogicFormula.create_from(p)\n",
    "    lfs.append(lf)\n",
    "    dag = LogicDAG.create_from(lf)\n",
    "    dags.append(dag)\n",
    "    cnf = CNF.create_from(dag)\n",
    "    cnfs.append(cnf)\n",
    "    ddnnf = DDNNF.create_from(cnf)\n",
    "    print(ddnnf.evaluate())\n",
    " "
   ]
  },
  {
   "cell_type": "code",
   "execution_count": 10,
   "metadata": {},
   "outputs": [
    {
     "name": "stdout",
     "output_type": "stream",
     "text": [
      "1: atom(identifier=4, probability=True, group=None, name=None, source=None)\n",
      "2: atom(identifier=2, probability=0.5, group=None, name=friendof(pedro,tom), source=None)\n",
      "3: atom(identifier=3, probability=1.0, group=None, name=choice(0,0,likes(pedro,tom),pedro,tom), source=None)\n",
      "4: atom(identifier=6, probability=True, group=None, name=None, source=None)\n",
      "5: atom(identifier=5, probability=0.5, group=None, name=friendof(mary,pedro), source=None)\n",
      "6: atom(identifier=8, probability=True, group=None, name=None, source=None)\n",
      "7: atom(identifier=7, probability=0.8, group=None, name=choice(10,0,likes(mary,tom),mary,tom,pedro), source=None)\n",
      "8: atom(identifier=9, probability=0.5, group=None, name=friendof(mary,tom), source=None)\n",
      "9: atom(identifier=11, probability=True, group=None, name=None, source=None)\n",
      "10: atom(identifier=10, probability=1.0, group=None, name=choice(0,0,likes(mary,tom),mary,tom), source=None)\n",
      "11: atom(identifier=12, probability=True, group=None, name=None, source=None)\n",
      "12: atom(identifier=1, probability=0.5, group=None, name=friendof(john,mary), source=None)\n",
      "13: atom(identifier=13, probability=True, group=None, name=None, source=None)\n",
      "14: atom(identifier=15, probability=True, group=None, name=likes(john,tom), source=None)\n",
      "15: atom(identifier=14, probability=0.8, group=None, name=choice(10,0,likes(john,tom),john,tom,mary), source=None)\n",
      "16: conj(children=(-14, -15), name=None)\n",
      "17: conj(children=(14, 15), name=None)\n",
      "18: disj(children=(16, 17), name=None)\n",
      "19: conj(children=(12, 13, 18), name=None)\n",
      "20: conj(children=(-13, -12, -14), name=None)\n",
      "21: disj(children=(15, -15), name=None)\n",
      "22: conj(children=(20, 21), name=None)\n",
      "23: disj(children=(19, 22), name=None)\n",
      "24: conj(children=(8, 9, 10, 11, 23), name=None)\n",
      "25: conj(children=(8, -10), name=None)\n",
      "26: disj(children=(-10, 10), name=None)\n",
      "27: conj(children=(-8, 26), name=None)\n",
      "28: disj(children=(25, 27), name=None)\n",
      "29: conj(children=(-13, -11, -9, -14, 28), name=None)\n",
      "30: disj(children=(15, -15), name=None)\n",
      "31: disj(children=(12, -12), name=None)\n",
      "32: conj(children=(29, 30, 31), name=None)\n",
      "33: disj(children=(24, 32), name=None)\n",
      "34: conj(children=(-6, -7, 33), name=None)\n",
      "35: conj(children=(-9, 28), name=None)\n",
      "36: conj(children=(8, 9, 10), name=None)\n",
      "37: disj(children=(35, 36), name=None)\n",
      "38: conj(children=(6, 7, 11, 23, 37), name=None)\n",
      "39: disj(children=(34, 38), name=None)\n",
      "40: conj(children=(4, 5, 39), name=None)\n",
      "41: conj(children=(-6, -4, -5, 33), name=None)\n",
      "42: disj(children=(-7, 7), name=None)\n",
      "43: conj(children=(41, 42), name=None)\n",
      "44: disj(children=(40, 43), name=None)\n",
      "45: conj(children=(1, 2, 3, 44), name=None)\n",
      "46: conj(children=(2, -3), name=None)\n",
      "47: disj(children=(3, -3), name=None)\n",
      "48: conj(children=(-2, 47), name=None)\n",
      "49: disj(children=(46, 48), name=None)\n",
      "50: conj(children=(-6, -1, -4, 33, 49), name=None)\n",
      "51: disj(children=(5, -5), name=None)\n",
      "52: disj(children=(-7, 7), name=None)\n",
      "53: conj(children=(50, 51, 52), name=None)\n",
      "54: disj(children=(45, 53), name=None)\n",
      "Queries : \n",
      "* likes(john,tom) : 14 [query]\n",
      "\n"
     ]
    }
   ],
   "source": [
    "print(ddnnf)"
   ]
  },
  {
   "cell_type": "code",
   "execution_count": 11,
   "metadata": {},
   "outputs": [
    {
     "name": "stdout",
     "output_type": "stream",
     "text": [
      "1: atom(identifier=20, probability=0.5, group=None, name=friendof(john,mary), source=None)\n",
      "2: atom(identifier=22, probability=0.5, group=None, name=friendof(mary,tom), source=None)\n",
      "3: atom(identifier=(0, (mary, tom) {{}}, 0), probability=1.0, group=(0, (mary, tom) {{}}), name=choice(0,0,likes(mary,tom),mary,tom), source=None)\n",
      "4: conj(children=(2, 3), name=None)\n",
      "5: atom(identifier=21, probability=0.5, group=None, name=friendof(mary,pedro), source=None)\n",
      "6: atom(identifier=23, probability=0.5, group=None, name=friendof(pedro,tom), source=None)\n",
      "7: atom(identifier=(0, (pedro, tom) {{}}, 0), probability=1.0, group=(0, (pedro, tom) {{}}), name=choice(0,0,likes(pedro,tom),pedro,tom), source=None)\n",
      "8: conj(children=(6, 7), name=None)\n",
      "9: conj(children=(8, 5), name=None)\n",
      "10: atom(identifier=(10, (mary, tom, pedro) {{}}, 0), probability=0.8, group=(10, (mary, tom, pedro) {{}}), name=choice(10,0,likes(mary,tom),mary,tom,pedro), source=None)\n",
      "11: conj(children=(9, 10), name=None)\n",
      "12: disj(children=(11, 4), name=None)\n",
      "13: conj(children=(1, 12), name=None)\n",
      "14: atom(identifier=(10, (john, tom, mary) {{}}, 0), probability=0.8, group=(10, (john, tom, mary) {{}}), name=choice(10,0,likes(john,tom),john,tom,mary), source=None)\n",
      "15: conj(children=(13, 14), name=likes(john,tom))\n",
      "Queries : \n",
      "* likes(john,tom) : 15 [query]\n",
      "\n"
     ]
    }
   ],
   "source": [
    "print(lfs[0])"
   ]
  },
  {
   "cell_type": "code",
   "execution_count": 13,
   "metadata": {},
   "outputs": [
    {
     "name": "stdout",
     "output_type": "stream",
     "text": [
      "1: atom(identifier=20, probability=0.5, group=None, name=friendof(john,mary), source=None)\n",
      "2: atom(identifier=23, probability=0.5, group=None, name=friendof(pedro,tom), source=None)\n",
      "3: atom(identifier=(0, (pedro, tom) {{}}, 0), probability=1.0, group=(0, (pedro, tom) {{}}), name=choice(0,0,likes(pedro,tom),pedro,tom), source=None)\n",
      "4: conj(children=(2, 3), name=None)\n",
      "5: atom(identifier=21, probability=0.5, group=None, name=friendof(mary,pedro), source=None)\n",
      "6: conj(children=(4, 5), name=None)\n",
      "7: atom(identifier=(10, (mary, tom, pedro) {{}}, 0), probability=0.8, group=(10, (mary, tom, pedro) {{}}), name=choice(10,0,likes(mary,tom),mary,tom,pedro), source=None)\n",
      "8: conj(children=(6, 7), name=None)\n",
      "9: atom(identifier=22, probability=0.5, group=None, name=friendof(mary,tom), source=None)\n",
      "10: atom(identifier=(0, (mary, tom) {{}}, 0), probability=1.0, group=(0, (mary, tom) {{}}), name=choice(0,0,likes(mary,tom),mary,tom), source=None)\n",
      "11: conj(children=(9, 10), name=None)\n",
      "12: disj(children=(8, 11), name=None)\n",
      "13: conj(children=(1, 12), name=None)\n",
      "14: atom(identifier=(10, (john, tom, mary) {{}}, 0), probability=0.8, group=(10, (john, tom, mary) {{}}), name=choice(10,0,likes(john,tom),john,tom,mary), source=None)\n",
      "15: conj(children=(13, 14), name=likes(john,tom))\n",
      "Queries : \n",
      "* likes(john,tom) : 15 [query]\n",
      "\n"
     ]
    }
   ],
   "source": [
    "print(dags[0])"
   ]
  },
  {
   "cell_type": "code",
   "execution_count": 14,
   "metadata": {},
   "outputs": [
    {
     "name": "stdout",
     "output_type": "stream",
     "text": [
      "<problog.cnf_formula.CNF object at 0x0000028885D1ABC8>\n"
     ]
    }
   ],
   "source": [
    "print(cnfs[0])"
   ]
  },
  {
   "cell_type": "code",
   "execution_count": 56,
   "metadata": {},
   "outputs": [],
   "source": [
    "lfs_str = '''1: atom(identifier=20, probability=0.5, group=None, name=friendof(john,mary), source=None)\n",
    "2: atom(identifier=23, probability=0.5, group=None, name=friendof(pedro,tom), source=None)\n",
    "3: atom(identifier=(0, (pedro, tom) {{}}, 0), probability=1.0, group=(0, (pedro, tom) {{}}), name=choice(0,0,likes(pedro,tom),pedro,tom), source=None)\n",
    "4: conj(children=(2, 3), name=None)\n",
    "5: atom(identifier=21, probability=0.5, group=None, name=friendof(mary,pedro), source=None)\n",
    "6: conj(children=(4, 5), name=None)\n",
    "7: atom(identifier=(10, (mary, tom, pedro) {{}}, 0), probability=0.8, group=(10, (mary, tom, pedro) {{}}), name=choice(10,0,likes(mary,tom),mary,tom,pedro), source=None)\n",
    "8: conj(children=(6, 7), name=None)\n",
    "9: atom(identifier=22, probability=0.5, group=None, name=friendof(mary,tom), source=None)\n",
    "10: atom(identifier=(0, (mary, tom) {{}}, 0), probability=1.0, group=(0, (mary, tom) {{}}), name=choice(0,0,likes(mary,tom),mary,tom), source=None)\n",
    "11: conj(children=(9, 10), name=None)\n",
    "12: disj(children=(8, 11), name=None)\n",
    "13: conj(children=(1, 12), name=None)\n",
    "14: atom(identifier=(10, (john, tom, mary) {{}}, 0), probability=0.8, group=(10, (john, tom, mary) {{}}), name=choice(10,0,likes(john,tom),john,tom,mary), source=None)\n",
    "15: conj(children=(13, 14), name=likes(john,tom))'''"
   ]
  },
  {
   "cell_type": "code",
   "execution_count": 59,
   "metadata": {},
   "outputs": [],
   "source": [
    "lfs_list = lfs_str.split('\\n')\n",
    "lfs_row_id = [row.split(':') for row in lfs_list]\n",
    "for row in lfs_row_id:\n",
    "    row[0] = int(row[0])\n",
    "child_list = []\n",
    "for row in lfs_row_id:\n",
    "    if re.search('children', row[1]):\n",
    "        children = re.findall(r'\\d+', row[1])\n",
    "        child_list.append([row[0],children])"
   ]
  },
  {
   "cell_type": "code",
   "execution_count": 86,
   "metadata": {},
   "outputs": [
    {
     "data": {
      "text/plain": [
       "[('4', '2'),\n",
       " ('4', '3'),\n",
       " ('6', '4'),\n",
       " ('6', '5'),\n",
       " ('8', '6'),\n",
       " ('8', '7'),\n",
       " ('11', '9'),\n",
       " ('11', '10'),\n",
       " ('12', '8'),\n",
       " ('12', '11'),\n",
       " ('13', '1'),\n",
       " ('13', '12'),\n",
       " ('15', '13'),\n",
       " ('15', '14')]"
      ]
     },
     "execution_count": 86,
     "metadata": {},
     "output_type": "execute_result"
    }
   ],
   "source": [
    "edges = []\n",
    "for row in child_list:\n",
    "    for child in row[1]:\n",
    "        edges.append((str(row[0]),child))\n",
    "edges        "
   ]
  },
  {
   "cell_type": "code",
   "execution_count": 81,
   "metadata": {
    "scrolled": true
   },
   "outputs": [
    {
     "data": {
      "image/png": "[encoded data removed]",
      "text/plain": [
       "<Figure size 432x288 with 1 Axes>"
      ]
     },
     "metadata": {},
     "output_type": "display_data"
    }
   ],
   "source": [
    "G = nx.DiGraph()\n",
    "G.add_edges_from(edges)\n",
    "\n",
    "# Need to create a layout when doing\n",
    "# separate calls to draw nodes and edges\n",
    "pos = nx.spring_layout(G)\n",
    "nx.draw_networkx_nodes(G, pos, node_size = 1000)\n",
    "nx.draw_networkx_labels(G, pos)\n",
    "nx.draw_networkx_edges(G, pos, arrows=False)\n",
    "plt.show()"
   ]
  },
  {
   "cell_type": "code",
   "execution_count": 85,
   "metadata": {},
   "outputs": [
    {
     "data": {
      "text/plain": [
       "'likes(john,tom) example.gv.pdf'"
      ]
     },
     "execution_count": 85,
     "metadata": {},
     "output_type": "execute_result"
    }
   ],
   "source": [
    "from graphviz import Digraph\n",
    "\n",
    "g = Digraph('G', filename='likes(john,tom) example.gv')\n",
    "\n",
    "for e in edges:\n",
    "    g.edge(e[0],e[1])\n",
    "\n",
    "for node in lfs_row_id: \n",
    "    if node[1].split('name=')[1].split(', source=')[0] == 'None)':\n",
    "        label = str(node[0])\n",
    "    else:\n",
    "        label = f'{node[0]}:{node[1].split(\"name=\")[1].split(\", source=\")[0]}'    \n",
    "    g.node(str(node[0]),label=label)\n",
    "\n",
    "g.view()"
   ]
  }
 ],
 "metadata": {
  "kernelspec": {
   "display_name": "Python 3",
   "language": "python",
   "name": "python3"
  },
  "language_info": {
   "codemirror_mode": {
    "name": "ipython",
    "version": 3
   },
   "file_extension": ".py",
   "mimetype": "text/x-python",
   "name": "python",
   "nbconvert_exporter": "python",
   "pygments_lexer": "ipython3",
   "version": "3.7.6"
  }
 },
 "nbformat": 4,
 "nbformat_minor": 4
}

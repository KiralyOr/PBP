{
 "cells": [
  {
   "cell_type": "markdown",
   "metadata": {},
   "source": [
    "# Bayesian networks example\n"
   ]
  },
  {
   "cell_type": "code",
   "execution_count": 44,
   "metadata": {},
   "outputs": [],
   "source": [
    "from problog import get_evaluatable\n",
    "from problog.program import PrologString\n",
    "from problog.formula import LogicFormula, LogicDAG\n",
    "from problog.ddnnf_formula import DDNNF\n",
    "from problog.cnf_formula import CNF\n",
    "from problog.bdd_formula import BDD\n",
    "import timeit\n",
    "import pandas as pd\n",
    "%matplotlib inline\n",
    "import matplotlib.pyplot as plt\n",
    "plt.style.use('seaborn-whitegrid')\n",
    "import numpy as np\n",
    "import re\n",
    "import networkx as nx"
   ]
  },
  {
   "cell_type": "code",
   "execution_count": 45,
   "metadata": {},
   "outputs": [],
   "source": [
    "with open('model3.pl') as model:\n",
    "    m = model.read()"
   ]
  },
  {
   "cell_type": "code",
   "execution_count": 46,
   "metadata": {},
   "outputs": [],
   "source": [
    "lfs = []\n",
    "dags = []\n",
    "cnfs = []"
   ]
  },
  {
   "cell_type": "code",
   "execution_count": 47,
   "metadata": {},
   "outputs": [
    {
     "name": "stdout",
     "output_type": "stream",
     "text": [
      "{alarm: 0.9169960474308301}\n"
     ]
    }
   ],
   "source": [
    "times = []\n",
    "door_num = range(1, 2)\n",
    "for i in door_num:\n",
    "    start = timeit.default_timer()\n",
    "    model = m\n",
    "    p = PrologString(model)\n",
    "    formula = get_evaluatable().create_from(p)\n",
    "    print(formula.evaluate())\n",
    "    stop = timeit.default_timer()\n",
    "    times.append(stop - start)"
   ]
  },
  {
   "cell_type": "code",
   "execution_count": 48,
   "metadata": {},
   "outputs": [
    {
     "name": "stdout",
     "output_type": "stream",
     "text": [
      "{alarm: 0.9169960474308301}\n"
     ]
    }
   ],
   "source": [
    "for i in door_num:\n",
    "    model = m.format(door_num=i)\n",
    "    p = PrologString(model)\n",
    "    lf = LogicFormula.create_from(p)\n",
    "    lfs.append(lf)\n",
    "    dag = LogicDAG.create_from(lf)\n",
    "    dags.append(dag)\n",
    "    cnf = CNF.create_from(dag)\n",
    "    cnfs.append(cnf)\n",
    "    ddnnf = DDNNF.create_from(cnf)\n",
    "    print(ddnnf.evaluate())\n",
    "    ddnnf."
   ]
  },
  {
   "cell_type": "code",
   "execution_count": 52,
   "metadata": {},
   "outputs": [
    {
     "name": "stdout",
     "output_type": "stream",
     "text": [
      "1: atom(identifier=10, probability=0.9, group=None, name=choice(7,0,alarm), source=None)\n",
      "2: disj(children=(-1, 1), name=None)\n",
      "3: atom(identifier=4, probability=0.8, group=None, name=choice(18,0,alarm), source=None)\n",
      "4: disj(children=(3, -3), name=None)\n",
      "5: atom(identifier=5, probability=True, group=None, name=None, source=None)\n",
      "6: atom(identifier=3, probability=True, group=None, name=None, source=None)\n",
      "7: atom(identifier=1, probability=0.7, group=None, name=burglary, source=None)\n",
      "8: atom(identifier=11, probability=True, group=None, name=None, source=None)\n",
      "9: atom(identifier=9, probability=True, group=None, name=None, source=None)\n",
      "10: atom(identifier=2, probability=0.2, group=None, name=earthquake, source=None)\n",
      "11: atom(identifier=6, probability=True, group=None, name=None, source=None)\n",
      "12: atom(identifier=14, probability=True, group=None, name=None, source=None)\n",
      "13: atom(identifier=12, probability=True, group=None, name=alarm, source=None)\n",
      "14: atom(identifier=8, probability=True, group=None, name=None, source=None)\n",
      "15: atom(identifier=7, probability=0.1, group=None, name=choice(29,0,alarm), source=None)\n",
      "16: atom(identifier=15, probability=0.8, group=None, name=choice(40,0,calls(john),john), source=None)\n",
      "17: atom(identifier=16, probability=True, group=None, name=None, source=None)\n",
      "18: atom(identifier=17, probability=True, group=None, name=calls(john), source=None)\n",
      "19: conj(children=(-16, -17, -18), name=None)\n",
      "20: conj(children=(17, 16, 18), name=None)\n",
      "21: disj(children=(19, 20), name=None)\n",
      "22: conj(children=(10, 11, -12, 13, 14, 15, 21), name=None)\n",
      "23: atom(identifier=13, probability=0.1, group=None, name=choice(51,0,calls(john),john), source=None)\n",
      "24: disj(children=(-23, 23), name=None)\n",
      "25: conj(children=(22, 24), name=None)\n",
      "26: conj(children=(-23, -12, -18), name=None)\n",
      "27: conj(children=(12, 23, 18), name=None)\n",
      "28: disj(children=(26, 27), name=None)\n",
      "29: conj(children=(10, 11, -15), name=None)\n",
      "30: conj(children=(-10, -11), name=None)\n",
      "31: disj(children=(15, -15), name=None)\n",
      "32: conj(children=(30, 31), name=None)\n",
      "33: disj(children=(29, 32), name=None)\n",
      "34: conj(children=(-13, -14, -17, 28, 33), name=None)\n",
      "35: disj(children=(-16, 16), name=None)\n",
      "36: conj(children=(34, 35), name=None)\n",
      "37: disj(children=(25, 36), name=None)\n",
      "38: conj(children=(-5, -6, -7, -8, -9, 37), name=None)\n",
      "39: conj(children=(2, 4, 38), name=None)\n",
      "40: disj(children=(15, -15), name=None)\n",
      "41: disj(children=(-16, 16), name=None)\n",
      "42: conj(children=(-10, -3, 6, -9), name=None)\n",
      "43: disj(children=(-1, 1), name=None)\n",
      "44: conj(children=(42, 43), name=None)\n",
      "45: conj(children=(10, -6, -1, 9), name=None)\n",
      "46: disj(children=(3, -3), name=None)\n",
      "47: conj(children=(45, 46), name=None)\n",
      "48: disj(children=(44, 47), name=None)\n",
      "49: conj(children=(-5, -13, -8, -17, 28, 48), name=None)\n",
      "50: conj(children=(41, 49), name=None)\n",
      "51: conj(children=(10, -5, -6, 9, 8, 1), name=None)\n",
      "52: disj(children=(3, -3), name=None)\n",
      "53: conj(children=(51, 52), name=None)\n",
      "54: conj(children=(-10, 5, 3, 6, -8, -9), name=None)\n",
      "55: disj(children=(-1, 1), name=None)\n",
      "56: conj(children=(54, 55), name=None)\n",
      "57: disj(children=(53, 56), name=None)\n",
      "58: conj(children=(-12, 13, 21, 57), name=None)\n",
      "59: disj(children=(-23, 23), name=None)\n",
      "60: conj(children=(58, 59), name=None)\n",
      "61: disj(children=(50, 60), name=None)\n",
      "62: conj(children=(-11, 7, -14, 61), name=None)\n",
      "63: conj(children=(40, 62), name=None)\n",
      "64: disj(children=(39, 63), name=None)\n",
      "Queries : \n",
      "* alarm : 13 [query]\n",
      "Evidence : \n",
      "* calls(john) : 18\n",
      "\n"
     ]
    }
   ],
   "source": [
    "ddnf=str(ddnnf)\n",
    "print(ddnnf)"
   ]
  },
  {
   "cell_type": "code",
   "execution_count": 50,
   "metadata": {},
   "outputs": [
    {
     "name": "stdout",
     "output_type": "stream",
     "text": [
      "1: atom(identifier=3, probability=0.7, group=None, name=burglary, source=None)\n",
      "2: atom(identifier=5, probability=0.2, group=None, name=earthquake, source=None)\n",
      "3: conj(children=(1, 2), name=None)\n",
      "4: atom(identifier=(7, () {{}}, 0), probability=0.9, group=(7, () {{}}), name=choice(7,0,alarm), source=None)\n",
      "5: conj(children=(3, 4), name=None)\n",
      "6: conj(children=(1, -2), name=None)\n",
      "7: atom(identifier=(18, () {{}}, 0), probability=0.8, group=(18, () {{}}), name=choice(18,0,alarm), source=None)\n",
      "8: conj(children=(6, 7), name=None)\n",
      "9: conj(children=(2, -1), name=None)\n",
      "10: atom(identifier=(29, () {{}}, 0), probability=0.1, group=(29, () {{}}), name=choice(29,0,alarm), source=None)\n",
      "11: conj(children=(9, 10), name=None)\n",
      "12: disj(children=(8, 11, 5), name=alarm)\n",
      "13: atom(identifier=(40, (john,) {{}}, 0), probability=0.8, group=(40, (john,) {{}}), name=choice(40,0,calls(john),john), source=None)\n",
      "14: conj(children=(12, 13), name=None)\n",
      "15: atom(identifier=(51, (john,) {{}}, 0), probability=0.1, group=(51, (john,) {{}}), name=choice(51,0,calls(john),john), source=None)\n",
      "16: conj(children=(-12, 15), name=None)\n",
      "17: disj(children=(16, 14), name=calls(john))\n",
      "Queries : \n",
      "* alarm : 12 [query]\n",
      "Evidence : \n",
      "* calls(john) : 17\n",
      "\n"
     ]
    }
   ],
   "source": [
    "print(lfs[0])"
   ]
  },
  {
   "cell_type": "code",
   "execution_count": 51,
   "metadata": {},
   "outputs": [
    {
     "name": "stdout",
     "output_type": "stream",
     "text": [
      "1: atom(identifier=3, probability=0.7, group=None, name=burglary, source=None)\n",
      "2: atom(identifier=5, probability=0.2, group=None, name=earthquake, source=None)\n",
      "3: conj(children=(1, -2), name=None)\n",
      "4: atom(identifier=(18, () {{}}, 0), probability=0.8, group=(18, () {{}}), name=choice(18,0,alarm), source=None)\n",
      "5: conj(children=(3, 4), name=None)\n",
      "6: conj(children=(2, -1), name=None)\n",
      "7: atom(identifier=(29, () {{}}, 0), probability=0.1, group=(29, () {{}}), name=choice(29,0,alarm), source=None)\n",
      "8: conj(children=(6, 7), name=None)\n",
      "9: conj(children=(1, 2), name=None)\n",
      "10: atom(identifier=(7, () {{}}, 0), probability=0.9, group=(7, () {{}}), name=choice(7,0,alarm), source=None)\n",
      "11: conj(children=(9, 10), name=None)\n",
      "12: disj(children=(8, 11, 5), name=alarm)\n",
      "13: atom(identifier=(51, (john,) {{}}, 0), probability=0.1, group=(51, (john,) {{}}), name=choice(51,0,calls(john),john), source=None)\n",
      "14: conj(children=(-12, 13), name=None)\n",
      "15: atom(identifier=(40, (john,) {{}}, 0), probability=0.8, group=(40, (john,) {{}}), name=choice(40,0,calls(john),john), source=None)\n",
      "16: conj(children=(12, 15), name=None)\n",
      "17: disj(children=(16, 14), name=calls(john))\n",
      "Queries : \n",
      "* alarm : 12 [query]\n",
      "Evidence : \n",
      "* calls(john) : 17\n",
      "\n"
     ]
    }
   ],
   "source": [
    "print(dags[0])"
   ]
  },
  {
   "cell_type": "code",
   "execution_count": 17,
   "metadata": {},
   "outputs": [
    {
     "name": "stdout",
     "output_type": "stream",
     "text": [
      "<problog.cnf_formula.CNF object at 0x0000014D5B070B88>\n"
     ]
    }
   ],
   "source": [
    "print(cnfs[0])"
   ]
  },
  {
   "cell_type": "code",
   "execution_count": 53,
   "metadata": {},
   "outputs": [],
   "source": [
    "lfs_str = '''1: atom(identifier=10, probability=0.9, group=None, name=choice(7,0,alarm), source=None)\n",
    "2: disj(children=(-1, 1), name=None)\n",
    "3: atom(identifier=4, probability=0.8, group=None, name=choice(18,0,alarm), source=None)\n",
    "4: disj(children=(3, -3), name=None)\n",
    "5: atom(identifier=5, probability=True, group=None, name=None, source=None)\n",
    "6: atom(identifier=3, probability=True, group=None, name=None, source=None)\n",
    "7: atom(identifier=1, probability=0.7, group=None, name=burglary, source=None)\n",
    "8: atom(identifier=11, probability=True, group=None, name=None, source=None)\n",
    "9: atom(identifier=9, probability=True, group=None, name=None, source=None)\n",
    "10: atom(identifier=2, probability=0.2, group=None, name=earthquake, source=None)\n",
    "11: atom(identifier=6, probability=True, group=None, name=None, source=None)\n",
    "12: atom(identifier=14, probability=True, group=None, name=None, source=None)\n",
    "13: atom(identifier=12, probability=True, group=None, name=alarm, source=None)\n",
    "14: atom(identifier=8, probability=True, group=None, name=None, source=None)\n",
    "15: atom(identifier=7, probability=0.1, group=None, name=choice(29,0,alarm), source=None)\n",
    "16: atom(identifier=15, probability=0.8, group=None, name=choice(40,0,calls(john),john), source=None)\n",
    "17: atom(identifier=16, probability=True, group=None, name=None, source=None)\n",
    "18: atom(identifier=17, probability=True, group=None, name=calls(john), source=None)\n",
    "19: conj(children=(-16, -17, -18), name=None)\n",
    "20: conj(children=(17, 16, 18), name=None)\n",
    "21: disj(children=(19, 20), name=None)\n",
    "22: conj(children=(10, 11, -12, 13, 14, 15, 21), name=None)\n",
    "23: atom(identifier=13, probability=0.1, group=None, name=choice(51,0,calls(john),john), source=None)\n",
    "24: disj(children=(-23, 23), name=None)\n",
    "25: conj(children=(22, 24), name=None)\n",
    "26: conj(children=(-23, -12, -18), name=None)\n",
    "27: conj(children=(12, 23, 18), name=None)\n",
    "28: disj(children=(26, 27), name=None)\n",
    "29: conj(children=(10, 11, -15), name=None)\n",
    "30: conj(children=(-10, -11), name=None)\n",
    "31: disj(children=(15, -15), name=None)\n",
    "32: conj(children=(30, 31), name=None)\n",
    "33: disj(children=(29, 32), name=None)\n",
    "34: conj(children=(-13, -14, -17, 28, 33), name=None)\n",
    "35: disj(children=(-16, 16), name=None)\n",
    "36: conj(children=(34, 35), name=None)\n",
    "37: disj(children=(25, 36), name=None)\n",
    "38: conj(children=(-5, -6, -7, -8, -9, 37), name=None)\n",
    "39: conj(children=(2, 4, 38), name=None)\n",
    "40: disj(children=(15, -15), name=None)\n",
    "41: disj(children=(-16, 16), name=None)\n",
    "42: conj(children=(-10, -3, 6, -9), name=None)\n",
    "43: disj(children=(-1, 1), name=None)\n",
    "44: conj(children=(42, 43), name=None)\n",
    "45: conj(children=(10, -6, -1, 9), name=None)\n",
    "46: disj(children=(3, -3), name=None)\n",
    "47: conj(children=(45, 46), name=None)\n",
    "48: disj(children=(44, 47), name=None)\n",
    "49: conj(children=(-5, -13, -8, -17, 28, 48), name=None)\n",
    "50: conj(children=(41, 49), name=None)\n",
    "51: conj(children=(10, -5, -6, 9, 8, 1), name=None)\n",
    "52: disj(children=(3, -3), name=None)\n",
    "53: conj(children=(51, 52), name=None)\n",
    "54: conj(children=(-10, 5, 3, 6, -8, -9), name=None)\n",
    "55: disj(children=(-1, 1), name=None)\n",
    "56: conj(children=(54, 55), name=None)\n",
    "57: disj(children=(53, 56), name=None)\n",
    "58: conj(children=(-12, 13, 21, 57), name=None)\n",
    "59: disj(children=(-23, 23), name=None)\n",
    "60: conj(children=(58, 59), name=None)\n",
    "61: disj(children=(50, 60), name=None)\n",
    "62: conj(children=(-11, 7, -14, 61), name=None)\n",
    "63: conj(children=(40, 62), name=None)\n",
    "64: disj(children=(39, 63), name=None)'''"
   ]
  },
  {
   "cell_type": "code",
   "execution_count": 54,
   "metadata": {},
   "outputs": [],
   "source": [
    "lfs_list = lfs_str.split('\\n')\n",
    "lfs_row_id = [row.split(':') for row in lfs_list]\n",
    "for row in lfs_row_id:\n",
    "    row[0] = int(row[0])\n",
    "child_list = []\n",
    "for row in lfs_row_id:\n",
    "    if re.search('children', row[1]):\n",
    "        children = re.findall(r'\\d+', row[1])\n",
    "        child_list.append([row[0],children])"
   ]
  },
  {
   "cell_type": "code",
   "execution_count": 55,
   "metadata": {},
   "outputs": [
    {
     "data": {
      "text/plain": [
       "[('2', '1'),\n",
       " ('2', '1'),\n",
       " ('4', '3'),\n",
       " ('4', '3'),\n",
       " ('19', '16'),\n",
       " ('19', '17'),\n",
       " ('19', '18'),\n",
       " ('20', '17'),\n",
       " ('20', '16'),\n",
       " ('20', '18'),\n",
       " ('21', '19'),\n",
       " ('21', '20'),\n",
       " ('22', '10'),\n",
       " ('22', '11'),\n",
       " ('22', '12'),\n",
       " ('22', '13'),\n",
       " ('22', '14'),\n",
       " ('22', '15'),\n",
       " ('22', '21'),\n",
       " ('24', '23'),\n",
       " ('24', '23'),\n",
       " ('25', '22'),\n",
       " ('25', '24'),\n",
       " ('26', '23'),\n",
       " ('26', '12'),\n",
       " ('26', '18'),\n",
       " ('27', '12'),\n",
       " ('27', '23'),\n",
       " ('27', '18'),\n",
       " ('28', '26'),\n",
       " ('28', '27'),\n",
       " ('29', '10'),\n",
       " ('29', '11'),\n",
       " ('29', '15'),\n",
       " ('30', '10'),\n",
       " ('30', '11'),\n",
       " ('31', '15'),\n",
       " ('31', '15'),\n",
       " ('32', '30'),\n",
       " ('32', '31'),\n",
       " ('33', '29'),\n",
       " ('33', '32'),\n",
       " ('34', '13'),\n",
       " ('34', '14'),\n",
       " ('34', '17'),\n",
       " ('34', '28'),\n",
       " ('34', '33'),\n",
       " ('35', '16'),\n",
       " ('35', '16'),\n",
       " ('36', '34'),\n",
       " ('36', '35'),\n",
       " ('37', '25'),\n",
       " ('37', '36'),\n",
       " ('38', '5'),\n",
       " ('38', '6'),\n",
       " ('38', '7'),\n",
       " ('38', '8'),\n",
       " ('38', '9'),\n",
       " ('38', '37'),\n",
       " ('39', '2'),\n",
       " ('39', '4'),\n",
       " ('39', '38'),\n",
       " ('40', '15'),\n",
       " ('40', '15'),\n",
       " ('41', '16'),\n",
       " ('41', '16'),\n",
       " ('42', '10'),\n",
       " ('42', '3'),\n",
       " ('42', '6'),\n",
       " ('42', '9'),\n",
       " ('43', '1'),\n",
       " ('43', '1'),\n",
       " ('44', '42'),\n",
       " ('44', '43'),\n",
       " ('45', '10'),\n",
       " ('45', '6'),\n",
       " ('45', '1'),\n",
       " ('45', '9'),\n",
       " ('46', '3'),\n",
       " ('46', '3'),\n",
       " ('47', '45'),\n",
       " ('47', '46'),\n",
       " ('48', '44'),\n",
       " ('48', '47'),\n",
       " ('49', '5'),\n",
       " ('49', '13'),\n",
       " ('49', '8'),\n",
       " ('49', '17'),\n",
       " ('49', '28'),\n",
       " ('49', '48'),\n",
       " ('50', '41'),\n",
       " ('50', '49'),\n",
       " ('51', '10'),\n",
       " ('51', '5'),\n",
       " ('51', '6'),\n",
       " ('51', '9'),\n",
       " ('51', '8'),\n",
       " ('51', '1'),\n",
       " ('52', '3'),\n",
       " ('52', '3'),\n",
       " ('53', '51'),\n",
       " ('53', '52'),\n",
       " ('54', '10'),\n",
       " ('54', '5'),\n",
       " ('54', '3'),\n",
       " ('54', '6'),\n",
       " ('54', '8'),\n",
       " ('54', '9'),\n",
       " ('55', '1'),\n",
       " ('55', '1'),\n",
       " ('56', '54'),\n",
       " ('56', '55'),\n",
       " ('57', '53'),\n",
       " ('57', '56'),\n",
       " ('58', '12'),\n",
       " ('58', '13'),\n",
       " ('58', '21'),\n",
       " ('58', '57'),\n",
       " ('59', '23'),\n",
       " ('59', '23'),\n",
       " ('60', '58'),\n",
       " ('60', '59'),\n",
       " ('61', '50'),\n",
       " ('61', '60'),\n",
       " ('62', '11'),\n",
       " ('62', '7'),\n",
       " ('62', '14'),\n",
       " ('62', '61'),\n",
       " ('63', '40'),\n",
       " ('63', '62'),\n",
       " ('64', '39'),\n",
       " ('64', '63')]"
      ]
     },
     "execution_count": 55,
     "metadata": {},
     "output_type": "execute_result"
    }
   ],
   "source": [
    "edges = []\n",
    "for row in child_list:\n",
    "    for child in row[1]:\n",
    "        edges.append((str(row[0]),child))\n",
    "edges        "
   ]
  },
  {
   "cell_type": "code",
   "execution_count": 21,
   "metadata": {
    "scrolled": true
   },
   "outputs": [
    {
     "data": {
      "image/png": "[encoded data removed]",
      "text/plain": [
       "<Figure size 432x288 with 1 Axes>"
      ]
     },
     "metadata": {},
     "output_type": "display_data"
    }
   ],
   "source": [
    "G = nx.DiGraph()\n",
    "G.add_edges_from(edges)\n",
    "\n",
    "# Need to create a layout when doing\n",
    "# separate calls to draw nodes and edges\n",
    "pos = nx.spring_layout(G)\n",
    "nx.draw_networkx_nodes(G, pos, node_size = 1000)\n",
    "nx.draw_networkx_labels(G, pos)\n",
    "nx.draw_networkx_edges(G, pos, arrows=False)\n",
    "plt.show()"
   ]
  },
  {
   "cell_type": "code",
   "execution_count": 56,
   "metadata": {},
   "outputs": [
    {
     "data": {
      "text/plain": [
       "'likes(john,tom) example.gv.pdf'"
      ]
     },
     "execution_count": 56,
     "metadata": {},
     "output_type": "execute_result"
    }
   ],
   "source": [
    "from graphviz import Digraph\n",
    "\n",
    "g = Digraph('G', filename='likes(john,tom) example.gv')\n",
    "\n",
    "for e in edges:\n",
    "    g.edge(e[0],e[1])\n",
    "\n",
    "for node in lfs_row_id: \n",
    "    type = node[1].split('(')[0]\n",
    "    if node[1].split('name=')[1].split(', source=')[0] == 'None)':\n",
    "        label =type + str(node[0])\n",
    "    else:\n",
    "        label =type + f'{node[0]}:{node[1].split(\"name=\")[1].split(\", source=\")[0]}'    \n",
    "    g.node(str(node[0]),label=label)\n",
    "\n",
    "g.view()"
   ]
  },
  {
   "cell_type": "code",
   "execution_count": 31,
   "metadata": {},
   "outputs": [
    {
     "data": {
      "text/plain": [
       "' atom'"
      ]
     },
     "execution_count": 31,
     "metadata": {},
     "output_type": "execute_result"
    }
   ],
   "source": [
    "lfs_row_id[1]"
   ]
  }
 ],
 "metadata": {
  "kernelspec": {
   "display_name": "Python 3",
   "language": "python",
   "name": "python3"
  },
  "language_info": {
   "codemirror_mode": {
    "name": "ipython",
    "version": 3
   },
   "file_extension": ".py",
   "mimetype": "text/x-python",
   "name": "python",
   "nbconvert_exporter": "python",
   "pygments_lexer": "ipython3",
   "version": "3.7.6"
  }
 },
 "nbformat": 4,
 "nbformat_minor": 4
}

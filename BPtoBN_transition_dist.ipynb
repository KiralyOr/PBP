{
  "nbformat": 4,
  "nbformat_minor": 0,
  "metadata": {
    "colab": {
      "name": "refactor of BPtoBN.ipynb",
      "provenance": [],
      "collapsed_sections": [],
      "toc_visible": true,
      "include_colab_link": true
    },
    "kernelspec": {
      "name": "python3",
      "display_name": "Python 3"
    },
    "language_info": {
      "name": "python"
    },
    "widgets": {
      "application/vnd.jupyter.widget-state+json": {
        "a0901e2407a248cfa20e4c848a645c38": {
          "model_module": "@jupyter-widgets/controls",
          "model_name": "HBoxModel",
          "model_module_version": "1.5.0",
          "state": {
            "_view_name": "HBoxView",
            "_dom_classes": [],
            "_model_name": "HBoxModel",
            "_view_module": "@jupyter-widgets/controls",
            "_model_module_version": "1.5.0",
            "_view_count": null,
            "_view_module_version": "1.5.0",
            "box_style": "",
            "layout": "IPY_MODEL_f1751ec27c2144d8b963025ab543f6e5",
            "_model_module": "@jupyter-widgets/controls",
            "children": [
              "IPY_MODEL_32a6d6bc373f43018ae104154fe97b65",
              "IPY_MODEL_a0c49ec995e64dafa199d7af908a333a",
              "IPY_MODEL_8216a50c02b24d3da31d25f40e7a91de"
            ]
          }
        },
        "f1751ec27c2144d8b963025ab543f6e5": {
          "model_module": "@jupyter-widgets/base",
          "model_name": "LayoutModel",
          "model_module_version": "1.2.0",
          "state": {
            "_view_name": "LayoutView",
            "grid_template_rows": null,
            "right": null,
            "justify_content": null,
            "_view_module": "@jupyter-widgets/base",
            "overflow": null,
            "_model_module_version": "1.2.0",
            "_view_count": null,
            "flex_flow": null,
            "width": null,
            "min_width": null,
            "border": null,
            "align_items": null,
            "bottom": null,
            "_model_module": "@jupyter-widgets/base",
            "top": null,
            "grid_column": null,
            "overflow_y": null,
            "overflow_x": null,
            "grid_auto_flow": null,
            "grid_area": null,
            "grid_template_columns": null,
            "flex": null,
            "_model_name": "LayoutModel",
            "justify_items": null,
            "grid_row": null,
            "max_height": null,
            "align_content": null,
            "visibility": null,
            "align_self": null,
            "height": null,
            "min_height": null,
            "padding": null,
            "grid_auto_rows": null,
            "grid_gap": null,
            "max_width": null,
            "order": null,
            "_view_module_version": "1.2.0",
            "grid_template_areas": null,
            "object_position": null,
            "object_fit": null,
            "grid_auto_columns": null,
            "margin": null,
            "display": null,
            "left": null
          }
        },
        "32a6d6bc373f43018ae104154fe97b65": {
          "model_module": "@jupyter-widgets/controls",
          "model_name": "HTMLModel",
          "model_module_version": "1.5.0",
          "state": {
            "_view_name": "HTMLView",
            "style": "IPY_MODEL_80c0af5cae184ff5b715568bf5f75822",
            "_dom_classes": [],
            "description": "",
            "_model_name": "HTMLModel",
            "placeholder": "​",
            "_view_module": "@jupyter-widgets/controls",
            "_model_module_version": "1.5.0",
            "value": "Finding Elimination Order: : 100%",
            "_view_count": null,
            "_view_module_version": "1.5.0",
            "description_tooltip": null,
            "_model_module": "@jupyter-widgets/controls",
            "layout": "IPY_MODEL_700f82d2894249ec8d2057c911f0d590"
          }
        },
        "a0c49ec995e64dafa199d7af908a333a": {
          "model_module": "@jupyter-widgets/controls",
          "model_name": "FloatProgressModel",
          "model_module_version": "1.5.0",
          "state": {
            "_view_name": "ProgressView",
            "style": "IPY_MODEL_5e74c9090e024183bc69b48679b88909",
            "_dom_classes": [],
            "description": "",
            "_model_name": "FloatProgressModel",
            "bar_style": "success",
            "max": 9,
            "_view_module": "@jupyter-widgets/controls",
            "_model_module_version": "1.5.0",
            "value": 9,
            "_view_count": null,
            "_view_module_version": "1.5.0",
            "orientation": "horizontal",
            "min": 0,
            "description_tooltip": null,
            "_model_module": "@jupyter-widgets/controls",
            "layout": "IPY_MODEL_1a13cff40a114c1b98f9934ca787f775"
          }
        },
        "8216a50c02b24d3da31d25f40e7a91de": {
          "model_module": "@jupyter-widgets/controls",
          "model_name": "HTMLModel",
          "model_module_version": "1.5.0",
          "state": {
            "_view_name": "HTMLView",
            "style": "IPY_MODEL_77c5bf402d594093a752d471f347e2f6",
            "_dom_classes": [],
            "description": "",
            "_model_name": "HTMLModel",
            "placeholder": "​",
            "_view_module": "@jupyter-widgets/controls",
            "_model_module_version": "1.5.0",
            "value": " 9/9 [00:00&lt;00:00, 73.56it/s]",
            "_view_count": null,
            "_view_module_version": "1.5.0",
            "description_tooltip": null,
            "_model_module": "@jupyter-widgets/controls",
            "layout": "IPY_MODEL_8082d3a76acc48dc9cd1fabbd4dfbdb0"
          }
        },
        "80c0af5cae184ff5b715568bf5f75822": {
          "model_module": "@jupyter-widgets/controls",
          "model_name": "DescriptionStyleModel",
          "model_module_version": "1.5.0",
          "state": {
            "_view_name": "StyleView",
            "_model_name": "DescriptionStyleModel",
            "description_width": "",
            "_view_module": "@jupyter-widgets/base",
            "_model_module_version": "1.5.0",
            "_view_count": null,
            "_view_module_version": "1.2.0",
            "_model_module": "@jupyter-widgets/controls"
          }
        },
        "700f82d2894249ec8d2057c911f0d590": {
          "model_module": "@jupyter-widgets/base",
          "model_name": "LayoutModel",
          "model_module_version": "1.2.0",
          "state": {
            "_view_name": "LayoutView",
            "grid_template_rows": null,
            "right": null,
            "justify_content": null,
            "_view_module": "@jupyter-widgets/base",
            "overflow": null,
            "_model_module_version": "1.2.0",
            "_view_count": null,
            "flex_flow": null,
            "width": null,
            "min_width": null,
            "border": null,
            "align_items": null,
            "bottom": null,
            "_model_module": "@jupyter-widgets/base",
            "top": null,
            "grid_column": null,
            "overflow_y": null,
            "overflow_x": null,
            "grid_auto_flow": null,
            "grid_area": null,
            "grid_template_columns": null,
            "flex": null,
            "_model_name": "LayoutModel",
            "justify_items": null,
            "grid_row": null,
            "max_height": null,
            "align_content": null,
            "visibility": null,
            "align_self": null,
            "height": null,
            "min_height": null,
            "padding": null,
            "grid_auto_rows": null,
            "grid_gap": null,
            "max_width": null,
            "order": null,
            "_view_module_version": "1.2.0",
            "grid_template_areas": null,
            "object_position": null,
            "object_fit": null,
            "grid_auto_columns": null,
            "margin": null,
            "display": null,
            "left": null
          }
        },
        "5e74c9090e024183bc69b48679b88909": {
          "model_module": "@jupyter-widgets/controls",
          "model_name": "ProgressStyleModel",
          "model_module_version": "1.5.0",
          "state": {
            "_view_name": "StyleView",
            "_model_name": "ProgressStyleModel",
            "description_width": "",
            "_view_module": "@jupyter-widgets/base",
            "_model_module_version": "1.5.0",
            "_view_count": null,
            "_view_module_version": "1.2.0",
            "bar_color": null,
            "_model_module": "@jupyter-widgets/controls"
          }
        },
        "1a13cff40a114c1b98f9934ca787f775": {
          "model_module": "@jupyter-widgets/base",
          "model_name": "LayoutModel",
          "model_module_version": "1.2.0",
          "state": {
            "_view_name": "LayoutView",
            "grid_template_rows": null,
            "right": null,
            "justify_content": null,
            "_view_module": "@jupyter-widgets/base",
            "overflow": null,
            "_model_module_version": "1.2.0",
            "_view_count": null,
            "flex_flow": null,
            "width": null,
            "min_width": null,
            "border": null,
            "align_items": null,
            "bottom": null,
            "_model_module": "@jupyter-widgets/base",
            "top": null,
            "grid_column": null,
            "overflow_y": null,
            "overflow_x": null,
            "grid_auto_flow": null,
            "grid_area": null,
            "grid_template_columns": null,
            "flex": null,
            "_model_name": "LayoutModel",
            "justify_items": null,
            "grid_row": null,
            "max_height": null,
            "align_content": null,
            "visibility": null,
            "align_self": null,
            "height": null,
            "min_height": null,
            "padding": null,
            "grid_auto_rows": null,
            "grid_gap": null,
            "max_width": null,
            "order": null,
            "_view_module_version": "1.2.0",
            "grid_template_areas": null,
            "object_position": null,
            "object_fit": null,
            "grid_auto_columns": null,
            "margin": null,
            "display": null,
            "left": null
          }
        },
        "77c5bf402d594093a752d471f347e2f6": {
          "model_module": "@jupyter-widgets/controls",
          "model_name": "DescriptionStyleModel",
          "model_module_version": "1.5.0",
          "state": {
            "_view_name": "StyleView",
            "_model_name": "DescriptionStyleModel",
            "description_width": "",
            "_view_module": "@jupyter-widgets/base",
            "_model_module_version": "1.5.0",
            "_view_count": null,
            "_view_module_version": "1.2.0",
            "_model_module": "@jupyter-widgets/controls"
          }
        },
        "8082d3a76acc48dc9cd1fabbd4dfbdb0": {
          "model_module": "@jupyter-widgets/base",
          "model_name": "LayoutModel",
          "model_module_version": "1.2.0",
          "state": {
            "_view_name": "LayoutView",
            "grid_template_rows": null,
            "right": null,
            "justify_content": null,
            "_view_module": "@jupyter-widgets/base",
            "overflow": null,
            "_model_module_version": "1.2.0",
            "_view_count": null,
            "flex_flow": null,
            "width": null,
            "min_width": null,
            "border": null,
            "align_items": null,
            "bottom": null,
            "_model_module": "@jupyter-widgets/base",
            "top": null,
            "grid_column": null,
            "overflow_y": null,
            "overflow_x": null,
            "grid_auto_flow": null,
            "grid_area": null,
            "grid_template_columns": null,
            "flex": null,
            "_model_name": "LayoutModel",
            "justify_items": null,
            "grid_row": null,
            "max_height": null,
            "align_content": null,
            "visibility": null,
            "align_self": null,
            "height": null,
            "min_height": null,
            "padding": null,
            "grid_auto_rows": null,
            "grid_gap": null,
            "max_width": null,
            "order": null,
            "_view_module_version": "1.2.0",
            "grid_template_areas": null,
            "object_position": null,
            "object_fit": null,
            "grid_auto_columns": null,
            "margin": null,
            "display": null,
            "left": null
          }
        },
        "675dc908b21a4004af9b52207961ebf3": {
          "model_module": "@jupyter-widgets/controls",
          "model_name": "HBoxModel",
          "model_module_version": "1.5.0",
          "state": {
            "_view_name": "HBoxView",
            "_dom_classes": [],
            "_model_name": "HBoxModel",
            "_view_module": "@jupyter-widgets/controls",
            "_model_module_version": "1.5.0",
            "_view_count": null,
            "_view_module_version": "1.5.0",
            "box_style": "",
            "layout": "IPY_MODEL_0e3aa7aafd304c69ba8af39dc5c523a6",
            "_model_module": "@jupyter-widgets/controls",
            "children": [
              "IPY_MODEL_49a3f063d9064856af727f636d6935ca",
              "IPY_MODEL_9ae0fe8e25e44b9faee3aff9d22736c3",
              "IPY_MODEL_8df9b47c37a54230b96ccd906c28cb3c"
            ]
          }
        },
        "0e3aa7aafd304c69ba8af39dc5c523a6": {
          "model_module": "@jupyter-widgets/base",
          "model_name": "LayoutModel",
          "model_module_version": "1.2.0",
          "state": {
            "_view_name": "LayoutView",
            "grid_template_rows": null,
            "right": null,
            "justify_content": null,
            "_view_module": "@jupyter-widgets/base",
            "overflow": null,
            "_model_module_version": "1.2.0",
            "_view_count": null,
            "flex_flow": null,
            "width": null,
            "min_width": null,
            "border": null,
            "align_items": null,
            "bottom": null,
            "_model_module": "@jupyter-widgets/base",
            "top": null,
            "grid_column": null,
            "overflow_y": null,
            "overflow_x": null,
            "grid_auto_flow": null,
            "grid_area": null,
            "grid_template_columns": null,
            "flex": null,
            "_model_name": "LayoutModel",
            "justify_items": null,
            "grid_row": null,
            "max_height": null,
            "align_content": null,
            "visibility": null,
            "align_self": null,
            "height": null,
            "min_height": null,
            "padding": null,
            "grid_auto_rows": null,
            "grid_gap": null,
            "max_width": null,
            "order": null,
            "_view_module_version": "1.2.0",
            "grid_template_areas": null,
            "object_position": null,
            "object_fit": null,
            "grid_auto_columns": null,
            "margin": null,
            "display": null,
            "left": null
          }
        },
        "49a3f063d9064856af727f636d6935ca": {
          "model_module": "@jupyter-widgets/controls",
          "model_name": "HTMLModel",
          "model_module_version": "1.5.0",
          "state": {
            "_view_name": "HTMLView",
            "style": "IPY_MODEL_7bb828f03bae418abf5e6a90751fec24",
            "_dom_classes": [],
            "description": "",
            "_model_name": "HTMLModel",
            "placeholder": "​",
            "_view_module": "@jupyter-widgets/controls",
            "_model_module_version": "1.5.0",
            "value": "Eliminating: state_bt3_0: 100%",
            "_view_count": null,
            "_view_module_version": "1.5.0",
            "description_tooltip": null,
            "_model_module": "@jupyter-widgets/controls",
            "layout": "IPY_MODEL_5e7fa09771f94c529d716b8164b85477"
          }
        },
        "9ae0fe8e25e44b9faee3aff9d22736c3": {
          "model_module": "@jupyter-widgets/controls",
          "model_name": "FloatProgressModel",
          "model_module_version": "1.5.0",
          "state": {
            "_view_name": "ProgressView",
            "style": "IPY_MODEL_8a7adc3a33614674a52d474b2841767c",
            "_dom_classes": [],
            "description": "",
            "_model_name": "FloatProgressModel",
            "bar_style": "success",
            "max": 9,
            "_view_module": "@jupyter-widgets/controls",
            "_model_module_version": "1.5.0",
            "value": 9,
            "_view_count": null,
            "_view_module_version": "1.5.0",
            "orientation": "horizontal",
            "min": 0,
            "description_tooltip": null,
            "_model_module": "@jupyter-widgets/controls",
            "layout": "IPY_MODEL_f79a54cc58df4c41ad2c2e25f9191aec"
          }
        },
        "8df9b47c37a54230b96ccd906c28cb3c": {
          "model_module": "@jupyter-widgets/controls",
          "model_name": "HTMLModel",
          "model_module_version": "1.5.0",
          "state": {
            "_view_name": "HTMLView",
            "style": "IPY_MODEL_7f96a8cad0e144b79a832d8ba4e0c414",
            "_dom_classes": [],
            "description": "",
            "_model_name": "HTMLModel",
            "placeholder": "​",
            "_view_module": "@jupyter-widgets/controls",
            "_model_module_version": "1.5.0",
            "value": " 9/9 [00:01&lt;00:00,  3.66it/s]",
            "_view_count": null,
            "_view_module_version": "1.5.0",
            "description_tooltip": null,
            "_model_module": "@jupyter-widgets/controls",
            "layout": "IPY_MODEL_be9741995deb4563a964be9b43e8f0f5"
          }
        },
        "7bb828f03bae418abf5e6a90751fec24": {
          "model_module": "@jupyter-widgets/controls",
          "model_name": "DescriptionStyleModel",
          "model_module_version": "1.5.0",
          "state": {
            "_view_name": "StyleView",
            "_model_name": "DescriptionStyleModel",
            "description_width": "",
            "_view_module": "@jupyter-widgets/base",
            "_model_module_version": "1.5.0",
            "_view_count": null,
            "_view_module_version": "1.2.0",
            "_model_module": "@jupyter-widgets/controls"
          }
        },
        "5e7fa09771f94c529d716b8164b85477": {
          "model_module": "@jupyter-widgets/base",
          "model_name": "LayoutModel",
          "model_module_version": "1.2.0",
          "state": {
            "_view_name": "LayoutView",
            "grid_template_rows": null,
            "right": null,
            "justify_content": null,
            "_view_module": "@jupyter-widgets/base",
            "overflow": null,
            "_model_module_version": "1.2.0",
            "_view_count": null,
            "flex_flow": null,
            "width": null,
            "min_width": null,
            "border": null,
            "align_items": null,
            "bottom": null,
            "_model_module": "@jupyter-widgets/base",
            "top": null,
            "grid_column": null,
            "overflow_y": null,
            "overflow_x": null,
            "grid_auto_flow": null,
            "grid_area": null,
            "grid_template_columns": null,
            "flex": null,
            "_model_name": "LayoutModel",
            "justify_items": null,
            "grid_row": null,
            "max_height": null,
            "align_content": null,
            "visibility": null,
            "align_self": null,
            "height": null,
            "min_height": null,
            "padding": null,
            "grid_auto_rows": null,
            "grid_gap": null,
            "max_width": null,
            "order": null,
            "_view_module_version": "1.2.0",
            "grid_template_areas": null,
            "object_position": null,
            "object_fit": null,
            "grid_auto_columns": null,
            "margin": null,
            "display": null,
            "left": null
          }
        },
        "8a7adc3a33614674a52d474b2841767c": {
          "model_module": "@jupyter-widgets/controls",
          "model_name": "ProgressStyleModel",
          "model_module_version": "1.5.0",
          "state": {
            "_view_name": "StyleView",
            "_model_name": "ProgressStyleModel",
            "description_width": "",
            "_view_module": "@jupyter-widgets/base",
            "_model_module_version": "1.5.0",
            "_view_count": null,
            "_view_module_version": "1.2.0",
            "bar_color": null,
            "_model_module": "@jupyter-widgets/controls"
          }
        },
        "f79a54cc58df4c41ad2c2e25f9191aec": {
          "model_module": "@jupyter-widgets/base",
          "model_name": "LayoutModel",
          "model_module_version": "1.2.0",
          "state": {
            "_view_name": "LayoutView",
            "grid_template_rows": null,
            "right": null,
            "justify_content": null,
            "_view_module": "@jupyter-widgets/base",
            "overflow": null,
            "_model_module_version": "1.2.0",
            "_view_count": null,
            "flex_flow": null,
            "width": null,
            "min_width": null,
            "border": null,
            "align_items": null,
            "bottom": null,
            "_model_module": "@jupyter-widgets/base",
            "top": null,
            "grid_column": null,
            "overflow_y": null,
            "overflow_x": null,
            "grid_auto_flow": null,
            "grid_area": null,
            "grid_template_columns": null,
            "flex": null,
            "_model_name": "LayoutModel",
            "justify_items": null,
            "grid_row": null,
            "max_height": null,
            "align_content": null,
            "visibility": null,
            "align_self": null,
            "height": null,
            "min_height": null,
            "padding": null,
            "grid_auto_rows": null,
            "grid_gap": null,
            "max_width": null,
            "order": null,
            "_view_module_version": "1.2.0",
            "grid_template_areas": null,
            "object_position": null,
            "object_fit": null,
            "grid_auto_columns": null,
            "margin": null,
            "display": null,
            "left": null
          }
        },
        "7f96a8cad0e144b79a832d8ba4e0c414": {
          "model_module": "@jupyter-widgets/controls",
          "model_name": "DescriptionStyleModel",
          "model_module_version": "1.5.0",
          "state": {
            "_view_name": "StyleView",
            "_model_name": "DescriptionStyleModel",
            "description_width": "",
            "_view_module": "@jupyter-widgets/base",
            "_model_module_version": "1.5.0",
            "_view_count": null,
            "_view_module_version": "1.2.0",
            "_model_module": "@jupyter-widgets/controls"
          }
        },
        "be9741995deb4563a964be9b43e8f0f5": {
          "model_module": "@jupyter-widgets/base",
          "model_name": "LayoutModel",
          "model_module_version": "1.2.0",
          "state": {
            "_view_name": "LayoutView",
            "grid_template_rows": null,
            "right": null,
            "justify_content": null,
            "_view_module": "@jupyter-widgets/base",
            "overflow": null,
            "_model_module_version": "1.2.0",
            "_view_count": null,
            "flex_flow": null,
            "width": null,
            "min_width": null,
            "border": null,
            "align_items": null,
            "bottom": null,
            "_model_module": "@jupyter-widgets/base",
            "top": null,
            "grid_column": null,
            "overflow_y": null,
            "overflow_x": null,
            "grid_auto_flow": null,
            "grid_area": null,
            "grid_template_columns": null,
            "flex": null,
            "_model_name": "LayoutModel",
            "justify_items": null,
            "grid_row": null,
            "max_height": null,
            "align_content": null,
            "visibility": null,
            "align_self": null,
            "height": null,
            "min_height": null,
            "padding": null,
            "grid_auto_rows": null,
            "grid_gap": null,
            "max_width": null,
            "order": null,
            "_view_module_version": "1.2.0",
            "grid_template_areas": null,
            "object_position": null,
            "object_fit": null,
            "grid_auto_columns": null,
            "margin": null,
            "display": null,
            "left": null
          }
        },
        "9c3cc185eef440c0bcd4ee70be7f51a7": {
          "model_module": "@jupyter-widgets/controls",
          "model_name": "HBoxModel",
          "model_module_version": "1.5.0",
          "state": {
            "_view_name": "HBoxView",
            "_dom_classes": [],
            "_model_name": "HBoxModel",
            "_view_module": "@jupyter-widgets/controls",
            "_model_module_version": "1.5.0",
            "_view_count": null,
            "_view_module_version": "1.5.0",
            "box_style": "",
            "layout": "IPY_MODEL_0081f33b60c34e3885dc06eecd01fe0c",
            "_model_module": "@jupyter-widgets/controls",
            "children": [
              "IPY_MODEL_ed7d1ed769a44b3f8ddd1d6d5b7d60e4",
              "IPY_MODEL_1593ee53bb3b458594ab3d9bf99081c2",
              "IPY_MODEL_84193c179cca45aba576585491f92e34"
            ]
          }
        },
        "0081f33b60c34e3885dc06eecd01fe0c": {
          "model_module": "@jupyter-widgets/base",
          "model_name": "LayoutModel",
          "model_module_version": "1.2.0",
          "state": {
            "_view_name": "LayoutView",
            "grid_template_rows": null,
            "right": null,
            "justify_content": null,
            "_view_module": "@jupyter-widgets/base",
            "overflow": null,
            "_model_module_version": "1.2.0",
            "_view_count": null,
            "flex_flow": null,
            "width": null,
            "min_width": null,
            "border": null,
            "align_items": null,
            "bottom": null,
            "_model_module": "@jupyter-widgets/base",
            "top": null,
            "grid_column": null,
            "overflow_y": null,
            "overflow_x": null,
            "grid_auto_flow": null,
            "grid_area": null,
            "grid_template_columns": null,
            "flex": null,
            "_model_name": "LayoutModel",
            "justify_items": null,
            "grid_row": null,
            "max_height": null,
            "align_content": null,
            "visibility": null,
            "align_self": null,
            "height": null,
            "min_height": null,
            "padding": null,
            "grid_auto_rows": null,
            "grid_gap": null,
            "max_width": null,
            "order": null,
            "_view_module_version": "1.2.0",
            "grid_template_areas": null,
            "object_position": null,
            "object_fit": null,
            "grid_auto_columns": null,
            "margin": null,
            "display": null,
            "left": null
          }
        },
        "ed7d1ed769a44b3f8ddd1d6d5b7d60e4": {
          "model_module": "@jupyter-widgets/controls",
          "model_name": "HTMLModel",
          "model_module_version": "1.5.0",
          "state": {
            "_view_name": "HTMLView",
            "style": "IPY_MODEL_1b1f78c8391248f8b9e3062c3ef66e23",
            "_dom_classes": [],
            "description": "",
            "_model_name": "HTMLModel",
            "placeholder": "​",
            "_view_module": "@jupyter-widgets/controls",
            "_model_module_version": "1.5.0",
            "value": "Finding Elimination Order: : 100%",
            "_view_count": null,
            "_view_module_version": "1.5.0",
            "description_tooltip": null,
            "_model_module": "@jupyter-widgets/controls",
            "layout": "IPY_MODEL_6b1e0be0a1a4405c9166c2f1217c65ea"
          }
        },
        "1593ee53bb3b458594ab3d9bf99081c2": {
          "model_module": "@jupyter-widgets/controls",
          "model_name": "FloatProgressModel",
          "model_module_version": "1.5.0",
          "state": {
            "_view_name": "ProgressView",
            "style": "IPY_MODEL_9cfd0f5f633d4330bdb8cdab4ed6b4b6",
            "_dom_classes": [],
            "description": "",
            "_model_name": "FloatProgressModel",
            "bar_style": "success",
            "max": 9,
            "_view_module": "@jupyter-widgets/controls",
            "_model_module_version": "1.5.0",
            "value": 9,
            "_view_count": null,
            "_view_module_version": "1.5.0",
            "orientation": "horizontal",
            "min": 0,
            "description_tooltip": null,
            "_model_module": "@jupyter-widgets/controls",
            "layout": "IPY_MODEL_63f08bdb8e4642a29f780d3be6c5a851"
          }
        },
        "84193c179cca45aba576585491f92e34": {
          "model_module": "@jupyter-widgets/controls",
          "model_name": "HTMLModel",
          "model_module_version": "1.5.0",
          "state": {
            "_view_name": "HTMLView",
            "style": "IPY_MODEL_bf07533da9854c0face0acced1b023de",
            "_dom_classes": [],
            "description": "",
            "_model_name": "HTMLModel",
            "placeholder": "​",
            "_view_module": "@jupyter-widgets/controls",
            "_model_module_version": "1.5.0",
            "value": " 9/9 [00:00&lt;00:00, 88.29it/s]",
            "_view_count": null,
            "_view_module_version": "1.5.0",
            "description_tooltip": null,
            "_model_module": "@jupyter-widgets/controls",
            "layout": "IPY_MODEL_c7786f75df0c4e109fe2279463169213"
          }
        },
        "1b1f78c8391248f8b9e3062c3ef66e23": {
          "model_module": "@jupyter-widgets/controls",
          "model_name": "DescriptionStyleModel",
          "model_module_version": "1.5.0",
          "state": {
            "_view_name": "StyleView",
            "_model_name": "DescriptionStyleModel",
            "description_width": "",
            "_view_module": "@jupyter-widgets/base",
            "_model_module_version": "1.5.0",
            "_view_count": null,
            "_view_module_version": "1.2.0",
            "_model_module": "@jupyter-widgets/controls"
          }
        },
        "6b1e0be0a1a4405c9166c2f1217c65ea": {
          "model_module": "@jupyter-widgets/base",
          "model_name": "LayoutModel",
          "model_module_version": "1.2.0",
          "state": {
            "_view_name": "LayoutView",
            "grid_template_rows": null,
            "right": null,
            "justify_content": null,
            "_view_module": "@jupyter-widgets/base",
            "overflow": null,
            "_model_module_version": "1.2.0",
            "_view_count": null,
            "flex_flow": null,
            "width": null,
            "min_width": null,
            "border": null,
            "align_items": null,
            "bottom": null,
            "_model_module": "@jupyter-widgets/base",
            "top": null,
            "grid_column": null,
            "overflow_y": null,
            "overflow_x": null,
            "grid_auto_flow": null,
            "grid_area": null,
            "grid_template_columns": null,
            "flex": null,
            "_model_name": "LayoutModel",
            "justify_items": null,
            "grid_row": null,
            "max_height": null,
            "align_content": null,
            "visibility": null,
            "align_self": null,
            "height": null,
            "min_height": null,
            "padding": null,
            "grid_auto_rows": null,
            "grid_gap": null,
            "max_width": null,
            "order": null,
            "_view_module_version": "1.2.0",
            "grid_template_areas": null,
            "object_position": null,
            "object_fit": null,
            "grid_auto_columns": null,
            "margin": null,
            "display": null,
            "left": null
          }
        },
        "9cfd0f5f633d4330bdb8cdab4ed6b4b6": {
          "model_module": "@jupyter-widgets/controls",
          "model_name": "ProgressStyleModel",
          "model_module_version": "1.5.0",
          "state": {
            "_view_name": "StyleView",
            "_model_name": "ProgressStyleModel",
            "description_width": "",
            "_view_module": "@jupyter-widgets/base",
            "_model_module_version": "1.5.0",
            "_view_count": null,
            "_view_module_version": "1.2.0",
            "bar_color": null,
            "_model_module": "@jupyter-widgets/controls"
          }
        },
        "63f08bdb8e4642a29f780d3be6c5a851": {
          "model_module": "@jupyter-widgets/base",
          "model_name": "LayoutModel",
          "model_module_version": "1.2.0",
          "state": {
            "_view_name": "LayoutView",
            "grid_template_rows": null,
            "right": null,
            "justify_content": null,
            "_view_module": "@jupyter-widgets/base",
            "overflow": null,
            "_model_module_version": "1.2.0",
            "_view_count": null,
            "flex_flow": null,
            "width": null,
            "min_width": null,
            "border": null,
            "align_items": null,
            "bottom": null,
            "_model_module": "@jupyter-widgets/base",
            "top": null,
            "grid_column": null,
            "overflow_y": null,
            "overflow_x": null,
            "grid_auto_flow": null,
            "grid_area": null,
            "grid_template_columns": null,
            "flex": null,
            "_model_name": "LayoutModel",
            "justify_items": null,
            "grid_row": null,
            "max_height": null,
            "align_content": null,
            "visibility": null,
            "align_self": null,
            "height": null,
            "min_height": null,
            "padding": null,
            "grid_auto_rows": null,
            "grid_gap": null,
            "max_width": null,
            "order": null,
            "_view_module_version": "1.2.0",
            "grid_template_areas": null,
            "object_position": null,
            "object_fit": null,
            "grid_auto_columns": null,
            "margin": null,
            "display": null,
            "left": null
          }
        },
        "bf07533da9854c0face0acced1b023de": {
          "model_module": "@jupyter-widgets/controls",
          "model_name": "DescriptionStyleModel",
          "model_module_version": "1.5.0",
          "state": {
            "_view_name": "StyleView",
            "_model_name": "DescriptionStyleModel",
            "description_width": "",
            "_view_module": "@jupyter-widgets/base",
            "_model_module_version": "1.5.0",
            "_view_count": null,
            "_view_module_version": "1.2.0",
            "_model_module": "@jupyter-widgets/controls"
          }
        },
        "c7786f75df0c4e109fe2279463169213": {
          "model_module": "@jupyter-widgets/base",
          "model_name": "LayoutModel",
          "model_module_version": "1.2.0",
          "state": {
            "_view_name": "LayoutView",
            "grid_template_rows": null,
            "right": null,
            "justify_content": null,
            "_view_module": "@jupyter-widgets/base",
            "overflow": null,
            "_model_module_version": "1.2.0",
            "_view_count": null,
            "flex_flow": null,
            "width": null,
            "min_width": null,
            "border": null,
            "align_items": null,
            "bottom": null,
            "_model_module": "@jupyter-widgets/base",
            "top": null,
            "grid_column": null,
            "overflow_y": null,
            "overflow_x": null,
            "grid_auto_flow": null,
            "grid_area": null,
            "grid_template_columns": null,
            "flex": null,
            "_model_name": "LayoutModel",
            "justify_items": null,
            "grid_row": null,
            "max_height": null,
            "align_content": null,
            "visibility": null,
            "align_self": null,
            "height": null,
            "min_height": null,
            "padding": null,
            "grid_auto_rows": null,
            "grid_gap": null,
            "max_width": null,
            "order": null,
            "_view_module_version": "1.2.0",
            "grid_template_areas": null,
            "object_position": null,
            "object_fit": null,
            "grid_auto_columns": null,
            "margin": null,
            "display": null,
            "left": null
          }
        },
        "e7ba3bc3fbab497f9aba77cb883ae5a4": {
          "model_module": "@jupyter-widgets/controls",
          "model_name": "HBoxModel",
          "model_module_version": "1.5.0",
          "state": {
            "_view_name": "HBoxView",
            "_dom_classes": [],
            "_model_name": "HBoxModel",
            "_view_module": "@jupyter-widgets/controls",
            "_model_module_version": "1.5.0",
            "_view_count": null,
            "_view_module_version": "1.5.0",
            "box_style": "",
            "layout": "IPY_MODEL_c12bd0b9099746d28a2486587e81e21b",
            "_model_module": "@jupyter-widgets/controls",
            "children": [
              "IPY_MODEL_50b48b6228c54711be9df7d951e61b67",
              "IPY_MODEL_8dda339d45f44cd584f25756108dfd7b",
              "IPY_MODEL_95d7b2c06ad2429fa3f8c88ce7a37159"
            ]
          }
        },
        "c12bd0b9099746d28a2486587e81e21b": {
          "model_module": "@jupyter-widgets/base",
          "model_name": "LayoutModel",
          "model_module_version": "1.2.0",
          "state": {
            "_view_name": "LayoutView",
            "grid_template_rows": null,
            "right": null,
            "justify_content": null,
            "_view_module": "@jupyter-widgets/base",
            "overflow": null,
            "_model_module_version": "1.2.0",
            "_view_count": null,
            "flex_flow": null,
            "width": null,
            "min_width": null,
            "border": null,
            "align_items": null,
            "bottom": null,
            "_model_module": "@jupyter-widgets/base",
            "top": null,
            "grid_column": null,
            "overflow_y": null,
            "overflow_x": null,
            "grid_auto_flow": null,
            "grid_area": null,
            "grid_template_columns": null,
            "flex": null,
            "_model_name": "LayoutModel",
            "justify_items": null,
            "grid_row": null,
            "max_height": null,
            "align_content": null,
            "visibility": null,
            "align_self": null,
            "height": null,
            "min_height": null,
            "padding": null,
            "grid_auto_rows": null,
            "grid_gap": null,
            "max_width": null,
            "order": null,
            "_view_module_version": "1.2.0",
            "grid_template_areas": null,
            "object_position": null,
            "object_fit": null,
            "grid_auto_columns": null,
            "margin": null,
            "display": null,
            "left": null
          }
        },
        "50b48b6228c54711be9df7d951e61b67": {
          "model_module": "@jupyter-widgets/controls",
          "model_name": "HTMLModel",
          "model_module_version": "1.5.0",
          "state": {
            "_view_name": "HTMLView",
            "style": "IPY_MODEL_753fb15e262d494d97da8992f5746fef",
            "_dom_classes": [],
            "description": "",
            "_model_name": "HTMLModel",
            "placeholder": "​",
            "_view_module": "@jupyter-widgets/controls",
            "_model_module_version": "1.5.0",
            "value": "Eliminating: state_bt3_0: 100%",
            "_view_count": null,
            "_view_module_version": "1.5.0",
            "description_tooltip": null,
            "_model_module": "@jupyter-widgets/controls",
            "layout": "IPY_MODEL_a259c09f2f20451dae89b8cd0d474d53"
          }
        },
        "8dda339d45f44cd584f25756108dfd7b": {
          "model_module": "@jupyter-widgets/controls",
          "model_name": "FloatProgressModel",
          "model_module_version": "1.5.0",
          "state": {
            "_view_name": "ProgressView",
            "style": "IPY_MODEL_2d3a87a97525450eae1a4a2ad7dd8f4f",
            "_dom_classes": [],
            "description": "",
            "_model_name": "FloatProgressModel",
            "bar_style": "success",
            "max": 9,
            "_view_module": "@jupyter-widgets/controls",
            "_model_module_version": "1.5.0",
            "value": 9,
            "_view_count": null,
            "_view_module_version": "1.5.0",
            "orientation": "horizontal",
            "min": 0,
            "description_tooltip": null,
            "_model_module": "@jupyter-widgets/controls",
            "layout": "IPY_MODEL_e358d2e32bb2458384feb9ab9afb0910"
          }
        },
        "95d7b2c06ad2429fa3f8c88ce7a37159": {
          "model_module": "@jupyter-widgets/controls",
          "model_name": "HTMLModel",
          "model_module_version": "1.5.0",
          "state": {
            "_view_name": "HTMLView",
            "style": "IPY_MODEL_e16109d8553745ac907373dead6569c4",
            "_dom_classes": [],
            "description": "",
            "_model_name": "HTMLModel",
            "placeholder": "​",
            "_view_module": "@jupyter-widgets/controls",
            "_model_module_version": "1.5.0",
            "value": " 9/9 [00:00&lt;00:00,  5.21it/s]",
            "_view_count": null,
            "_view_module_version": "1.5.0",
            "description_tooltip": null,
            "_model_module": "@jupyter-widgets/controls",
            "layout": "IPY_MODEL_49977a18ac554297a600aac5d2f39144"
          }
        },
        "753fb15e262d494d97da8992f5746fef": {
          "model_module": "@jupyter-widgets/controls",
          "model_name": "DescriptionStyleModel",
          "model_module_version": "1.5.0",
          "state": {
            "_view_name": "StyleView",
            "_model_name": "DescriptionStyleModel",
            "description_width": "",
            "_view_module": "@jupyter-widgets/base",
            "_model_module_version": "1.5.0",
            "_view_count": null,
            "_view_module_version": "1.2.0",
            "_model_module": "@jupyter-widgets/controls"
          }
        },
        "a259c09f2f20451dae89b8cd0d474d53": {
          "model_module": "@jupyter-widgets/base",
          "model_name": "LayoutModel",
          "model_module_version": "1.2.0",
          "state": {
            "_view_name": "LayoutView",
            "grid_template_rows": null,
            "right": null,
            "justify_content": null,
            "_view_module": "@jupyter-widgets/base",
            "overflow": null,
            "_model_module_version": "1.2.0",
            "_view_count": null,
            "flex_flow": null,
            "width": null,
            "min_width": null,
            "border": null,
            "align_items": null,
            "bottom": null,
            "_model_module": "@jupyter-widgets/base",
            "top": null,
            "grid_column": null,
            "overflow_y": null,
            "overflow_x": null,
            "grid_auto_flow": null,
            "grid_area": null,
            "grid_template_columns": null,
            "flex": null,
            "_model_name": "LayoutModel",
            "justify_items": null,
            "grid_row": null,
            "max_height": null,
            "align_content": null,
            "visibility": null,
            "align_self": null,
            "height": null,
            "min_height": null,
            "padding": null,
            "grid_auto_rows": null,
            "grid_gap": null,
            "max_width": null,
            "order": null,
            "_view_module_version": "1.2.0",
            "grid_template_areas": null,
            "object_position": null,
            "object_fit": null,
            "grid_auto_columns": null,
            "margin": null,
            "display": null,
            "left": null
          }
        },
        "2d3a87a97525450eae1a4a2ad7dd8f4f": {
          "model_module": "@jupyter-widgets/controls",
          "model_name": "ProgressStyleModel",
          "model_module_version": "1.5.0",
          "state": {
            "_view_name": "StyleView",
            "_model_name": "ProgressStyleModel",
            "description_width": "",
            "_view_module": "@jupyter-widgets/base",
            "_model_module_version": "1.5.0",
            "_view_count": null,
            "_view_module_version": "1.2.0",
            "bar_color": null,
            "_model_module": "@jupyter-widgets/controls"
          }
        },
        "e358d2e32bb2458384feb9ab9afb0910": {
          "model_module": "@jupyter-widgets/base",
          "model_name": "LayoutModel",
          "model_module_version": "1.2.0",
          "state": {
            "_view_name": "LayoutView",
            "grid_template_rows": null,
            "right": null,
            "justify_content": null,
            "_view_module": "@jupyter-widgets/base",
            "overflow": null,
            "_model_module_version": "1.2.0",
            "_view_count": null,
            "flex_flow": null,
            "width": null,
            "min_width": null,
            "border": null,
            "align_items": null,
            "bottom": null,
            "_model_module": "@jupyter-widgets/base",
            "top": null,
            "grid_column": null,
            "overflow_y": null,
            "overflow_x": null,
            "grid_auto_flow": null,
            "grid_area": null,
            "grid_template_columns": null,
            "flex": null,
            "_model_name": "LayoutModel",
            "justify_items": null,
            "grid_row": null,
            "max_height": null,
            "align_content": null,
            "visibility": null,
            "align_self": null,
            "height": null,
            "min_height": null,
            "padding": null,
            "grid_auto_rows": null,
            "grid_gap": null,
            "max_width": null,
            "order": null,
            "_view_module_version": "1.2.0",
            "grid_template_areas": null,
            "object_position": null,
            "object_fit": null,
            "grid_auto_columns": null,
            "margin": null,
            "display": null,
            "left": null
          }
        },
        "e16109d8553745ac907373dead6569c4": {
          "model_module": "@jupyter-widgets/controls",
          "model_name": "DescriptionStyleModel",
          "model_module_version": "1.5.0",
          "state": {
            "_view_name": "StyleView",
            "_model_name": "DescriptionStyleModel",
            "description_width": "",
            "_view_module": "@jupyter-widgets/base",
            "_model_module_version": "1.5.0",
            "_view_count": null,
            "_view_module_version": "1.2.0",
            "_model_module": "@jupyter-widgets/controls"
          }
        },
        "49977a18ac554297a600aac5d2f39144": {
          "model_module": "@jupyter-widgets/base",
          "model_name": "LayoutModel",
          "model_module_version": "1.2.0",
          "state": {
            "_view_name": "LayoutView",
            "grid_template_rows": null,
            "right": null,
            "justify_content": null,
            "_view_module": "@jupyter-widgets/base",
            "overflow": null,
            "_model_module_version": "1.2.0",
            "_view_count": null,
            "flex_flow": null,
            "width": null,
            "min_width": null,
            "border": null,
            "align_items": null,
            "bottom": null,
            "_model_module": "@jupyter-widgets/base",
            "top": null,
            "grid_column": null,
            "overflow_y": null,
            "overflow_x": null,
            "grid_auto_flow": null,
            "grid_area": null,
            "grid_template_columns": null,
            "flex": null,
            "_model_name": "LayoutModel",
            "justify_items": null,
            "grid_row": null,
            "max_height": null,
            "align_content": null,
            "visibility": null,
            "align_self": null,
            "height": null,
            "min_height": null,
            "padding": null,
            "grid_auto_rows": null,
            "grid_gap": null,
            "max_width": null,
            "order": null,
            "_view_module_version": "1.2.0",
            "grid_template_areas": null,
            "object_position": null,
            "object_fit": null,
            "grid_auto_columns": null,
            "margin": null,
            "display": null,
            "left": null
          }
        }
      }
    }
  },
  "cells": [
    {
      "cell_type": "markdown",
      "metadata": {
        "id": "view-in-github",
        "colab_type": "text"
      },
      "source": [
        "<a href=\"https://colab.research.google.com/github/KiralyOr/PBP/blob/main/BPtoBN_transition_dist.ipynb\" target=\"_parent\"><img src=\"https://colab.research.google.com/assets/colab-badge.svg\" alt=\"Open In Colab\"/></a>"
      ]
    },
    {
      "cell_type": "code",
      "source": [
        "!pip install pgmpy"
      ],
      "metadata": {
        "id": "4uZ8HcdKAF4E",
        "colab": {
          "base_uri": "https://localhost:8080/"
        },
        "outputId": "58a0f2ec-e037-4d52-fa48-19e0930b7cc5"
      },
      "execution_count": null,
      "outputs": [
        {
          "output_type": "stream",
          "name": "stdout",
          "text": [
            "Requirement already satisfied: pgmpy in /usr/local/lib/python3.7/dist-packages (0.1.17)\n",
            "Requirement already satisfied: joblib in /usr/local/lib/python3.7/dist-packages (from pgmpy) (1.1.0)\n",
            "Requirement already satisfied: scikit-learn in /usr/local/lib/python3.7/dist-packages (from pgmpy) (1.0.2)\n",
            "Requirement already satisfied: torch in /usr/local/lib/python3.7/dist-packages (from pgmpy) (1.10.0+cu111)\n",
            "Requirement already satisfied: numpy in /usr/local/lib/python3.7/dist-packages (from pgmpy) (1.19.5)\n",
            "Requirement already satisfied: pyparsing in /usr/local/lib/python3.7/dist-packages (from pgmpy) (3.0.7)\n",
            "Requirement already satisfied: scipy in /usr/local/lib/python3.7/dist-packages (from pgmpy) (1.4.1)\n",
            "Requirement already satisfied: pandas in /usr/local/lib/python3.7/dist-packages (from pgmpy) (1.1.5)\n",
            "Requirement already satisfied: tqdm in /usr/local/lib/python3.7/dist-packages (from pgmpy) (4.62.3)\n",
            "Requirement already satisfied: networkx in /usr/local/lib/python3.7/dist-packages (from pgmpy) (2.6.3)\n",
            "Requirement already satisfied: statsmodels in /usr/local/lib/python3.7/dist-packages (from pgmpy) (0.10.2)\n",
            "Requirement already satisfied: pytz>=2017.2 in /usr/local/lib/python3.7/dist-packages (from pandas->pgmpy) (2018.9)\n",
            "Requirement already satisfied: python-dateutil>=2.7.3 in /usr/local/lib/python3.7/dist-packages (from pandas->pgmpy) (2.8.2)\n",
            "Requirement already satisfied: six>=1.5 in /usr/local/lib/python3.7/dist-packages (from python-dateutil>=2.7.3->pandas->pgmpy) (1.15.0)\n",
            "Requirement already satisfied: threadpoolctl>=2.0.0 in /usr/local/lib/python3.7/dist-packages (from scikit-learn->pgmpy) (3.0.0)\n",
            "Requirement already satisfied: patsy>=0.4.0 in /usr/local/lib/python3.7/dist-packages (from statsmodels->pgmpy) (0.5.2)\n",
            "Requirement already satisfied: typing-extensions in /usr/local/lib/python3.7/dist-packages (from torch->pgmpy) (3.10.0.2)\n"
          ]
        }
      ]
    },
    {
      "cell_type": "code",
      "source": [
        "from collections import defaultdict\n",
        "import itertools\n",
        "import graphviz\n",
        "import pandas as pd\n",
        "from pgmpy.models import BayesianNetwork\n",
        "from pgmpy.factors.discrete import TabularCPD\n"
      ],
      "metadata": {
        "id": "UvbWuYnR804N"
      },
      "execution_count": null,
      "outputs": []
    },
    {
      "cell_type": "markdown",
      "source": [
        "#BThreds implementation\n"
      ],
      "metadata": {
        "id": "XZJfs34xlgul"
      }
    },
    {
      "cell_type": "markdown",
      "source": [
        "###Data Structure definition"
      ],
      "metadata": {
        "id": "GUB0SgnzlwU9"
      }
    },
    {
      "cell_type": "code",
      "execution_count": null,
      "metadata": {
        "id": "0dz9hAFj7nMo"
      },
      "outputs": [],
      "source": [
        "INITIALS=defaultdict(list,\n",
        "            {'bt1': {'states':['0'], 'dist':[1]},\n",
        "             'bt2': {'states':['0'], 'dist':[]},\n",
        "             'bt3': {'states':['0'], },})\n",
        "\n",
        "BTHREADS= ['bt1','bt2','bt3' ]\n",
        "\n",
        "assert BTHREADS == list(INITIALS.keys()) \n",
        "\n",
        "EVENTS = ['_nop', 'g1', 'g2', 'g3', 'h1', 'h2', 'h3', 'o1', 'o2', 'o3'] \n",
        "\n",
        "STATES = defaultdict(list,\n",
        "            {'bt1':['0','1','2','3'],\n",
        "             'bt2':['0','1','2','3'],\n",
        "             'bt3':['0','1','2','3']})\n",
        "\n",
        "for bt in BTHREADS:\n",
        "    assert [state in STATES[bt] for state in INITIALS[bt]['states']][0] \n",
        "\n",
        "\n",
        "\n",
        "REQUESTED_AND_BLOCKED = {'bt1':{'0':{'requested':['h1', 'h2', 'h3'], 'blocked': []},\n",
        "                                '1':{'requested':['g1', 'g2', 'g3'], 'blocked': []},\n",
        "                                '2':{'requested':['o1', 'o2', 'o3'], 'blocked': []},\n",
        "                                '3':{'requested':[], 'blocked': []},\n",
        "                                },\n",
        "                         'bt2':{'0':{'requested':[], 'blocked': []},\n",
        "                                '1':{'requested':[], 'blocked': ['o1']},\n",
        "                                '2':{'requested':[], 'blocked': ['o2']},\n",
        "                                '3':{'requested':[], 'blocked': ['o3']},\n",
        "                                },\n",
        "                         'bt3':{'0':{'requested':[], 'blocked': []},\n",
        "                                '1':{'requested':[], 'blocked': ['o1']},\n",
        "                                '2':{'requested':[], 'blocked': ['o2']},\n",
        "                                '3':{'requested':[], 'blocked': ['o3']},\n",
        "                                },\n",
        "                         \n",
        "                        }\n",
        "                  \n",
        "TRANSITIONS = {'bt1':{'transitions':[{'source':'0', 'target':'1', 'event': 'h1'},\n",
        "                                     {'source':'0', 'target':'1', 'event': 'h2'}, \n",
        "                                     {'source':'0', 'target':'1', 'event': 'h3'},\n",
        "                                     {'source':'1', 'target':'2', 'event': 'g1'},\n",
        "                                     {'source':'1', 'target':'2', 'event': 'g2'},\n",
        "                                     {'source':'1', 'target':'2', 'event': 'g3'},\n",
        "                                     {'source':'2', 'target':'3', 'event': 'o1'},\n",
        "                                     {'source':'2', 'target':'3', 'event': 'o2'},\n",
        "                                     {'source':'2', 'target':'3', 'event': 'o3'}\n",
        "                                    ]\n",
        "                      ,'prob':[1 for _ in range(9)]}\n",
        "\n",
        "              ,'bt2':{'transitions':[{'source':'0', 'target':'1', 'event': 'h1'},\n",
        "                                     {'source':'0', 'target':'2', 'event': 'h2'},\n",
        "                                     {'source':'0', 'target':'3', 'event': 'h3'},\n",
        "                                    ]\n",
        "                      ,'prob':[1 for _ in range(3)]}\n",
        "              ,'bt3':{'transitions':[{'source':'0', 'target':'1', 'event': 'g1'},\n",
        "                                     {'source':'0', 'target':'2', 'event': 'g2'},\n",
        "                                     {'source':'0', 'target':'3', 'event': 'g3'},\n",
        "                                    ]\n",
        "                      ,'prob':[1 for _ in range(3)]}\n",
        "               }\n",
        "\n",
        "\n",
        "TIME=[0, 1, 2]"
      ]
    },
    {
      "cell_type": "code",
      "source": [
        "{'event': 'h1', 'source': '0', 'target': '1'} in TRANSITIONS['bt1']['transitions']"
      ],
      "metadata": {
        "colab": {
          "base_uri": "https://localhost:8080/"
        },
        "id": "ilzkPE5r-4dS",
        "outputId": "a6aa6b5d-a16e-4000-a687-ab1f08c98c94"
      },
      "execution_count": null,
      "outputs": [
        {
          "output_type": "execute_result",
          "data": {
            "text/plain": [
              "True"
            ]
          },
          "metadata": {},
          "execution_count": 476
        }
      ]
    },
    {
      "cell_type": "code",
      "source": [
        "TRANSITIONS['bt1']['transitions'].index({'event': 'h1', 'source': '0', 'target': '1'})"
      ],
      "metadata": {
        "colab": {
          "base_uri": "https://localhost:8080/"
        },
        "id": "BFr5luff_DOW",
        "outputId": "f6d9608a-d83c-4abf-d4b4-a933cd01e0a6"
      },
      "execution_count": null,
      "outputs": [
        {
          "output_type": "execute_result",
          "data": {
            "text/plain": [
              "0"
            ]
          },
          "metadata": {},
          "execution_count": 477
        }
      ]
    },
    {
      "cell_type": "markdown",
      "source": [
        "# Translation to Bayesian Network"
      ],
      "metadata": {
        "id": "MRqKMp2l7xsZ"
      }
    },
    {
      "cell_type": "code",
      "source": [
        "p = graphviz.Digraph(name='Bayesian Network')\n",
        "for i in TIME:\n",
        "  for bt in BTHREADS:\n",
        "    p.edge(f'event({i+1})', f'state({bt}_{i+1})')\n",
        "    p.edge(f'state({bt}_{i})',f'event({i+1})')\n",
        "    p.edge(f'state({bt}_{i})',f'state({bt}_{i+1})')\n",
        "p"
      ],
      "metadata": {
        "id": "KK0vFyAvigSP",
        "colab": {
          "base_uri": "https://localhost:8080/",
          "height": 656
        },
        "outputId": "f449c7e9-6638-40d9-df38-8ef881edec8c"
      },
      "execution_count": null,
      "outputs": [
        {
          "output_type": "execute_result",
          "data": {
            "text/plain": [
              "<graphviz.dot.Digraph at 0x7fd9ad825d90>"
            ],
            "image/svg+xml": "<?xml version=\"1.0\" encoding=\"UTF-8\" standalone=\"no\"?>\n<!DOCTYPE svg PUBLIC \"-//W3C//DTD SVG 1.1//EN\"\n \"http://www.w3.org/Graphics/SVG/1.1/DTD/svg11.dtd\">\n<!-- Generated by graphviz version 2.40.1 (20161225.0304)\n -->\n<!-- Title: Bayesian Network Pages: 1 -->\n<svg width=\"371pt\" height=\"476pt\"\n viewBox=\"0.00 0.00 371.19 476.00\" xmlns=\"http://www.w3.org/2000/svg\" xmlns:xlink=\"http://www.w3.org/1999/xlink\">\n<g id=\"graph0\" class=\"graph\" transform=\"scale(1 1) rotate(0) translate(4 472)\">\n<title>Bayesian Network</title>\n<polygon fill=\"#ffffff\" stroke=\"transparent\" points=\"-4,4 -4,-472 367.1903,-472 367.1903,4 -4,4\"/>\n<!-- event(1) -->\n<g id=\"node1\" class=\"node\">\n<title>event(1)</title>\n<ellipse fill=\"none\" stroke=\"#000000\" cx=\"153.5952\" cy=\"-378\" rx=\"41.6928\" ry=\"18\"/>\n<text text-anchor=\"middle\" x=\"153.5952\" y=\"-374.3\" font-family=\"Times,serif\" font-size=\"14.00\" fill=\"#000000\">event(1)</text>\n</g>\n<!-- state(bt1_1) -->\n<g id=\"node2\" class=\"node\">\n<title>state(bt1_1)</title>\n<ellipse fill=\"none\" stroke=\"#000000\" cx=\"54.5952\" cy=\"-306\" rx=\"54.6905\" ry=\"18\"/>\n<text text-anchor=\"middle\" x=\"54.5952\" y=\"-302.3\" font-family=\"Times,serif\" font-size=\"14.00\" fill=\"#000000\">state(bt1_1)</text>\n</g>\n<!-- event(1)&#45;&gt;state(bt1_1) -->\n<g id=\"edge1\" class=\"edge\">\n<title>event(1)&#45;&gt;state(bt1_1)</title>\n<path fill=\"none\" stroke=\"#000000\" d=\"M132.1136,-362.3771C118.6127,-352.5582 100.9654,-339.7238 85.9197,-328.7815\"/>\n<polygon fill=\"#000000\" stroke=\"#000000\" points=\"87.5586,-325.6457 77.4126,-322.5945 83.4414,-331.3069 87.5586,-325.6457\"/>\n</g>\n<!-- state(bt2_1) -->\n<g id=\"node4\" class=\"node\">\n<title>state(bt2_1)</title>\n<ellipse fill=\"none\" stroke=\"#000000\" cx=\"181.5952\" cy=\"-306\" rx=\"54.6905\" ry=\"18\"/>\n<text text-anchor=\"middle\" x=\"181.5952\" y=\"-302.3\" font-family=\"Times,serif\" font-size=\"14.00\" fill=\"#000000\">state(bt2_1)</text>\n</g>\n<!-- event(1)&#45;&gt;state(bt2_1) -->\n<g id=\"edge4\" class=\"edge\">\n<title>event(1)&#45;&gt;state(bt2_1)</title>\n<path fill=\"none\" stroke=\"#000000\" d=\"M160.5165,-360.2022C163.6562,-352.1287 167.4405,-342.3976 170.931,-333.422\"/>\n<polygon fill=\"#000000\" stroke=\"#000000\" points=\"174.1964,-334.6818 174.5589,-324.0931 167.6724,-332.1446 174.1964,-334.6818\"/>\n</g>\n<!-- state(bt3_1) -->\n<g id=\"node6\" class=\"node\">\n<title>state(bt3_1)</title>\n<ellipse fill=\"none\" stroke=\"#000000\" cx=\"308.5952\" cy=\"-306\" rx=\"54.6905\" ry=\"18\"/>\n<text text-anchor=\"middle\" x=\"308.5952\" y=\"-302.3\" font-family=\"Times,serif\" font-size=\"14.00\" fill=\"#000000\">state(bt3_1)</text>\n</g>\n<!-- event(1)&#45;&gt;state(bt3_1) -->\n<g id=\"edge7\" class=\"edge\">\n<title>event(1)&#45;&gt;state(bt3_1)</title>\n<path fill=\"none\" stroke=\"#000000\" d=\"M182.0245,-364.7941C206.0256,-353.6452 240.6931,-337.5416 267.6799,-325.0058\"/>\n<polygon fill=\"#000000\" stroke=\"#000000\" points=\"269.2803,-328.1216 276.8751,-320.7345 266.3312,-321.7731 269.2803,-328.1216\"/>\n</g>\n<!-- event(2) -->\n<g id=\"node8\" class=\"node\">\n<title>event(2)</title>\n<ellipse fill=\"none\" stroke=\"#000000\" cx=\"153.5952\" cy=\"-234\" rx=\"41.6928\" ry=\"18\"/>\n<text text-anchor=\"middle\" x=\"153.5952\" y=\"-230.3\" font-family=\"Times,serif\" font-size=\"14.00\" fill=\"#000000\">event(2)</text>\n</g>\n<!-- state(bt1_1)&#45;&gt;event(2) -->\n<g id=\"edge11\" class=\"edge\">\n<title>state(bt1_1)&#45;&gt;event(2)</title>\n<path fill=\"none\" stroke=\"#000000\" d=\"M77.5566,-289.3008C91.3083,-279.2995 108.9398,-266.4766 123.7618,-255.697\"/>\n<polygon fill=\"#000000\" stroke=\"#000000\" points=\"126.0849,-258.3353 132.1136,-249.6229 121.9676,-252.6741 126.0849,-258.3353\"/>\n</g>\n<!-- state(bt1_2) -->\n<g id=\"node9\" class=\"node\">\n<title>state(bt1_2)</title>\n<ellipse fill=\"none\" stroke=\"#000000\" cx=\"54.5952\" cy=\"-162\" rx=\"54.6905\" ry=\"18\"/>\n<text text-anchor=\"middle\" x=\"54.5952\" y=\"-158.3\" font-family=\"Times,serif\" font-size=\"14.00\" fill=\"#000000\">state(bt1_2)</text>\n</g>\n<!-- state(bt1_1)&#45;&gt;state(bt1_2) -->\n<g id=\"edge12\" class=\"edge\">\n<title>state(bt1_1)&#45;&gt;state(bt1_2)</title>\n<path fill=\"none\" stroke=\"#000000\" d=\"M54.5952,-287.7623C54.5952,-263.201 54.5952,-219.2474 54.5952,-190.3541\"/>\n<polygon fill=\"#000000\" stroke=\"#000000\" points=\"58.0953,-190.0896 54.5952,-180.0896 51.0953,-190.0897 58.0953,-190.0896\"/>\n</g>\n<!-- state(bt1_0) -->\n<g id=\"node3\" class=\"node\">\n<title>state(bt1_0)</title>\n<ellipse fill=\"none\" stroke=\"#000000\" cx=\"54.5952\" cy=\"-450\" rx=\"54.6905\" ry=\"18\"/>\n<text text-anchor=\"middle\" x=\"54.5952\" y=\"-446.3\" font-family=\"Times,serif\" font-size=\"14.00\" fill=\"#000000\">state(bt1_0)</text>\n</g>\n<!-- state(bt1_0)&#45;&gt;event(1) -->\n<g id=\"edge2\" class=\"edge\">\n<title>state(bt1_0)&#45;&gt;event(1)</title>\n<path fill=\"none\" stroke=\"#000000\" d=\"M77.5566,-433.3008C91.3083,-423.2995 108.9398,-410.4766 123.7618,-399.697\"/>\n<polygon fill=\"#000000\" stroke=\"#000000\" points=\"126.0849,-402.3353 132.1136,-393.6229 121.9676,-396.6741 126.0849,-402.3353\"/>\n</g>\n<!-- state(bt1_0)&#45;&gt;state(bt1_1) -->\n<g id=\"edge3\" class=\"edge\">\n<title>state(bt1_0)&#45;&gt;state(bt1_1)</title>\n<path fill=\"none\" stroke=\"#000000\" d=\"M54.5952,-431.7623C54.5952,-407.201 54.5952,-363.2474 54.5952,-334.3541\"/>\n<polygon fill=\"#000000\" stroke=\"#000000\" points=\"58.0953,-334.0896 54.5952,-324.0896 51.0953,-334.0897 58.0953,-334.0896\"/>\n</g>\n<!-- state(bt2_1)&#45;&gt;event(2) -->\n<g id=\"edge14\" class=\"edge\">\n<title>state(bt2_1)&#45;&gt;event(2)</title>\n<path fill=\"none\" stroke=\"#000000\" d=\"M174.5296,-287.8314C171.4221,-279.8406 167.7048,-270.2819 164.2707,-261.4514\"/>\n<polygon fill=\"#000000\" stroke=\"#000000\" points=\"167.448,-259.9649 160.5615,-251.9134 160.924,-262.502 167.448,-259.9649\"/>\n</g>\n<!-- state(bt2_2) -->\n<g id=\"node10\" class=\"node\">\n<title>state(bt2_2)</title>\n<ellipse fill=\"none\" stroke=\"#000000\" cx=\"181.5952\" cy=\"-162\" rx=\"54.6905\" ry=\"18\"/>\n<text text-anchor=\"middle\" x=\"181.5952\" y=\"-158.3\" font-family=\"Times,serif\" font-size=\"14.00\" fill=\"#000000\">state(bt2_2)</text>\n</g>\n<!-- state(bt2_1)&#45;&gt;state(bt2_2) -->\n<g id=\"edge15\" class=\"edge\">\n<title>state(bt2_1)&#45;&gt;state(bt2_2)</title>\n<path fill=\"none\" stroke=\"#000000\" d=\"M191.3784,-288.0994C196.4158,-277.858 202.0277,-264.58 204.5952,-252 207.7947,-236.3232 207.7947,-231.6768 204.5952,-216 202.7498,-206.9581 199.3317,-197.5557 195.6845,-189.1793\"/>\n<polygon fill=\"#000000\" stroke=\"#000000\" points=\"198.7629,-187.498 191.3784,-179.9006 192.4133,-190.4448 198.7629,-187.498\"/>\n</g>\n<!-- state(bt2_0) -->\n<g id=\"node5\" class=\"node\">\n<title>state(bt2_0)</title>\n<ellipse fill=\"none\" stroke=\"#000000\" cx=\"181.5952\" cy=\"-450\" rx=\"54.6905\" ry=\"18\"/>\n<text text-anchor=\"middle\" x=\"181.5952\" y=\"-446.3\" font-family=\"Times,serif\" font-size=\"14.00\" fill=\"#000000\">state(bt2_0)</text>\n</g>\n<!-- state(bt2_0)&#45;&gt;event(1) -->\n<g id=\"edge5\" class=\"edge\">\n<title>state(bt2_0)&#45;&gt;event(1)</title>\n<path fill=\"none\" stroke=\"#000000\" d=\"M174.5296,-431.8314C171.4221,-423.8406 167.7048,-414.2819 164.2707,-405.4514\"/>\n<polygon fill=\"#000000\" stroke=\"#000000\" points=\"167.448,-403.9649 160.5615,-395.9134 160.924,-406.502 167.448,-403.9649\"/>\n</g>\n<!-- state(bt2_0)&#45;&gt;state(bt2_1) -->\n<g id=\"edge6\" class=\"edge\">\n<title>state(bt2_0)&#45;&gt;state(bt2_1)</title>\n<path fill=\"none\" stroke=\"#000000\" d=\"M191.3784,-432.0994C196.4158,-421.858 202.0277,-408.58 204.5952,-396 207.7947,-380.3232 207.7947,-375.6768 204.5952,-360 202.7498,-350.9581 199.3317,-341.5557 195.6845,-333.1793\"/>\n<polygon fill=\"#000000\" stroke=\"#000000\" points=\"198.7629,-331.498 191.3784,-323.9006 192.4133,-334.4448 198.7629,-331.498\"/>\n</g>\n<!-- state(bt3_1)&#45;&gt;event(2) -->\n<g id=\"edge17\" class=\"edge\">\n<title>state(bt3_1)&#45;&gt;event(2)</title>\n<path fill=\"none\" stroke=\"#000000\" d=\"M276.8546,-291.256C252.0857,-279.7505 217.6015,-263.732 191.4046,-251.5631\"/>\n<polygon fill=\"#000000\" stroke=\"#000000\" points=\"192.7052,-248.3081 182.1614,-247.2695 189.7562,-254.6566 192.7052,-248.3081\"/>\n</g>\n<!-- state(bt3_2) -->\n<g id=\"node11\" class=\"node\">\n<title>state(bt3_2)</title>\n<ellipse fill=\"none\" stroke=\"#000000\" cx=\"308.5952\" cy=\"-162\" rx=\"54.6905\" ry=\"18\"/>\n<text text-anchor=\"middle\" x=\"308.5952\" y=\"-158.3\" font-family=\"Times,serif\" font-size=\"14.00\" fill=\"#000000\">state(bt3_2)</text>\n</g>\n<!-- state(bt3_1)&#45;&gt;state(bt3_2) -->\n<g id=\"edge18\" class=\"edge\">\n<title>state(bt3_1)&#45;&gt;state(bt3_2)</title>\n<path fill=\"none\" stroke=\"#000000\" d=\"M308.5952,-287.7623C308.5952,-263.201 308.5952,-219.2474 308.5952,-190.3541\"/>\n<polygon fill=\"#000000\" stroke=\"#000000\" points=\"312.0953,-190.0896 308.5952,-180.0896 305.0953,-190.0897 312.0953,-190.0896\"/>\n</g>\n<!-- state(bt3_0) -->\n<g id=\"node7\" class=\"node\">\n<title>state(bt3_0)</title>\n<ellipse fill=\"none\" stroke=\"#000000\" cx=\"308.5952\" cy=\"-450\" rx=\"54.6905\" ry=\"18\"/>\n<text text-anchor=\"middle\" x=\"308.5952\" y=\"-446.3\" font-family=\"Times,serif\" font-size=\"14.00\" fill=\"#000000\">state(bt3_0)</text>\n</g>\n<!-- state(bt3_0)&#45;&gt;event(1) -->\n<g id=\"edge8\" class=\"edge\">\n<title>state(bt3_0)&#45;&gt;event(1)</title>\n<path fill=\"none\" stroke=\"#000000\" d=\"M276.8546,-435.256C252.0857,-423.7505 217.6015,-407.732 191.4046,-395.5631\"/>\n<polygon fill=\"#000000\" stroke=\"#000000\" points=\"192.7052,-392.3081 182.1614,-391.2695 189.7562,-398.6566 192.7052,-392.3081\"/>\n</g>\n<!-- state(bt3_0)&#45;&gt;state(bt3_1) -->\n<g id=\"edge9\" class=\"edge\">\n<title>state(bt3_0)&#45;&gt;state(bt3_1)</title>\n<path fill=\"none\" stroke=\"#000000\" d=\"M308.5952,-431.7623C308.5952,-407.201 308.5952,-363.2474 308.5952,-334.3541\"/>\n<polygon fill=\"#000000\" stroke=\"#000000\" points=\"312.0953,-334.0896 308.5952,-324.0896 305.0953,-334.0897 312.0953,-334.0896\"/>\n</g>\n<!-- event(2)&#45;&gt;state(bt1_2) -->\n<g id=\"edge10\" class=\"edge\">\n<title>event(2)&#45;&gt;state(bt1_2)</title>\n<path fill=\"none\" stroke=\"#000000\" d=\"M132.1136,-218.3771C118.6127,-208.5582 100.9654,-195.7238 85.9197,-184.7815\"/>\n<polygon fill=\"#000000\" stroke=\"#000000\" points=\"87.5586,-181.6457 77.4126,-178.5945 83.4414,-187.3069 87.5586,-181.6457\"/>\n</g>\n<!-- event(2)&#45;&gt;state(bt2_2) -->\n<g id=\"edge13\" class=\"edge\">\n<title>event(2)&#45;&gt;state(bt2_2)</title>\n<path fill=\"none\" stroke=\"#000000\" d=\"M160.5165,-216.2022C163.6562,-208.1287 167.4405,-198.3976 170.931,-189.422\"/>\n<polygon fill=\"#000000\" stroke=\"#000000\" points=\"174.1964,-190.6818 174.5589,-180.0931 167.6724,-188.1446 174.1964,-190.6818\"/>\n</g>\n<!-- event(2)&#45;&gt;state(bt3_2) -->\n<g id=\"edge16\" class=\"edge\">\n<title>event(2)&#45;&gt;state(bt3_2)</title>\n<path fill=\"none\" stroke=\"#000000\" d=\"M182.0245,-220.7941C206.0256,-209.6452 240.6931,-193.5416 267.6799,-181.0058\"/>\n<polygon fill=\"#000000\" stroke=\"#000000\" points=\"269.2803,-184.1216 276.8751,-176.7345 266.3312,-177.7731 269.2803,-184.1216\"/>\n</g>\n<!-- event(3) -->\n<g id=\"node12\" class=\"node\">\n<title>event(3)</title>\n<ellipse fill=\"none\" stroke=\"#000000\" cx=\"153.5952\" cy=\"-90\" rx=\"41.6928\" ry=\"18\"/>\n<text text-anchor=\"middle\" x=\"153.5952\" y=\"-86.3\" font-family=\"Times,serif\" font-size=\"14.00\" fill=\"#000000\">event(3)</text>\n</g>\n<!-- state(bt1_2)&#45;&gt;event(3) -->\n<g id=\"edge20\" class=\"edge\">\n<title>state(bt1_2)&#45;&gt;event(3)</title>\n<path fill=\"none\" stroke=\"#000000\" d=\"M77.5566,-145.3008C91.3083,-135.2995 108.9398,-122.4766 123.7618,-111.697\"/>\n<polygon fill=\"#000000\" stroke=\"#000000\" points=\"126.0849,-114.3353 132.1136,-105.6229 121.9676,-108.6741 126.0849,-114.3353\"/>\n</g>\n<!-- state(bt1_3) -->\n<g id=\"node13\" class=\"node\">\n<title>state(bt1_3)</title>\n<ellipse fill=\"none\" stroke=\"#000000\" cx=\"54.5952\" cy=\"-18\" rx=\"54.6905\" ry=\"18\"/>\n<text text-anchor=\"middle\" x=\"54.5952\" y=\"-14.3\" font-family=\"Times,serif\" font-size=\"14.00\" fill=\"#000000\">state(bt1_3)</text>\n</g>\n<!-- state(bt1_2)&#45;&gt;state(bt1_3) -->\n<g id=\"edge21\" class=\"edge\">\n<title>state(bt1_2)&#45;&gt;state(bt1_3)</title>\n<path fill=\"none\" stroke=\"#000000\" d=\"M54.5952,-143.7623C54.5952,-119.201 54.5952,-75.2474 54.5952,-46.3541\"/>\n<polygon fill=\"#000000\" stroke=\"#000000\" points=\"58.0953,-46.0896 54.5952,-36.0896 51.0953,-46.0897 58.0953,-46.0896\"/>\n</g>\n<!-- state(bt2_2)&#45;&gt;event(3) -->\n<g id=\"edge23\" class=\"edge\">\n<title>state(bt2_2)&#45;&gt;event(3)</title>\n<path fill=\"none\" stroke=\"#000000\" d=\"M174.5296,-143.8314C171.4221,-135.8406 167.7048,-126.2819 164.2707,-117.4514\"/>\n<polygon fill=\"#000000\" stroke=\"#000000\" points=\"167.448,-115.9649 160.5615,-107.9134 160.924,-118.502 167.448,-115.9649\"/>\n</g>\n<!-- state(bt2_3) -->\n<g id=\"node14\" class=\"node\">\n<title>state(bt2_3)</title>\n<ellipse fill=\"none\" stroke=\"#000000\" cx=\"181.5952\" cy=\"-18\" rx=\"54.6905\" ry=\"18\"/>\n<text text-anchor=\"middle\" x=\"181.5952\" y=\"-14.3\" font-family=\"Times,serif\" font-size=\"14.00\" fill=\"#000000\">state(bt2_3)</text>\n</g>\n<!-- state(bt2_2)&#45;&gt;state(bt2_3) -->\n<g id=\"edge24\" class=\"edge\">\n<title>state(bt2_2)&#45;&gt;state(bt2_3)</title>\n<path fill=\"none\" stroke=\"#000000\" d=\"M191.3784,-144.0994C196.4158,-133.858 202.0277,-120.58 204.5952,-108 207.7947,-92.3232 207.7947,-87.6768 204.5952,-72 202.7498,-62.9581 199.3317,-53.5557 195.6845,-45.1793\"/>\n<polygon fill=\"#000000\" stroke=\"#000000\" points=\"198.7629,-43.498 191.3784,-35.9006 192.4133,-46.4448 198.7629,-43.498\"/>\n</g>\n<!-- state(bt3_2)&#45;&gt;event(3) -->\n<g id=\"edge26\" class=\"edge\">\n<title>state(bt3_2)&#45;&gt;event(3)</title>\n<path fill=\"none\" stroke=\"#000000\" d=\"M276.8546,-147.256C252.0857,-135.7505 217.6015,-119.732 191.4046,-107.5631\"/>\n<polygon fill=\"#000000\" stroke=\"#000000\" points=\"192.7052,-104.3081 182.1614,-103.2695 189.7562,-110.6566 192.7052,-104.3081\"/>\n</g>\n<!-- state(bt3_3) -->\n<g id=\"node15\" class=\"node\">\n<title>state(bt3_3)</title>\n<ellipse fill=\"none\" stroke=\"#000000\" cx=\"308.5952\" cy=\"-18\" rx=\"54.6905\" ry=\"18\"/>\n<text text-anchor=\"middle\" x=\"308.5952\" y=\"-14.3\" font-family=\"Times,serif\" font-size=\"14.00\" fill=\"#000000\">state(bt3_3)</text>\n</g>\n<!-- state(bt3_2)&#45;&gt;state(bt3_3) -->\n<g id=\"edge27\" class=\"edge\">\n<title>state(bt3_2)&#45;&gt;state(bt3_3)</title>\n<path fill=\"none\" stroke=\"#000000\" d=\"M308.5952,-143.7623C308.5952,-119.201 308.5952,-75.2474 308.5952,-46.3541\"/>\n<polygon fill=\"#000000\" stroke=\"#000000\" points=\"312.0953,-46.0896 308.5952,-36.0896 305.0953,-46.0897 312.0953,-46.0896\"/>\n</g>\n<!-- event(3)&#45;&gt;state(bt1_3) -->\n<g id=\"edge19\" class=\"edge\">\n<title>event(3)&#45;&gt;state(bt1_3)</title>\n<path fill=\"none\" stroke=\"#000000\" d=\"M132.1136,-74.3771C118.6127,-64.5582 100.9654,-51.7238 85.9197,-40.7815\"/>\n<polygon fill=\"#000000\" stroke=\"#000000\" points=\"87.5586,-37.6457 77.4126,-34.5945 83.4414,-43.3069 87.5586,-37.6457\"/>\n</g>\n<!-- event(3)&#45;&gt;state(bt2_3) -->\n<g id=\"edge22\" class=\"edge\">\n<title>event(3)&#45;&gt;state(bt2_3)</title>\n<path fill=\"none\" stroke=\"#000000\" d=\"M160.5165,-72.2022C163.6562,-64.1287 167.4405,-54.3976 170.931,-45.422\"/>\n<polygon fill=\"#000000\" stroke=\"#000000\" points=\"174.1964,-46.6818 174.5589,-36.0931 167.6724,-44.1446 174.1964,-46.6818\"/>\n</g>\n<!-- event(3)&#45;&gt;state(bt3_3) -->\n<g id=\"edge25\" class=\"edge\">\n<title>event(3)&#45;&gt;state(bt3_3)</title>\n<path fill=\"none\" stroke=\"#000000\" d=\"M182.0245,-76.7941C206.0256,-65.6452 240.6931,-49.5416 267.6799,-37.0058\"/>\n<polygon fill=\"#000000\" stroke=\"#000000\" points=\"269.2803,-40.1216 276.8751,-32.7345 266.3312,-33.7731 269.2803,-40.1216\"/>\n</g>\n</g>\n</svg>\n"
          },
          "metadata": {},
          "execution_count": 478
        }
      ]
    },
    {
      "cell_type": "markdown",
      "source": [
        "##BP util functions"
      ],
      "metadata": {
        "id": "Pmyjz1sNbPY_"
      }
    },
    {
      "cell_type": "code",
      "source": [
        "def requested_not_blocked(row) -> set:\n",
        "  # get set of all requested not blocked  from given BP program state\n",
        "  # state of each BThread in the system \n",
        "  states = [{'bt':bt,'state':row[bt]} for bt in BTHREADS]\n",
        "  requested = list()\n",
        "  blocked = list()\n",
        "  for s in states:\n",
        "      requested.extend(REQUESTED_AND_BLOCKED[s['bt']][s['state']]['requested'])\n",
        "      blocked.extend(REQUESTED_AND_BLOCKED[s['bt']][s['state']]['blocked'])\n",
        "  return set(requested) - set(blocked)"
      ],
      "metadata": {
        "id": "QRclI04g9_3S"
      },
      "execution_count": null,
      "outputs": []
    },
    {
      "cell_type": "code",
      "source": [
        "def event_prob(event,rnb_set):\n",
        "  # calculate event probability \n",
        "  # using uniform distribution for all \n",
        "  # requested not blocked events\n",
        "  if event in rnb_set:\n",
        "    return 1/len(rnb_set)\n",
        "  elif len(rnb_set) == 0 and event == '_nop':\n",
        "    return 1\n",
        "  else:  \n",
        "    return 0"
      ],
      "metadata": {
        "id": "BzrapGbfJ-CV"
      },
      "execution_count": null,
      "outputs": []
    },
    {
      "cell_type": "code",
      "source": [
        "def check_no_tarnsiton(bt_name, source, event):\n",
        "  # checks that there aren't any transition from given state with given event\n",
        "  for target in STATES[bt_name]:\n",
        "    transition = {'source':source, 'target':target, 'event':event}\n",
        "    if transition in TRANSITIONS[bt_name]['transitions']:   \n",
        "      return False\n",
        "  return True\n",
        "assert check_no_tarnsiton('bt1', '0', 'h1') == False"
      ],
      "metadata": {
        "id": "8BkDT0ZATXVu"
      },
      "execution_count": null,
      "outputs": []
    },
    {
      "cell_type": "code",
      "source": [
        "def is_valid_transition(bt_name, source, target, event):\n",
        "  # check if transition is valid using TRANSITIONS data structure\n",
        "  # if the transition not exists checks if self loop should be assigend\n",
        "  transition = {'source':source, 'target':target, 'event':event}\n",
        "  if transition in TRANSITIONS[bt_name]['transitions']:\n",
        "    i = TRANSITIONS[bt_name]['transitions'].index(transition)\n",
        "    return TRANSITIONS[bt_name]['prob'][i]\n",
        "  elif source == target and check_no_tarnsiton(bt_name, source, event):\n",
        "    return 1\n",
        "  else:   \n",
        "    return 0"
      ],
      "metadata": {
        "id": "yoOuFqELbYLp"
      },
      "execution_count": null,
      "outputs": []
    },
    {
      "cell_type": "code",
      "source": [
        "def get_inital_state_prob(bt_name, state):\n",
        "  if state in INITIALS[bt_name]['states']:\n",
        "    if INITIALS[bt_name].get('prob'):\n",
        "      return INITIALS[bt_name].get('prob')[INITIALS[bt_name]['states'].index(state)]\n",
        "    else:\n",
        "      return 1/len(INITIALS[bt_name]['states'])\n",
        "  else:\n",
        "      return 0      "
      ],
      "metadata": {
        "id": "YW7j6RePUEUV"
      },
      "execution_count": null,
      "outputs": []
    },
    {
      "cell_type": "markdown",
      "source": [
        "##Create CPDs"
      ],
      "metadata": {
        "id": "8RGTsS20c3Ag"
      }
    },
    {
      "cell_type": "code",
      "source": [
        "def pivot_cpd(df):\n",
        "  pivot_df = pd.pivot_table(df, values='prob', index=['event'],\n",
        "                    columns=BTHREADS).reset_index()                 \n",
        "  return pivot_df\n",
        "\n",
        "def get_cpd_event_table():\n",
        "  states = [STATES[bt] for bt in BTHREADS]\n",
        "  states.append(EVENTS)\n",
        "  event_table = [p for p in itertools.product(*states)]\n",
        "  columns = BTHREADS +['event']\n",
        "  df = pd.DataFrame(event_table, columns=columns)\n",
        "  df['prob'] = df.apply(lambda x: event_prob(x['event'], requested_not_blocked((x))), axis=1)\n",
        "  # df.sort_values(by=columns)\n",
        "  return pivot_cpd(df)"
      ],
      "metadata": {
        "id": "a4RtAPs59cTZ"
      },
      "execution_count": null,
      "outputs": []
    },
    {
      "cell_type": "code",
      "source": [
        "def get_cpd_internal_state_table(bt_name):\n",
        "  states = [STATES[bt_name],list(EVENTS), STATES[bt_name]]\n",
        "  event_table = [p for p in itertools.product(*states)]\n",
        "  columns = [bt_name , 'event', f'next_{bt_name}']\n",
        "  df = pd.DataFrame(event_table, columns=columns)\n",
        "  df['prob'] = df.apply(lambda x: is_valid_transition(bt_name, x[bt_name], x[f'next_{bt_name}'], x['event']) ,axis=1) \n",
        "  pivot_df = pd.pivot_table(df, values='prob', index=[f'next_{bt_name}'],\n",
        "                    columns=[bt_name, 'event']).reset_index().fillna(0)\n",
        "  return pivot_df"
      ],
      "metadata": {
        "id": "xy0ZEpW5w30L"
      },
      "execution_count": null,
      "outputs": []
    },
    {
      "cell_type": "code",
      "source": [
        "def get_cpd_initial_table(bt_name):\n",
        "  df = pd.DataFrame(STATES[bt_name], columns=[bt_name])\n",
        "  df['prob'] = df.apply(lambda x: get_inital_state_prob(bt_name, x[bt_name]),axis=1) \n",
        "  return df"
      ],
      "metadata": {
        "id": "eVllxoSIJHK9"
      },
      "execution_count": null,
      "outputs": []
    },
    {
      "cell_type": "markdown",
      "source": [
        "### Create cps tabels"
      ],
      "metadata": {
        "id": "JNPAQvTVjLQB"
      }
    },
    {
      "cell_type": "code",
      "source": [
        "get_cpd_internal_state_table('bt3')"
      ],
      "metadata": {
        "colab": {
          "base_uri": "https://localhost:8080/",
          "height": 206
        },
        "id": "shQz1fHiSb3H",
        "outputId": "83c3520b-7383-4d5d-f0ba-ecec26163e40"
      },
      "execution_count": null,
      "outputs": [
        {
          "output_type": "execute_result",
          "data": {
            "text/html": [
              "\n",
              "  <div id=\"df-43aeda27-bb70-460c-b492-f01c7bc665c5\">\n",
              "    <div class=\"colab-df-container\">\n",
              "      <div>\n",
              "<style scoped>\n",
              "    .dataframe tbody tr th:only-of-type {\n",
              "        vertical-align: middle;\n",
              "    }\n",
              "\n",
              "    .dataframe tbody tr th {\n",
              "        vertical-align: top;\n",
              "    }\n",
              "\n",
              "    .dataframe thead tr th {\n",
              "        text-align: left;\n",
              "    }\n",
              "</style>\n",
              "<table border=\"1\" class=\"dataframe\">\n",
              "  <thead>\n",
              "    <tr>\n",
              "      <th>bt3</th>\n",
              "      <th>next_bt3</th>\n",
              "      <th colspan=\"10\" halign=\"left\">0</th>\n",
              "      <th colspan=\"10\" halign=\"left\">1</th>\n",
              "      <th colspan=\"10\" halign=\"left\">2</th>\n",
              "      <th colspan=\"10\" halign=\"left\">3</th>\n",
              "    </tr>\n",
              "    <tr>\n",
              "      <th>event</th>\n",
              "      <th></th>\n",
              "      <th>_nop</th>\n",
              "      <th>g1</th>\n",
              "      <th>g2</th>\n",
              "      <th>g3</th>\n",
              "      <th>h1</th>\n",
              "      <th>h2</th>\n",
              "      <th>h3</th>\n",
              "      <th>o1</th>\n",
              "      <th>o2</th>\n",
              "      <th>o3</th>\n",
              "      <th>_nop</th>\n",
              "      <th>g1</th>\n",
              "      <th>g2</th>\n",
              "      <th>g3</th>\n",
              "      <th>h1</th>\n",
              "      <th>h2</th>\n",
              "      <th>h3</th>\n",
              "      <th>o1</th>\n",
              "      <th>o2</th>\n",
              "      <th>o3</th>\n",
              "      <th>_nop</th>\n",
              "      <th>g1</th>\n",
              "      <th>g2</th>\n",
              "      <th>g3</th>\n",
              "      <th>h1</th>\n",
              "      <th>h2</th>\n",
              "      <th>h3</th>\n",
              "      <th>o1</th>\n",
              "      <th>o2</th>\n",
              "      <th>o3</th>\n",
              "      <th>_nop</th>\n",
              "      <th>g1</th>\n",
              "      <th>g2</th>\n",
              "      <th>g3</th>\n",
              "      <th>h1</th>\n",
              "      <th>h2</th>\n",
              "      <th>h3</th>\n",
              "      <th>o1</th>\n",
              "      <th>o2</th>\n",
              "      <th>o3</th>\n",
              "    </tr>\n",
              "  </thead>\n",
              "  <tbody>\n",
              "    <tr>\n",
              "      <th>0</th>\n",
              "      <td>0</td>\n",
              "      <td>1</td>\n",
              "      <td>0</td>\n",
              "      <td>0</td>\n",
              "      <td>0</td>\n",
              "      <td>1</td>\n",
              "      <td>1</td>\n",
              "      <td>1</td>\n",
              "      <td>1</td>\n",
              "      <td>1</td>\n",
              "      <td>1</td>\n",
              "      <td>0</td>\n",
              "      <td>0</td>\n",
              "      <td>0</td>\n",
              "      <td>0</td>\n",
              "      <td>0</td>\n",
              "      <td>0</td>\n",
              "      <td>0</td>\n",
              "      <td>0</td>\n",
              "      <td>0</td>\n",
              "      <td>0</td>\n",
              "      <td>0</td>\n",
              "      <td>0</td>\n",
              "      <td>0</td>\n",
              "      <td>0</td>\n",
              "      <td>0</td>\n",
              "      <td>0</td>\n",
              "      <td>0</td>\n",
              "      <td>0</td>\n",
              "      <td>0</td>\n",
              "      <td>0</td>\n",
              "      <td>0</td>\n",
              "      <td>0</td>\n",
              "      <td>0</td>\n",
              "      <td>0</td>\n",
              "      <td>0</td>\n",
              "      <td>0</td>\n",
              "      <td>0</td>\n",
              "      <td>0</td>\n",
              "      <td>0</td>\n",
              "      <td>0</td>\n",
              "    </tr>\n",
              "    <tr>\n",
              "      <th>1</th>\n",
              "      <td>1</td>\n",
              "      <td>0</td>\n",
              "      <td>1</td>\n",
              "      <td>0</td>\n",
              "      <td>0</td>\n",
              "      <td>0</td>\n",
              "      <td>0</td>\n",
              "      <td>0</td>\n",
              "      <td>0</td>\n",
              "      <td>0</td>\n",
              "      <td>0</td>\n",
              "      <td>1</td>\n",
              "      <td>1</td>\n",
              "      <td>1</td>\n",
              "      <td>1</td>\n",
              "      <td>1</td>\n",
              "      <td>1</td>\n",
              "      <td>1</td>\n",
              "      <td>1</td>\n",
              "      <td>1</td>\n",
              "      <td>1</td>\n",
              "      <td>0</td>\n",
              "      <td>0</td>\n",
              "      <td>0</td>\n",
              "      <td>0</td>\n",
              "      <td>0</td>\n",
              "      <td>0</td>\n",
              "      <td>0</td>\n",
              "      <td>0</td>\n",
              "      <td>0</td>\n",
              "      <td>0</td>\n",
              "      <td>0</td>\n",
              "      <td>0</td>\n",
              "      <td>0</td>\n",
              "      <td>0</td>\n",
              "      <td>0</td>\n",
              "      <td>0</td>\n",
              "      <td>0</td>\n",
              "      <td>0</td>\n",
              "      <td>0</td>\n",
              "      <td>0</td>\n",
              "    </tr>\n",
              "    <tr>\n",
              "      <th>2</th>\n",
              "      <td>2</td>\n",
              "      <td>0</td>\n",
              "      <td>0</td>\n",
              "      <td>1</td>\n",
              "      <td>0</td>\n",
              "      <td>0</td>\n",
              "      <td>0</td>\n",
              "      <td>0</td>\n",
              "      <td>0</td>\n",
              "      <td>0</td>\n",
              "      <td>0</td>\n",
              "      <td>0</td>\n",
              "      <td>0</td>\n",
              "      <td>0</td>\n",
              "      <td>0</td>\n",
              "      <td>0</td>\n",
              "      <td>0</td>\n",
              "      <td>0</td>\n",
              "      <td>0</td>\n",
              "      <td>0</td>\n",
              "      <td>0</td>\n",
              "      <td>1</td>\n",
              "      <td>1</td>\n",
              "      <td>1</td>\n",
              "      <td>1</td>\n",
              "      <td>1</td>\n",
              "      <td>1</td>\n",
              "      <td>1</td>\n",
              "      <td>1</td>\n",
              "      <td>1</td>\n",
              "      <td>1</td>\n",
              "      <td>0</td>\n",
              "      <td>0</td>\n",
              "      <td>0</td>\n",
              "      <td>0</td>\n",
              "      <td>0</td>\n",
              "      <td>0</td>\n",
              "      <td>0</td>\n",
              "      <td>0</td>\n",
              "      <td>0</td>\n",
              "      <td>0</td>\n",
              "    </tr>\n",
              "    <tr>\n",
              "      <th>3</th>\n",
              "      <td>3</td>\n",
              "      <td>0</td>\n",
              "      <td>0</td>\n",
              "      <td>0</td>\n",
              "      <td>1</td>\n",
              "      <td>0</td>\n",
              "      <td>0</td>\n",
              "      <td>0</td>\n",
              "      <td>0</td>\n",
              "      <td>0</td>\n",
              "      <td>0</td>\n",
              "      <td>0</td>\n",
              "      <td>0</td>\n",
              "      <td>0</td>\n",
              "      <td>0</td>\n",
              "      <td>0</td>\n",
              "      <td>0</td>\n",
              "      <td>0</td>\n",
              "      <td>0</td>\n",
              "      <td>0</td>\n",
              "      <td>0</td>\n",
              "      <td>0</td>\n",
              "      <td>0</td>\n",
              "      <td>0</td>\n",
              "      <td>0</td>\n",
              "      <td>0</td>\n",
              "      <td>0</td>\n",
              "      <td>0</td>\n",
              "      <td>0</td>\n",
              "      <td>0</td>\n",
              "      <td>0</td>\n",
              "      <td>1</td>\n",
              "      <td>1</td>\n",
              "      <td>1</td>\n",
              "      <td>1</td>\n",
              "      <td>1</td>\n",
              "      <td>1</td>\n",
              "      <td>1</td>\n",
              "      <td>1</td>\n",
              "      <td>1</td>\n",
              "      <td>1</td>\n",
              "    </tr>\n",
              "  </tbody>\n",
              "</table>\n",
              "</div>\n",
              "      <button class=\"colab-df-convert\" onclick=\"convertToInteractive('df-43aeda27-bb70-460c-b492-f01c7bc665c5')\"\n",
              "              title=\"Convert this dataframe to an interactive table.\"\n",
              "              style=\"display:none;\">\n",
              "        \n",
              "  <svg xmlns=\"http://www.w3.org/2000/svg\" height=\"24px\"viewBox=\"0 0 24 24\"\n",
              "       width=\"24px\">\n",
              "    <path d=\"M0 0h24v24H0V0z\" fill=\"none\"/>\n",
              "    <path d=\"M18.56 5.44l.94 2.06.94-2.06 2.06-.94-2.06-.94-.94-2.06-.94 2.06-2.06.94zm-11 1L8.5 8.5l.94-2.06 2.06-.94-2.06-.94L8.5 2.5l-.94 2.06-2.06.94zm10 10l.94 2.06.94-2.06 2.06-.94-2.06-.94-.94-2.06-.94 2.06-2.06.94z\"/><path d=\"M17.41 7.96l-1.37-1.37c-.4-.4-.92-.59-1.43-.59-.52 0-1.04.2-1.43.59L10.3 9.45l-7.72 7.72c-.78.78-.78 2.05 0 2.83L4 21.41c.39.39.9.59 1.41.59.51 0 1.02-.2 1.41-.59l7.78-7.78 2.81-2.81c.8-.78.8-2.07 0-2.86zM5.41 20L4 18.59l7.72-7.72 1.47 1.35L5.41 20z\"/>\n",
              "  </svg>\n",
              "      </button>\n",
              "      \n",
              "  <style>\n",
              "    .colab-df-container {\n",
              "      display:flex;\n",
              "      flex-wrap:wrap;\n",
              "      gap: 12px;\n",
              "    }\n",
              "\n",
              "    .colab-df-convert {\n",
              "      background-color: #E8F0FE;\n",
              "      border: none;\n",
              "      border-radius: 50%;\n",
              "      cursor: pointer;\n",
              "      display: none;\n",
              "      fill: #1967D2;\n",
              "      height: 32px;\n",
              "      padding: 0 0 0 0;\n",
              "      width: 32px;\n",
              "    }\n",
              "\n",
              "    .colab-df-convert:hover {\n",
              "      background-color: #E2EBFA;\n",
              "      box-shadow: 0px 1px 2px rgba(60, 64, 67, 0.3), 0px 1px 3px 1px rgba(60, 64, 67, 0.15);\n",
              "      fill: #174EA6;\n",
              "    }\n",
              "\n",
              "    [theme=dark] .colab-df-convert {\n",
              "      background-color: #3B4455;\n",
              "      fill: #D2E3FC;\n",
              "    }\n",
              "\n",
              "    [theme=dark] .colab-df-convert:hover {\n",
              "      background-color: #434B5C;\n",
              "      box-shadow: 0px 1px 3px 1px rgba(0, 0, 0, 0.15);\n",
              "      filter: drop-shadow(0px 1px 2px rgba(0, 0, 0, 0.3));\n",
              "      fill: #FFFFFF;\n",
              "    }\n",
              "  </style>\n",
              "\n",
              "      <script>\n",
              "        const buttonEl =\n",
              "          document.querySelector('#df-43aeda27-bb70-460c-b492-f01c7bc665c5 button.colab-df-convert');\n",
              "        buttonEl.style.display =\n",
              "          google.colab.kernel.accessAllowed ? 'block' : 'none';\n",
              "\n",
              "        async function convertToInteractive(key) {\n",
              "          const element = document.querySelector('#df-43aeda27-bb70-460c-b492-f01c7bc665c5');\n",
              "          const dataTable =\n",
              "            await google.colab.kernel.invokeFunction('convertToInteractive',\n",
              "                                                     [key], {});\n",
              "          if (!dataTable) return;\n",
              "\n",
              "          const docLinkHtml = 'Like what you see? Visit the ' +\n",
              "            '<a target=\"_blank\" href=https://colab.research.google.com/notebooks/data_table.ipynb>data table notebook</a>'\n",
              "            + ' to learn more about interactive tables.';\n",
              "          element.innerHTML = '';\n",
              "          dataTable['output_type'] = 'display_data';\n",
              "          await google.colab.output.renderOutput(dataTable, element);\n",
              "          const docLink = document.createElement('div');\n",
              "          docLink.innerHTML = docLinkHtml;\n",
              "          element.appendChild(docLink);\n",
              "        }\n",
              "      </script>\n",
              "    </div>\n",
              "  </div>\n",
              "  "
            ],
            "text/plain": [
              "bt3   next_bt3    0                          ...    3                           \n",
              "event          _nop g1 g2 g3 h1 h2 h3 o1 o2  ... _nop g1 g2 g3 h1 h2 h3 o1 o2 o3\n",
              "0            0    1  0  0  0  1  1  1  1  1  ...    0  0  0  0  0  0  0  0  0  0\n",
              "1            1    0  1  0  0  0  0  0  0  0  ...    0  0  0  0  0  0  0  0  0  0\n",
              "2            2    0  0  1  0  0  0  0  0  0  ...    0  0  0  0  0  0  0  0  0  0\n",
              "3            3    0  0  0  1  0  0  0  0  0  ...    1  1  1  1  1  1  1  1  1  1\n",
              "\n",
              "[4 rows x 41 columns]"
            ]
          },
          "metadata": {},
          "execution_count": 487
        }
      ]
    },
    {
      "cell_type": "code",
      "source": [
        "event_cpd = [l[1:] for l in get_cpd_event_table().values.tolist()]\n",
        "bthreads_initial_cpds = []\n",
        "bthreads_internal_state_cpds = []\n",
        "for bt in BTHREADS:\n",
        "  bthreads_initial_cpds.append([l[1:] for l in get_cpd_initial_table(bt).values.tolist()])\n",
        "  bthreads_internal_state_cpds.append([l[1:] for l in get_cpd_internal_state_table(bt).values.tolist()])"
      ],
      "metadata": {
        "id": "375YgOIHL1ks"
      },
      "execution_count": null,
      "outputs": []
    },
    {
      "cell_type": "markdown",
      "source": [
        "### Build Bayesian Network"
      ],
      "metadata": {
        "id": "XwGbol94jU1a"
      }
    },
    {
      "cell_type": "code",
      "source": [
        "# Defining the network structure\n",
        "BN = []\n",
        "for i in range(1,4):\n",
        "  for bt in BTHREADS:\n",
        "    BN.append((f'event_{i}', f'state_{bt}_{i}'))\n",
        "\n",
        "for bt in BTHREADS:\n",
        "  for i in range(3):\n",
        "    BN.append((f'state_{bt}_{i}',f'event_{i+1}'))\n",
        "    BN.append((f'state_{bt}_{i}',f'state_{bt}_{i+1}'))\n",
        "model = BayesianNetwork(BN)"
      ],
      "metadata": {
        "id": "OjRcFTqikCyW"
      },
      "execution_count": null,
      "outputs": []
    },
    {
      "cell_type": "code",
      "source": [
        "cpds = []\n",
        "\n",
        "for i,bt in enumerate(BTHREADS):\n",
        "  cpds.append(TabularCPD(f\"state_{bt}_0\", len(bthreads_initial_cpds[i]), bthreads_initial_cpds[i]))\n",
        "\n",
        "for i in TIME:\n",
        "  cpds.append(TabularCPD(f\"event_{i+1}\", len(event_cpd), event_cpd, evidence=[f'state_{bt}_{i}' for bt in BTHREADS], evidence_card=[len(STATES[bt]) for bt in BTHREADS]))\n",
        "  for cpd_idx,bt in enumerate(BTHREADS):\n",
        "    cpds.append(TabularCPD(f\"state_{bt}_{i+1}\", len(bthreads_internal_state_cpds[cpd_idx]), bthreads_internal_state_cpds[cpd_idx], evidence=[f\"state_{bt}_{i}\", f\"event_{i+1}\"], evidence_card=[len(STATES[bt]),len(event_cpd)]))\n",
        "# Associating the CPDs with the network structure.\n",
        "model.add_cpds(*cpds)\n",
        "# check_model check for the model structure and the associated CPD and returns True if everything is correct otherwise throws an exception\n",
        "model.check_model()"
      ],
      "metadata": {
        "id": "Jk1diJTTNly9",
        "colab": {
          "base_uri": "https://localhost:8080/"
        },
        "outputId": "0a905f9b-c9d2-47f9-b027-ee0553519cde"
      },
      "execution_count": null,
      "outputs": [
        {
          "output_type": "execute_result",
          "data": {
            "text/plain": [
              "True"
            ]
          },
          "metadata": {},
          "execution_count": 490
        }
      ]
    },
    {
      "cell_type": "markdown",
      "source": [
        "## Model evaluation\n"
      ],
      "metadata": {
        "id": "A3C-jDD3N7p_"
      }
    },
    {
      "cell_type": "code",
      "source": [
        "EVENTS"
      ],
      "metadata": {
        "colab": {
          "base_uri": "https://localhost:8080/"
        },
        "id": "qCHRXCaDqWL9",
        "outputId": "3d00f919-3e7b-4653-9d46-729945f5d0d6"
      },
      "execution_count": null,
      "outputs": [
        {
          "output_type": "execute_result",
          "data": {
            "text/plain": [
              "['_nop', 'g1', 'g2', 'g3', 'h1', 'h2', 'h3', 'o1', 'o2', 'o3']"
            ]
          },
          "metadata": {},
          "execution_count": 491
        }
      ]
    },
    {
      "cell_type": "code",
      "source": [
        "# Infering the posterior probability\n",
        "from pgmpy.inference import VariableElimination\n",
        "\n",
        "infer = VariableElimination(model)\n",
        "# TODO add key to index \n",
        "# EVENTS = ['nop', 'g1', 'g2', 'g3', 'h1', 'h2', 'h3', 'o1', 'o2', 'o3']\n",
        "posterior_h = infer.query([\"event_1\"], evidence={\"event_2\": EVENTS.index('g1'), \"event_3\": EVENTS.index('o3')})\n",
        "print(posterior_h)"
      ],
      "metadata": {
        "id": "6tHs7eZpsMl5",
        "colab": {
          "base_uri": "https://localhost:8080/",
          "height": 480,
          "referenced_widgets": [
            "a0901e2407a248cfa20e4c848a645c38",
            "f1751ec27c2144d8b963025ab543f6e5",
            "32a6d6bc373f43018ae104154fe97b65",
            "a0c49ec995e64dafa199d7af908a333a",
            "8216a50c02b24d3da31d25f40e7a91de",
            "80c0af5cae184ff5b715568bf5f75822",
            "700f82d2894249ec8d2057c911f0d590",
            "5e74c9090e024183bc69b48679b88909",
            "1a13cff40a114c1b98f9934ca787f775",
            "77c5bf402d594093a752d471f347e2f6",
            "8082d3a76acc48dc9cd1fabbd4dfbdb0",
            "675dc908b21a4004af9b52207961ebf3",
            "0e3aa7aafd304c69ba8af39dc5c523a6",
            "49a3f063d9064856af727f636d6935ca",
            "9ae0fe8e25e44b9faee3aff9d22736c3",
            "8df9b47c37a54230b96ccd906c28cb3c",
            "7bb828f03bae418abf5e6a90751fec24",
            "5e7fa09771f94c529d716b8164b85477",
            "8a7adc3a33614674a52d474b2841767c",
            "f79a54cc58df4c41ad2c2e25f9191aec",
            "7f96a8cad0e144b79a832d8ba4e0c414",
            "be9741995deb4563a964be9b43e8f0f5"
          ]
        },
        "outputId": "c2110dba-49b4-430f-e5cc-6c577963e094"
      },
      "execution_count": null,
      "outputs": [
        {
          "output_type": "display_data",
          "data": {
            "application/vnd.jupyter.widget-view+json": {
              "model_id": "a0901e2407a248cfa20e4c848a645c38",
              "version_minor": 0,
              "version_major": 2
            },
            "text/plain": [
              "  0%|          | 0/9 [00:00<?, ?it/s]"
            ]
          },
          "metadata": {}
        },
        {
          "output_type": "display_data",
          "data": {
            "application/vnd.jupyter.widget-view+json": {
              "model_id": "675dc908b21a4004af9b52207961ebf3",
              "version_minor": 0,
              "version_major": 2
            },
            "text/plain": [
              "  0%|          | 0/9 [00:00<?, ?it/s]"
            ]
          },
          "metadata": {}
        },
        {
          "output_type": "stream",
          "name": "stdout",
          "text": [
            "+------------+----------------+\n",
            "| event_1    |   phi(event_1) |\n",
            "+============+================+\n",
            "| event_1(0) |         0.0000 |\n",
            "+------------+----------------+\n",
            "| event_1(1) |         0.0000 |\n",
            "+------------+----------------+\n",
            "| event_1(2) |         0.0000 |\n",
            "+------------+----------------+\n",
            "| event_1(3) |         0.0000 |\n",
            "+------------+----------------+\n",
            "| event_1(4) |         0.3333 |\n",
            "+------------+----------------+\n",
            "| event_1(5) |         0.6667 |\n",
            "+------------+----------------+\n",
            "| event_1(6) |         0.0000 |\n",
            "+------------+----------------+\n",
            "| event_1(7) |         0.0000 |\n",
            "+------------+----------------+\n",
            "| event_1(8) |         0.0000 |\n",
            "+------------+----------------+\n",
            "| event_1(9) |         0.0000 |\n",
            "+------------+----------------+\n"
          ]
        }
      ]
    },
    {
      "cell_type": "code",
      "source": [
        "# EVENTS = ['nop', 'g1', 'g2', 'g3', 'h1', 'h2', 'h3', 'o1', 'o2', 'o3']\n",
        "posterior_h = infer.query([\"event_3\"], evidence={\"event_2\": EVENTS.index('g1'), \"event_1\": EVENTS.index('h1')})\n",
        "print(posterior_h)"
      ],
      "metadata": {
        "id": "LcqdIeM8YjC9",
        "colab": {
          "base_uri": "https://localhost:8080/",
          "height": 480,
          "referenced_widgets": [
            "9c3cc185eef440c0bcd4ee70be7f51a7",
            "0081f33b60c34e3885dc06eecd01fe0c",
            "ed7d1ed769a44b3f8ddd1d6d5b7d60e4",
            "1593ee53bb3b458594ab3d9bf99081c2",
            "84193c179cca45aba576585491f92e34",
            "1b1f78c8391248f8b9e3062c3ef66e23",
            "6b1e0be0a1a4405c9166c2f1217c65ea",
            "9cfd0f5f633d4330bdb8cdab4ed6b4b6",
            "63f08bdb8e4642a29f780d3be6c5a851",
            "bf07533da9854c0face0acced1b023de",
            "c7786f75df0c4e109fe2279463169213",
            "e7ba3bc3fbab497f9aba77cb883ae5a4",
            "c12bd0b9099746d28a2486587e81e21b",
            "50b48b6228c54711be9df7d951e61b67",
            "8dda339d45f44cd584f25756108dfd7b",
            "95d7b2c06ad2429fa3f8c88ce7a37159",
            "753fb15e262d494d97da8992f5746fef",
            "a259c09f2f20451dae89b8cd0d474d53",
            "2d3a87a97525450eae1a4a2ad7dd8f4f",
            "e358d2e32bb2458384feb9ab9afb0910",
            "e16109d8553745ac907373dead6569c4",
            "49977a18ac554297a600aac5d2f39144"
          ]
        },
        "outputId": "110769fd-d0d4-475c-b6d2-82c2cb9ca784"
      },
      "execution_count": null,
      "outputs": [
        {
          "output_type": "display_data",
          "data": {
            "application/vnd.jupyter.widget-view+json": {
              "model_id": "9c3cc185eef440c0bcd4ee70be7f51a7",
              "version_minor": 0,
              "version_major": 2
            },
            "text/plain": [
              "  0%|          | 0/9 [00:00<?, ?it/s]"
            ]
          },
          "metadata": {}
        },
        {
          "output_type": "display_data",
          "data": {
            "application/vnd.jupyter.widget-view+json": {
              "model_id": "e7ba3bc3fbab497f9aba77cb883ae5a4",
              "version_minor": 0,
              "version_major": 2
            },
            "text/plain": [
              "  0%|          | 0/9 [00:00<?, ?it/s]"
            ]
          },
          "metadata": {}
        },
        {
          "output_type": "stream",
          "name": "stdout",
          "text": [
            "+------------+----------------+\n",
            "| event_3    |   phi(event_3) |\n",
            "+============+================+\n",
            "| event_3(0) |         0.0000 |\n",
            "+------------+----------------+\n",
            "| event_3(1) |         0.0000 |\n",
            "+------------+----------------+\n",
            "| event_3(2) |         0.0000 |\n",
            "+------------+----------------+\n",
            "| event_3(3) |         0.0000 |\n",
            "+------------+----------------+\n",
            "| event_3(4) |         0.0000 |\n",
            "+------------+----------------+\n",
            "| event_3(5) |         0.0000 |\n",
            "+------------+----------------+\n",
            "| event_3(6) |         0.0000 |\n",
            "+------------+----------------+\n",
            "| event_3(7) |         0.0000 |\n",
            "+------------+----------------+\n",
            "| event_3(8) |         0.5000 |\n",
            "+------------+----------------+\n",
            "| event_3(9) |         0.5000 |\n",
            "+------------+----------------+\n"
          ]
        }
      ]
    }
  ]
}
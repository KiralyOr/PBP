{
 "cells": [
  {
   "cell_type": "markdown",
   "metadata": {},
   "source": [
    "### BP to LF transition:\n",
    "#### Variables\n",
    "For each $e\\in E$ and every time $t$:  \n",
    "-  $requested(e,t)$        \n",
    "-  $blocked(e,t)$  \n",
    "- $triggered(e,t)$  \n",
    "\n",
    "\n",
    "\n",
    "For each state $s\\in S(bt)$ of every b-thread $bt$ and every time $t$:\n",
    "\n",
    "    \n",
    "- $at(s,t)$  \n",
    "\n",
    "_________________________________________________________________\n",
    "#### Rules\n",
    "\n",
    "$\\forall t \\colon  \\oplus_{e\\in E}(triggered(e,t))$\n",
    "\n",
    "$\\forall t,e \\colon  triggered(e,t) \\Rightarrow requested(e,t) \\wedge \\neg blocked(e,t)$\n",
    "\n",
    "$\\forall bt, t \\colon  \\oplus_{s\\in S(bt)}(at(s,t))$\n",
    "\n",
    "\n",
    "$at(s,t) \\iff ( t=0 \\wedge s \\in INITIAL)  \\vee (at(s',t-1) \\wedge triggered(e,t-1) \\wedge (s',e,s)\\in TRANSITIONS)$\n",
    "\n",
    "$requested(e,t) \\iff \\bigvee_{s \\in S} e \\in REQUESTED(s) \\wedge at(s,t)$\n",
    "\n",
    "$blocked(e,t) \\iff \\bigvee_{s \\in S} e \\in BLOCKED(s) \\wedge at(s,t)$\n"
   ]
  },
  {
   "cell_type": "code",
   "execution_count": 55,
   "metadata": {},
   "outputs": [],
   "source": [
    "import os\n",
    "import re\n",
    "import yaml\n",
    "from yaml import CLoader as Loader, CDumper as Dumper\n",
    "from collections import defaultdict"
   ]
  },
  {
   "cell_type": "markdown",
   "metadata": {},
   "source": [
    "### Parse BThreads yaml"
   ]
  },
  {
   "cell_type": "code",
   "execution_count": 11,
   "metadata": {},
   "outputs": [
    {
     "data": {
      "text/plain": [
       "['bt1.yaml', 'bt3.yaml', 'bt2.yaml']"
      ]
     },
     "execution_count": 11,
     "metadata": {},
     "output_type": "execute_result"
    }
   ],
   "source": [
    "r = re.compile(\"bt\\d.yaml\")\n",
    "bthreads_files = list(filter(r.match, os.listdir('.')))\n",
    "bthreads_files"
   ]
  },
  {
   "cell_type": "code",
   "execution_count": 208,
   "metadata": {},
   "outputs": [],
   "source": [
    "bt_dict = dict()\n",
    "bthreads = dict()\n",
    "for bt_file in bthreads_files:\n",
    "    with open(bt_file, 'r') as bt_yaml:\n",
    "        bt_dict[bt_file.split('.')[0]] = yaml.load(bt_yaml, Loader=Loader)\n",
    "# bt_dict"
   ]
  },
  {
   "cell_type": "code",
   "execution_count": 209,
   "metadata": {},
   "outputs": [],
   "source": [
    "INITIALS = set()\n",
    "EVENTS = set()\n",
    "STATES = set()\n",
    "BLOCKED = defaultdict(list)\n",
    "REQUESTED = defaultdict(list)\n",
    "TIME = [i for i in range(3)]\n",
    "TRANSITIONS = set()\n",
    "for bt in bt_dict:\n",
    "    INITIALS.add(f\"{bt}_{bt_dict[bt]['initial']}\")\n",
    "    for step in bt_dict[bt]['states']:\n",
    "        step_id = f\"{bt}_{step['id']}\"\n",
    "        for key, values in step.items():\n",
    "            if key == 'id':\n",
    "                STATES.add(step_id)\n",
    "            if key in ('R', 'W', 'B'):\n",
    "                for val in values:\n",
    "                    EVENTS.add(val)\n",
    "              \n",
    "        if len(step['B']) > 0:\n",
    "            BLOCKED[step_id].extend(step['B'])\n",
    "        if len(step['R']) > 0:\n",
    "            REQUESTED[step_id].extend(step['R'])\n",
    "    for t in bt_dict[bt]['transitions']:\n",
    "        TRANSITIONS.add((f\"{bt}_state_{t['source']}\",f\"{bt}_state_{t['target']}\",t['event']))"
   ]
  },
  {
   "cell_type": "code",
   "execution_count": 210,
   "metadata": {},
   "outputs": [
    {
     "data": {
      "text/plain": [
       "{'bt1_state_0', 'bt2_state_0', 'bt3_state_0'}"
      ]
     },
     "execution_count": 210,
     "metadata": {},
     "output_type": "execute_result"
    }
   ],
   "source": [
    "INITIALS"
   ]
  },
  {
   "cell_type": "code",
   "execution_count": 211,
   "metadata": {},
   "outputs": [
    {
     "data": {
      "text/plain": [
       "{'bt1_state_0',\n",
       " 'bt1_state_1',\n",
       " 'bt1_state_2',\n",
       " 'bt1_state_3',\n",
       " 'bt2_state_0',\n",
       " 'bt2_state_2',\n",
       " 'bt2_state_3',\n",
       " 'bt3_state_0',\n",
       " 'bt3_state_1',\n",
       " 'bt3_state_2',\n",
       " 'bt3_state_3'}"
      ]
     },
     "execution_count": 211,
     "metadata": {},
     "output_type": "execute_result"
    }
   ],
   "source": [
    "STATES "
   ]
  },
  {
   "cell_type": "code",
   "execution_count": 212,
   "metadata": {},
   "outputs": [
    {
     "data": {
      "text/plain": [
       "{'g1', 'g2', 'g3', 'h1', 'h2', 'h3', 'o1', 'o2', 'o3'}"
      ]
     },
     "execution_count": 212,
     "metadata": {},
     "output_type": "execute_result"
    }
   ],
   "source": [
    "EVENTS "
   ]
  },
  {
   "cell_type": "code",
   "execution_count": 213,
   "metadata": {},
   "outputs": [
    {
     "data": {
      "text/plain": [
       "defaultdict(list,\n",
       "            {'bt3_state_1': ['o1'],\n",
       "             'bt3_state_2': ['o3'],\n",
       "             'bt2_state_0': ['o2'],\n",
       "             'bt2_state_2': ['o1'],\n",
       "             'bt2_state_3': ['o3']})"
      ]
     },
     "execution_count": 213,
     "metadata": {},
     "output_type": "execute_result"
    }
   ],
   "source": [
    "BLOCKED "
   ]
  },
  {
   "cell_type": "code",
   "execution_count": 214,
   "metadata": {},
   "outputs": [
    {
     "data": {
      "text/plain": [
       "defaultdict(list,\n",
       "            {'bt1_state_0': ['g1', 'g2', 'g3'],\n",
       "             'bt1_state_1': ['o1', 'o2', 'o3'],\n",
       "             'bt1_state_2': ['h1', 'h2', 'h3']})"
      ]
     },
     "execution_count": 214,
     "metadata": {},
     "output_type": "execute_result"
    }
   ],
   "source": [
    "REQUESTED"
   ]
  },
  {
   "cell_type": "code",
   "execution_count": 215,
   "metadata": {},
   "outputs": [
    {
     "data": {
      "text/plain": [
       "[0, 1, 2]"
      ]
     },
     "execution_count": 215,
     "metadata": {},
     "output_type": "execute_result"
    }
   ],
   "source": [
    "TIME"
   ]
  },
  {
   "cell_type": "code",
   "execution_count": 216,
   "metadata": {},
   "outputs": [
    {
     "data": {
      "text/plain": [
       "{('bt1_state_0', 'bt1_state_1', 'g1'),\n",
       " ('bt1_state_0', 'bt1_state_1', 'g2'),\n",
       " ('bt1_state_0', 'bt1_state_1', 'g3'),\n",
       " ('bt1_state_1', 'bt1_state_3', 'o1'),\n",
       " ('bt1_state_1', 'bt1_state_3', 'o2'),\n",
       " ('bt1_state_1', 'bt1_state_3', 'o3'),\n",
       " ('bt1_state_2', 'bt1_state_0', 'h1'),\n",
       " ('bt1_state_2', 'bt1_state_0', 'h2'),\n",
       " ('bt1_state_2', 'bt1_state_0', 'h3'),\n",
       " ('bt2_state_0', 'bt2_state_1', 'h2'),\n",
       " ('bt2_state_0', 'bt2_state_2', 'h1'),\n",
       " ('bt2_state_0', 'bt2_state_3', 'h3'),\n",
       " ('bt3_state_0', 'bt3_state_1', 'g1'),\n",
       " ('bt3_state_0', 'bt3_state_2', 'g3'),\n",
       " ('bt3_state_0', 'bt3_state_3', 'g2')}"
      ]
     },
     "execution_count": 216,
     "metadata": {},
     "output_type": "execute_result"
    }
   ],
   "source": [
    "TRANSITIONS"
   ]
  },
  {
   "cell_type": "markdown",
   "metadata": {},
   "source": [
    "### Literals creation"
   ]
  },
  {
   "cell_type": "code",
   "execution_count": 172,
   "metadata": {},
   "outputs": [],
   "source": [
    "import aiger"
   ]
  },
  {
   "cell_type": "code",
   "execution_count": 217,
   "metadata": {},
   "outputs": [],
   "source": [
    "atoms = dict()\n",
    "def get_atom(name):\n",
    "    if name not in atoms:\n",
    "        atoms[name] = aiger.atom(name)\n",
    "    return atoms[name]\n",
    "        "
   ]
  },
  {
   "cell_type": "markdown",
   "metadata": {},
   "source": [
    "1. $\\forall t \\colon  \\oplus_{e\\in E}(triggered(e,t))$"
   ]
  },
  {
   "cell_type": "code",
   "execution_count": 218,
   "metadata": {},
   "outputs": [],
   "source": [
    "def unique_event(events=EVENTS , time=TIME):\n",
    "    triggered = [get_atom(f'triggered_{e}_at_{t}') for e in events for t in time]\n",
    "    formula = False\n",
    "\n",
    "    for t in triggered:\n",
    "        c = t\n",
    "        for tt in triggered:\n",
    "            if t != tt:\n",
    "                c = c & ~tt\n",
    "        formula = c | formula\n",
    "    return formula\n",
    "  "
   ]
  },
  {
   "cell_type": "markdown",
   "metadata": {},
   "source": [
    "2. $\\forall t,e \\colon  triggered(e,t) \\Rightarrow requested(e,t) \\wedge \\neg blocked(e,t)$\n",
    " "
   ]
  },
  {
   "cell_type": "code",
   "execution_count": 175,
   "metadata": {},
   "outputs": [],
   "source": [
    "def bp(events=EVENTS , time=TIME):\n",
    "    literals = [(get_atom(f'requested_{e}_at_{t}'),\n",
    "                  get_atom(f'blocked_{e}_at_{t}'),\n",
    "                  get_atom(f'triggered_{e}_at_{t}')) for e in events for t in time]\n",
    "    formula = True\n",
    "    for r,b,t in literals:\n",
    "        formula = t.implies(r & ~b) & formula\n",
    "        \n",
    "    return formula"
   ]
  },
  {
   "cell_type": "markdown",
   "metadata": {},
   "source": [
    "3. $\\forall bt, t \\colon  \\oplus_{s\\in S(bt)}(at(s,t))$  "
   ]
  },
  {
   "cell_type": "code",
   "execution_count": 188,
   "metadata": {},
   "outputs": [],
   "source": [
    "def one_state_at_time(states=STATES , time=TIME):\n",
    "    literals = [get_atom(f'{s}_at_{t}') for s in states for t in time]\n",
    "    formula = False\n",
    "\n",
    "    for l in literals:\n",
    "        c = l\n",
    "        for ll in literals:\n",
    "            if l != ll:\n",
    "                c = c & ~ll\n",
    "        formula = c | formula\n",
    "    return formula"
   ]
  },
  {
   "cell_type": "markdown",
   "metadata": {},
   "source": [
    "4. $at(s,t) \\iff ( t=0 \\wedge s \\in INITIAL)  \\vee (at(s',t-1) \\wedge triggered(e,t-1) \\wedge (s',e,s)\\in TRANSITIONS)$  "
   ]
  },
  {
   "cell_type": "code",
   "execution_count": 206,
   "metadata": {},
   "outputs": [],
   "source": [
    "def check_transitions(states=STATES , time=TIME, initials=INITIALS, transitions=TRANSITIONS):\n",
    "    literals = [(get_atom(f'requested_{e}_at_{t}'),\n",
    "              get_atom(f'triggered_{e}_at_{t}'),\n",
    "                 \n",
    "                 \n",
    "                 for e in events for t in time]\n",
    "    formula = True\n",
    "    for r,b,t in literals:\n",
    "        formula = t.implies(r & ~b) & formula\n",
    "        \n",
    "    return formula"
   ]
  },
  {
   "cell_type": "markdown",
   "metadata": {},
   "source": [
    "5. $requested(e,t) \\iff \\bigvee_{s \\in S} e \\in REQUESTED(s) \\wedge at(s,t)$"
   ]
  },
  {
   "cell_type": "code",
   "execution_count": 230,
   "metadata": {},
   "outputs": [],
   "source": [
    "def requested(events=EVENTS, states=STATES , time=TIME):\n",
    "    literals = [(get_atom(f'requested_{e}_at_{t}'),\n",
    "              get_atom(f'blocked_{e}_at_{t}'),\n",
    "              get_atom(f'triggered_{e}_at_{t}')) for e in events for t in time]"
   ]
  },
  {
   "cell_type": "markdown",
   "metadata": {},
   "source": [
    "6. $blocked(e,t) \\iff \\bigvee_{s \\in S} e \\in BLOCKED(s) \\wedge at(s,t)$  "
   ]
  },
  {
   "cell_type": "code",
   "execution_count": null,
   "metadata": {},
   "outputs": [],
   "source": [
    "def blocked():\n",
    "    pass"
   ]
  },
  {
   "cell_type": "code",
   "execution_count": null,
   "metadata": {},
   "outputs": [],
   "source": []
  },
  {
   "cell_type": "code",
   "execution_count": 176,
   "metadata": {},
   "outputs": [],
   "source": [
    "formula = (unique_event() &bp())\n",
    "cnf = CNF(from_aiger=(formula.aig))\n",
    "cnf.to_file('cnf_bp.cnf')\n",
    "cnf2 = aig2cnf(unique_event().aig)\n"
   ]
  },
  {
   "cell_type": "code",
   "execution_count": 177,
   "metadata": {},
   "outputs": [
    {
     "data": {
      "text/plain": [
       "81"
      ]
     },
     "execution_count": 177,
     "metadata": {},
     "output_type": "execute_result"
    }
   ],
   "source": [
    "len(cnf2.clauses)"
   ]
  }
 ],
 "metadata": {
  "kernelspec": {
   "display_name": "Python 3",
   "language": "python",
   "name": "python3"
  },
  "language_info": {
   "codemirror_mode": {
    "name": "ipython",
    "version": 3
   },
   "file_extension": ".py",
   "mimetype": "text/x-python",
   "name": "python",
   "nbconvert_exporter": "python",
   "pygments_lexer": "ipython3",
   "version": "3.8.5"
  }
 },
 "nbformat": 4,
 "nbformat_minor": 4
}

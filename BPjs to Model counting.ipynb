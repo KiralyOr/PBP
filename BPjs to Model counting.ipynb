{
 "cells": [
  {
   "cell_type": "markdown",
   "metadata": {},
   "source": [
    "### BP to LF transition:\n",
    "#### Variables\n",
    "For each $e\\in E$ and every time $t$:  \n",
    "-  $requested(e,t)$        \n",
    "-  $blocked(e,t)$  \n",
    "- $triggered(e,t)$  \n",
    "\n",
    "\n",
    "\n",
    "For each state $s\\in S(bt)$ of every b-thread $bt$ and every time $t$:\n",
    "\n",
    "    \n",
    "- $at(s,t)$  \n",
    "\n",
    "_________________________________________________________________\n",
    "#### Rules\n",
    "\n",
    "$\\forall t \\colon  \\oplus_{e\\in E}(triggered(e,t))$\n",
    "\n",
    "$\\forall t,e \\colon  triggered(e,t) \\Rightarrow requested(e,t) \\wedge \\neg blocked(e,t)$\n",
    "\n",
    "$\\forall bt, t \\colon  \\oplus_{s\\in S(bt)}(at(s,t))$\n",
    "\n",
    "\n",
    "$at(s,t) \\iff ( t=0 \\wedge s \\in INITIAL)  \\vee (at(s',t-1) \\wedge triggered(e,t-1) \\wedge (s',e,s)\\in TRANSITIONS)$\n",
    "\n",
    "$requested(e,t) \\iff \\bigvee_{s \\in S} e \\in REQUESTED(s) \\wedge at(s,t)$\n",
    "\n",
    "$blocked(e,t) \\iff \\bigvee_{s \\in S} e \\in BLOCKED(s) \\wedge at(s,t)$\n"
   ]
  },
  {
   "cell_type": "code",
   "execution_count": 55,
   "metadata": {},
   "outputs": [],
   "source": [
    "import os\n",
    "import re\n",
    "import yaml\n",
    "from yaml import CLoader as Loader, CDumper as Dumper\n",
    "from collections import defaultdict"
   ]
  },
  {
   "cell_type": "markdown",
   "metadata": {},
   "source": [
    "### Parse BThreads yaml"
   ]
  },
  {
   "cell_type": "code",
   "execution_count": 11,
   "metadata": {},
   "outputs": [
    {
     "data": {
      "text/plain": [
       "['bt1.yaml', 'bt3.yaml', 'bt2.yaml']"
      ]
     },
     "execution_count": 11,
     "metadata": {},
     "output_type": "execute_result"
    }
   ],
   "source": [
    "r = re.compile(\"bt\\d.yaml\")\n",
    "bthreads_files = list(filter(r.match, os.listdir('.')))\n",
    "bthreads_files"
   ]
  },
  {
   "cell_type": "code",
   "execution_count": 208,
   "metadata": {},
   "outputs": [],
   "source": [
    "bt_dict = dict()\n",
    "bthreads = dict()\n",
    "for bt_file in bthreads_files:\n",
    "    with open(bt_file, 'r') as bt_yaml:\n",
    "        bt_dict[bt_file.split('.')[0]] = yaml.load(bt_yaml, Loader=Loader)\n",
    "# bt_dict"
   ]
  },
  {
   "cell_type": "code",
   "execution_count": 248,
   "metadata": {},
   "outputs": [],
   "source": [
    "INITIALS = set()\n",
    "EVENTS = set()\n",
    "STATES = set()\n",
    "BLOCKED = defaultdict(list)\n",
    "REQUESTED = defaultdict(list)\n",
    "TIME = [i for i in range(3)]\n",
    "TRANSITIONS = set()\n",
    "for bt in bt_dict:\n",
    "    INITIALS.add(f\"{bt}_{bt_dict[bt]['initial']}\")\n",
    "    for step in bt_dict[bt]['states']:\n",
    "        step_id = f\"{bt}_{step['id']}\"\n",
    "        for key, values in step.items():\n",
    "            if key == 'id':\n",
    "                STATES.add(step_id)\n",
    "            if key in ('R', 'W', 'B'):\n",
    "                for val in values:\n",
    "                    EVENTS.add(val)\n",
    "              \n",
    "        if len(step['B']) > 0:\n",
    "            BLOCKED[step_id].extend(step['B'])\n",
    "        if len(step['R']) > 0:\n",
    "            REQUESTED[step_id].extend(step['R'])\n",
    "    for t in bt_dict[bt]['transitions']:\n",
    "        TRANSITIONS.add((f\"{bt}_state_{t['source']}\",f\"{bt}_state_{t['target']}\",t['event']))"
   ]
  },
  {
   "cell_type": "code",
   "execution_count": 249,
   "metadata": {},
   "outputs": [
    {
     "data": {
      "text/plain": [
       "{'bt1_state_0', 'bt2_state_0', 'bt3_state_0'}"
      ]
     },
     "execution_count": 249,
     "metadata": {},
     "output_type": "execute_result"
    }
   ],
   "source": [
    "INITIALS"
   ]
  },
  {
   "cell_type": "code",
   "execution_count": 250,
   "metadata": {},
   "outputs": [
    {
     "data": {
      "text/plain": [
       "{'bt1_state_0',\n",
       " 'bt1_state_1',\n",
       " 'bt1_state_2',\n",
       " 'bt1_state_3',\n",
       " 'bt2_state_0',\n",
       " 'bt2_state_2',\n",
       " 'bt2_state_3',\n",
       " 'bt3_state_0',\n",
       " 'bt3_state_1',\n",
       " 'bt3_state_2',\n",
       " 'bt3_state_3'}"
      ]
     },
     "execution_count": 250,
     "metadata": {},
     "output_type": "execute_result"
    }
   ],
   "source": [
    "STATES "
   ]
  },
  {
   "cell_type": "code",
   "execution_count": 251,
   "metadata": {},
   "outputs": [
    {
     "data": {
      "text/plain": [
       "{'g1', 'g2', 'g3', 'h1', 'h2', 'h3', 'o1', 'o2', 'o3'}"
      ]
     },
     "execution_count": 251,
     "metadata": {},
     "output_type": "execute_result"
    }
   ],
   "source": [
    "EVENTS "
   ]
  },
  {
   "cell_type": "code",
   "execution_count": 252,
   "metadata": {},
   "outputs": [
    {
     "data": {
      "text/plain": [
       "defaultdict(list,\n",
       "            {'bt3_state_1': ['o1'],\n",
       "             'bt3_state_2': ['o3'],\n",
       "             'bt2_state_0': ['o2'],\n",
       "             'bt2_state_2': ['o1'],\n",
       "             'bt2_state_3': ['o3']})"
      ]
     },
     "execution_count": 252,
     "metadata": {},
     "output_type": "execute_result"
    }
   ],
   "source": [
    "BLOCKED "
   ]
  },
  {
   "cell_type": "code",
   "execution_count": 253,
   "metadata": {},
   "outputs": [
    {
     "data": {
      "text/plain": [
       "defaultdict(list,\n",
       "            {'bt1_state_0': ['g1', 'g2', 'g3'],\n",
       "             'bt1_state_1': ['o1', 'o2', 'o3'],\n",
       "             'bt1_state_2': ['h1', 'h2', 'h3']})"
      ]
     },
     "execution_count": 253,
     "metadata": {},
     "output_type": "execute_result"
    }
   ],
   "source": [
    "REQUESTED"
   ]
  },
  {
   "cell_type": "code",
   "execution_count": 254,
   "metadata": {},
   "outputs": [
    {
     "data": {
      "text/plain": [
       "[0, 1, 2]"
      ]
     },
     "execution_count": 254,
     "metadata": {},
     "output_type": "execute_result"
    }
   ],
   "source": [
    "TIME"
   ]
  },
  {
   "cell_type": "code",
   "execution_count": 255,
   "metadata": {},
   "outputs": [
    {
     "data": {
      "text/plain": [
       "{('bt1_state_0', 'bt1_state_1', 'g1'),\n",
       " ('bt1_state_0', 'bt1_state_1', 'g2'),\n",
       " ('bt1_state_0', 'bt1_state_1', 'g3'),\n",
       " ('bt1_state_1', 'bt1_state_3', 'o1'),\n",
       " ('bt1_state_1', 'bt1_state_3', 'o2'),\n",
       " ('bt1_state_1', 'bt1_state_3', 'o3'),\n",
       " ('bt1_state_2', 'bt1_state_0', 'h1'),\n",
       " ('bt1_state_2', 'bt1_state_0', 'h2'),\n",
       " ('bt1_state_2', 'bt1_state_0', 'h3'),\n",
       " ('bt2_state_0', 'bt2_state_1', 'h2'),\n",
       " ('bt2_state_0', 'bt2_state_2', 'h1'),\n",
       " ('bt2_state_0', 'bt2_state_3', 'h3'),\n",
       " ('bt3_state_0', 'bt3_state_1', 'g1'),\n",
       " ('bt3_state_0', 'bt3_state_2', 'g3'),\n",
       " ('bt3_state_0', 'bt3_state_3', 'g2')}"
      ]
     },
     "execution_count": 255,
     "metadata": {},
     "output_type": "execute_result"
    }
   ],
   "source": [
    "TRANSITIONS"
   ]
  },
  {
   "cell_type": "markdown",
   "metadata": {},
   "source": [
    "### Literals creation"
   ]
  },
  {
   "cell_type": "code",
   "execution_count": 172,
   "metadata": {},
   "outputs": [],
   "source": [
    "import aiger"
   ]
  },
  {
   "cell_type": "code",
   "execution_count": 217,
   "metadata": {},
   "outputs": [],
   "source": [
    "atoms = dict()\n",
    "def get_atom(name):\n",
    "    if name not in atoms:\n",
    "        atoms[name] = aiger.atom(name)\n",
    "    return atoms[name]\n",
    "        "
   ]
  },
  {
   "cell_type": "markdown",
   "metadata": {},
   "source": [
    "1. $\\forall t \\colon  \\oplus_{e\\in E}(triggered(e,t))$"
   ]
  },
  {
   "cell_type": "code",
   "execution_count": 256,
   "metadata": {},
   "outputs": [],
   "source": [
    "def unique_event(events=EVENTS , time=TIME):\n",
    "    triggered = [get_atom(f'triggered_{e}_at_{t}') for e in events for t in time]\n",
    "    formula = False\n",
    "\n",
    "    for t in triggered:\n",
    "        c = t\n",
    "        for tt in triggered:\n",
    "            if t != tt:\n",
    "                c = c & ~tt\n",
    "        formula = c | formula\n",
    "    return formula\n",
    "  "
   ]
  },
  {
   "cell_type": "markdown",
   "metadata": {},
   "source": [
    "2. $\\forall t,e \\colon  triggered(e,t) \\Rightarrow requested(e,t) \\wedge \\neg blocked(e,t)$\n",
    " "
   ]
  },
  {
   "cell_type": "code",
   "execution_count": 257,
   "metadata": {},
   "outputs": [],
   "source": [
    "def bp(events=EVENTS , time=TIME):\n",
    "    literals = [(get_atom(f'requested_{e}_at_{t}'),\n",
    "                  get_atom(f'blocked_{e}_at_{t}'),\n",
    "                  get_atom(f'triggered_{e}_at_{t}')) for e in events for t in time]\n",
    "    formula = True\n",
    "    for r,b,t in literals:\n",
    "        formula = t.implies(r & ~b) & formula\n",
    "        \n",
    "    return formula"
   ]
  },
  {
   "cell_type": "markdown",
   "metadata": {},
   "source": [
    "3. $\\forall bt, t \\colon  \\oplus_{s\\in S(bt)}(at(s,t))$  "
   ]
  },
  {
   "cell_type": "code",
   "execution_count": 258,
   "metadata": {},
   "outputs": [],
   "source": [
    "def one_state_at_time(states=STATES , time=TIME):\n",
    "    literals = [get_atom(f'{s}_at_{t}') for s in states for t in time]\n",
    "    formula = False\n",
    "    for l in literals:\n",
    "        c = l\n",
    "        for ll in literals:\n",
    "            if l != ll:\n",
    "                c = c & ~ll\n",
    "        formula = c | formula\n",
    "    return formula"
   ]
  },
  {
   "cell_type": "markdown",
   "metadata": {},
   "source": [
    "4. $at(s,t) \\iff ( t=0 \\wedge s \\in INITIAL)  \\vee (at(s',t-1) \\wedge triggered(e,t-1) \\wedge (s',e,s)\\in TRANSITIONS)$  "
   ]
  },
  {
   "cell_type": "code",
   "execution_count": 259,
   "metadata": {},
   "outputs": [
    {
     "ename": "SyntaxError",
     "evalue": "invalid syntax (<ipython-input-259-2c7bcdaafe28>, line 6)",
     "output_type": "error",
     "traceback": [
      "\u001b[0;36m  File \u001b[0;32m\"<ipython-input-259-2c7bcdaafe28>\"\u001b[0;36m, line \u001b[0;32m6\u001b[0m\n\u001b[0;31m    for e in events for t in time]\u001b[0m\n\u001b[0m    ^\u001b[0m\n\u001b[0;31mSyntaxError\u001b[0m\u001b[0;31m:\u001b[0m invalid syntax\n"
     ]
    }
   ],
   "source": [
    "def check_transitions(states=STATES , time=TIME, initials=INITIALS, transitions=TRANSITIONS):\n",
    "    at_state = [(get_atom(f'{s}_at_{t}'), s) for s in states for t in time]\n",
    "    triggered = [get_atom(f'triggered_{e}_at_{t}') for e in events for t in time]\n",
    "                 \n",
    "                 \n",
    "                 for e in events for t in time]\n",
    "    formula = True\n",
    "    for r,b,t in literals:\n",
    "        formula = t.implies(r & ~b) & formula\n",
    "        \n",
    "    return formula"
   ]
  },
  {
   "cell_type": "markdown",
   "metadata": {},
   "source": [
    "5. $requested(e,t) \\iff \\bigvee_{s \\in S} e \\in REQUESTED(s) \\wedge at(s,t)$"
   ]
  },
  {
   "cell_type": "code",
   "execution_count": 277,
   "metadata": {},
   "outputs": [],
   "source": [
    "def get_requested(events=EVENTS, states=STATES , time=TIME):\n",
    "    at_state = [(get_atom(f'{s}_at_{t}'), s) for s in states for t in time]\n",
    "    requested = [(get_atom(f'requested_{e}_at_{t}'),e) for e in events for t in time]\n",
    "    formula = True\n",
    "    a= list()\n",
    "    for req, e in requested:\n",
    "        states_disjunction = False\n",
    "        for state, s in at_state:\n",
    "            if e in REQUESTED[s]:\n",
    "                states_disjunction = state |states_disjunction\n",
    "        formula = req.implies(states_disjunction) & states_disjunction.implies(req) & formula\n",
    "    return formula"
   ]
  },
  {
   "cell_type": "code",
   "execution_count": 278,
   "metadata": {},
   "outputs": [
    {
     "data": {
      "text/plain": [
       "BoolExpr(_aig=aag 161 36 0 1 125\n",
       "2\n",
       "4\n",
       "6\n",
       "8\n",
       "10\n",
       "12\n",
       "14\n",
       "16\n",
       "18\n",
       "20\n",
       "22\n",
       "24\n",
       "26\n",
       "28\n",
       "30\n",
       "32\n",
       "34\n",
       "36\n",
       "38\n",
       "40\n",
       "42\n",
       "44\n",
       "46\n",
       "48\n",
       "50\n",
       "52\n",
       "54\n",
       "56\n",
       "58\n",
       "60\n",
       "62\n",
       "64\n",
       "66\n",
       "68\n",
       "70\n",
       "72\n",
       "322\n",
       "74 17 15\n",
       "76 74 19\n",
       "78 76 54\n",
       "80 77 55\n",
       "82 81 79\n",
       "84 5 3\n",
       "86 84 7\n",
       "88 87 31\n",
       "90 86 30\n",
       "92 91 89\n",
       "94 86 24\n",
       "96 87 25\n",
       "98 97 95\n",
       "100 5 3\n",
       "102 100 7\n",
       "104 102 22\n",
       "106 103 23\n",
       "108 107 105\n",
       "110 100 7\n",
       "112 111 37\n",
       "114 110 36\n",
       "116 115 113\n",
       "118 111 35\n",
       "120 110 34\n",
       "122 121 119\n",
       "124 84 7\n",
       "126 124 32\n",
       "128 125 33\n",
       "130 129 127\n",
       "132 11 9\n",
       "134 132 13\n",
       "136 135 73\n",
       "138 134 72\n",
       "140 139 137\n",
       "142 11 9\n",
       "144 142 13\n",
       "146 144 70\n",
       "148 145 71\n",
       "150 149 147\n",
       "152 77 43\n",
       "154 76 42\n",
       "156 155 153\n",
       "158 74 19\n",
       "160 158 40\n",
       "162 159 41\n",
       "164 163 161\n",
       "166 77 39\n",
       "168 76 38\n",
       "170 169 167\n",
       "172 17 15\n",
       "174 172 19\n",
       "176 174 48\n",
       "178 175 49\n",
       "180 179 177\n",
       "182 172 19\n",
       "184 182 44\n",
       "186 183 45\n",
       "188 187 185\n",
       "190 159 47\n",
       "192 158 46\n",
       "194 193 191\n",
       "196 194 188\n",
       "198 196 180\n",
       "200 134 56\n",
       "202 135 57\n",
       "204 203 201\n",
       "206 204 198\n",
       "208 132 13\n",
       "210 208 58\n",
       "212 209 59\n",
       "214 213 211\n",
       "216 214 206\n",
       "218 145 61\n",
       "220 144 60\n",
       "222 221 219\n",
       "224 222 216\n",
       "226 224 170\n",
       "228 226 164\n",
       "230 228 156\n",
       "232 144 68\n",
       "234 145 69\n",
       "236 235 233\n",
       "238 236 230\n",
       "240 238 150\n",
       "242 240 140\n",
       "244 135 63\n",
       "246 134 62\n",
       "248 247 245\n",
       "250 248 242\n",
       "252 142 13\n",
       "254 252 64\n",
       "256 253 65\n",
       "258 257 255\n",
       "260 258 250\n",
       "262 208 66\n",
       "264 209 67\n",
       "266 265 263\n",
       "268 266 260\n",
       "270 268 130\n",
       "272 270 122\n",
       "274 272 116\n",
       "276 103 21\n",
       "278 102 20\n",
       "280 279 277\n",
       "282 280 274\n",
       "284 282 108\n",
       "286 284 98\n",
       "288 111 27\n",
       "290 110 26\n",
       "292 291 289\n",
       "294 292 286\n",
       "296 103 29\n",
       "298 102 28\n",
       "300 299 297\n",
       "302 300 294\n",
       "304 302 92\n",
       "306 175 51\n",
       "308 174 50\n",
       "310 309 307\n",
       "312 310 304\n",
       "314 182 52\n",
       "316 183 53\n",
       "318 317 315\n",
       "320 318 312\n",
       "322 320 82\n",
       "i0 bt1_state_0_at_0\n",
       "i1 bt1_state_0_at_1\n",
       "i2 bt1_state_0_at_2\n",
       "i3 bt1_state_1_at_0\n",
       "i4 bt1_state_1_at_1\n",
       "i5 bt1_state_1_at_2\n",
       "i6 bt1_state_2_at_0\n",
       "i7 bt1_state_2_at_1\n",
       "i8 bt1_state_2_at_2\n",
       "i9 requested_g1_at_0\n",
       "i10 requested_g1_at_1\n",
       "i11 requested_g1_at_2\n",
       "i12 requested_g2_at_0\n",
       "i13 requested_g2_at_1\n",
       "i14 requested_g2_at_2\n",
       "i15 requested_g3_at_0\n",
       "i16 requested_g3_at_1\n",
       "i17 requested_g3_at_2\n",
       "i18 requested_h1_at_0\n",
       "i19 requested_h1_at_1\n",
       "i20 requested_h1_at_2\n",
       "i21 requested_h2_at_0\n",
       "i22 requested_h2_at_1\n",
       "i23 requested_h2_at_2\n",
       "i24 requested_h3_at_0\n",
       "i25 requested_h3_at_1\n",
       "i26 requested_h3_at_2\n",
       "i27 requested_o1_at_0\n",
       "i28 requested_o1_at_1\n",
       "i29 requested_o1_at_2\n",
       "i30 requested_o2_at_0\n",
       "i31 requested_o2_at_1\n",
       "i32 requested_o2_at_2\n",
       "i33 requested_o3_at_0\n",
       "i34 requested_o3_at_1\n",
       "i35 requested_o3_at_2\n",
       "o0 7294ca24-002b-11ec-b7e9-332bfa207ef9\n",
       ")"
      ]
     },
     "execution_count": 278,
     "metadata": {},
     "output_type": "execute_result"
    }
   ],
   "source": [
    "get_requested()"
   ]
  },
  {
   "cell_type": "markdown",
   "metadata": {},
   "source": [
    "6. $blocked(e,t) \\iff \\bigvee_{s \\in S} e \\in BLOCKED(s) \\wedge at(s,t)$  "
   ]
  },
  {
   "cell_type": "code",
   "execution_count": null,
   "metadata": {},
   "outputs": [],
   "source": [
    "def get_blocked(events=EVENTS, states=STATES , time=TIME):\n",
    "    at_state = [(get_atom(f'{s}_at_{t}'), s) for s in states for t in time]\n",
    "    blocked = [(get_atom(f'blocked{e}_at_{t}'),e) for e in events for t in time]\n",
    "    formula = True\n",
    "    a= list()\n",
    "    for block, e in blocked:\n",
    "        states_disjunction = False\n",
    "        for state, s in at_state:\n",
    "            if e in REQUESTED[s]:\n",
    "                states_disjunction = state |states_disjunction\n",
    "        formula = block.implies(states_disjunction) & states_disjunction.implies(block) & formula\n",
    "    return formula"
   ]
  },
  {
   "cell_type": "code",
   "execution_count": null,
   "metadata": {},
   "outputs": [],
   "source": []
  },
  {
   "cell_type": "code",
   "execution_count": 176,
   "metadata": {},
   "outputs": [],
   "source": [
    "formula = (unique_event() &bp())\n",
    "cnf = CNF(from_aiger=(formula.aig))\n",
    "cnf.to_file('cnf_bp.cnf')\n",
    "cnf2 = aig2cnf(unique_event().aig)\n"
   ]
  },
  {
   "cell_type": "code",
   "execution_count": 177,
   "metadata": {},
   "outputs": [
    {
     "data": {
      "text/plain": [
       "81"
      ]
     },
     "execution_count": 177,
     "metadata": {},
     "output_type": "execute_result"
    }
   ],
   "source": [
    "len(cnf2.clauses)"
   ]
  }
 ],
 "metadata": {
  "kernelspec": {
   "display_name": "Python 3",
   "language": "python",
   "name": "python3"
  },
  "language_info": {
   "codemirror_mode": {
    "name": "ipython",
    "version": 3
   },
   "file_extension": ".py",
   "mimetype": "text/x-python",
   "name": "python",
   "nbconvert_exporter": "python",
   "pygments_lexer": "ipython3",
   "version": "3.8.5"
  }
 },
 "nbformat": 4,
 "nbformat_minor": 4
}

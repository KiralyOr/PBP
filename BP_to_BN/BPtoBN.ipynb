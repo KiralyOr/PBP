{
  "nbformat": 4,
  "nbformat_minor": 0,
  "metadata": {
    "colab": {
      "name": "BPtoBN.ipynb",
      "private_outputs": true,
      "provenance": [],
      "collapsed_sections": []
    },
    "kernelspec": {
      "name": "python3",
      "display_name": "Python 3"
    },
    "language_info": {
      "name": "python"
    }
  },
  "cells": [
    {
      "cell_type": "code",
      "source": [
        "!pip install pomegranate"
      ],
      "metadata": {
        "id": "4uZ8HcdKAF4E"
      },
      "execution_count": null,
      "outputs": []
    },
    {
      "cell_type": "code",
      "source": [
        "from collections import defaultdict\n",
        "from pomegranate import *"
      ],
      "metadata": {
        "id": "UvbWuYnR804N"
      },
      "execution_count": null,
      "outputs": []
    },
    {
      "cell_type": "markdown",
      "source": [
        "# Pomegranate"
      ],
      "metadata": {
        "id": "sN6_7tiQAQIU"
      }
    },
    {
      "cell_type": "code",
      "source": [
        "guest = DiscreteDistribution({'A': 1./3, 'B': 1./3, 'C': 1./3})\n",
        "prize = DiscreteDistribution({'A': 1./3, 'B': 1./3, 'C': 1./3})\n",
        "monty = ConditionalProbabilityTable(\n",
        "        [['A', 'A', 'A', 0.0],\n",
        "         ['A', 'A', 'B', 0.5],\n",
        "         ['A', 'A', 'C', 0.5],\n",
        "         ['A', 'B', 'A', 0.0],\n",
        "         ['A', 'B', 'B', 0.0],\n",
        "         ['A', 'B', 'C', 1.0],\n",
        "         ['A', 'C', 'A', 0.0],\n",
        "         ['A', 'C', 'B', 1.0],\n",
        "         ['A', 'C', 'C', 0.0],\n",
        "         ['B', 'A', 'A', 0.0],\n",
        "         ['B', 'A', 'B', 0.0],\n",
        "         ['B', 'A', 'C', 1.0],\n",
        "         ['B', 'B', 'A', 0.5],\n",
        "         ['B', 'B', 'B', 0.0],\n",
        "         ['B', 'B', 'C', 0.5],\n",
        "         ['B', 'C', 'A', 1.0],\n",
        "         ['B', 'C', 'B', 0.0],\n",
        "         ['B', 'C', 'C', 0.0],\n",
        "         ['C', 'A', 'A', 0.0],\n",
        "         ['C', 'A', 'B', 1.0],\n",
        "         ['C', 'A', 'C', 0.0],\n",
        "         ['C', 'B', 'A', 1.0],\n",
        "         ['C', 'B', 'B', 0.0],\n",
        "         ['C', 'B', 'C', 0.0],\n",
        "         ['C', 'C', 'A', 0.5],\n",
        "         ['C', 'C', 'B', 0.5],\n",
        "         ['C', 'C', 'C', 0.0]], [guest, prize])\n",
        "\n",
        "s1 = Node(guest, name=\"guest\")\n",
        "s2 = Node(prize, name=\"prize\")\n",
        "s3 = Node(monty, name=\"monty\")\n",
        "\n",
        "model = BayesianNetwork(\"Monty Hall Problem\")\n",
        "model.add_states(s1, s2, s3)\n",
        "model.add_edge(s1, s3)\n",
        "model.add_edge(s2, s3)\n",
        "model.bake()\n",
        "                           \n",
        "# print(model.marginal())\n",
        "print(model.predict_proba([['A', None, 'A']]))\n",
        "print(model.predict_proba([['A', None, 'B']]))\n",
        "print(model.predict_proba([['A', None, 'C']]))"
      ],
      "metadata": {
        "id": "ja5hzghEAShc"
      },
      "execution_count": null,
      "outputs": []
    },
    {
      "cell_type": "code",
      "execution_count": null,
      "metadata": {
        "id": "0dz9hAFj7nMo"
      },
      "outputs": [],
      "source": [
        "INITIALS={'bt1_state_0', 'bt2_state_0', 'bt3_state_0'}\n",
        "\n",
        "BTHREADS={'bt1','bt2','bt3'}\n",
        "\n",
        "STATES={}\n",
        "\n",
        "#STATES ={'bt1_state_0',\n",
        "# 'bt1_state_1',\n",
        "# 'bt1_state_2',\n",
        "# 'bt1_state_3',\n",
        "# 'bt2_state_0',\n",
        "# 'bt2_state_1',\n",
        "# 'bt2_state_2',\n",
        "# 'bt2_state_3',\n",
        "# 'bt3_state_0',\n",
        "# 'bt3_state_1',\n",
        "# 'bt3_state_2',\n",
        "# 'bt3_state_3'}\n",
        "\n",
        "EVENTS ={'g1', 'g2', 'g3', 'h1', 'h2', 'h3', 'o1', 'o2', 'o3'}\n",
        "\n",
        "BLOCKED =defaultdict(list,\n",
        "            {'bt3_state_1': ['o1'],\n",
        "             'bt3_state_2': ['o2'],\n",
        "             'bt3_state_3': ['o3'],\n",
        "             'bt2_state_1': ['o1'],\n",
        "             'bt2_state_2': ['o2'],\n",
        "             'bt2_state_3': ['o3']})\n",
        "\n",
        "REQUESTED=defaultdict(list,\n",
        "            {'bt1_state_0': ['h1', 'h2', 'h3'],\n",
        "             'bt1_state_1': ['g1', 'g2', 'g3'],\n",
        "             'bt1_state_2': ['o1', 'o2', 'o3']})\n",
        "\n",
        "TIME=[0, 1, 2]\n",
        "TRANSITIONS={('bt1_state_0', 'bt1_state_1', 'h1'),\n",
        " ('bt1_state_0', 'bt1_state_1', 'h2'),\n",
        " ('bt1_state_0', 'bt1_state_1', 'h3'),\n",
        " ('bt1_state_1', 'bt1_state_2', 'g1'),\n",
        " ('bt1_state_1', 'bt1_state_2', 'g2'),\n",
        " ('bt1_state_1', 'bt1_state_2', 'g3'),\n",
        " ('bt1_state_2', 'bt1_state_3', 'o1'),\n",
        " ('bt1_state_2', 'bt1_state_3', 'o2'),\n",
        " ('bt1_state_2', 'bt1_state_3', 'o3'),\n",
        " ('bt2_state_0', 'bt2_state_1', 'h1'),\n",
        " ('bt2_state_0', 'bt2_state_2', 'h2'),\n",
        " ('bt2_state_0', 'bt2_state_3', 'h3'),\n",
        " ('bt3_state_0', 'bt3_state_1', 'g1'),\n",
        " ('bt3_state_0', 'bt3_state_2', 'g2'),\n",
        " ('bt3_state_0', 'bt3_state_3', 'g3')}"
      ]
    },
    {
      "cell_type": "markdown",
      "source": [
        "# Translation"
      ],
      "metadata": {
        "id": "MRqKMp2l7xsZ"
      }
    },
    {
      "cell_type": "code",
      "source": [
        "def requested_not_blocked(state) -> set:\n",
        "  if(state=(0,0,0)):\n",
        "    return {'h1','h2','h3'}\n",
        "  else:\n",
        "    return set()\n",
        "\n",
        "\n",
        "\n",
        "for t in TIME:\n",
        "  model.add_state(f'{}')\n",
        "  for bt in BTHREADS\n",
        "    rnb = requested_not_blocked(bt)\n",
        "    # dist = DiscreteDistribution({'A': 1./3, 'B': 1./3, 'C': 1./3})\n",
        "    dist = {}\n",
        "    for s in STATES[bt]:\n",
        "      for ss in \n",
        "\n",
        "    s1 = Node(DiscreteDistribution(dist))\n",
        "    model.add_state(f'{bt}_{t}')\n",
        "  \n",
        "                   \n",
        "\n",
        "\n",
        "\n",
        "  \n",
        "\n",
        "model = BayesianNetwork(\"Monty Hall Problem\")\n",
        "model.add_states(s1, s2, s3)\n",
        "model.add_edge(s1, s3)\n",
        "model.add_edge(s2, s3)\n",
        "model.bake()"
      ],
      "metadata": {
        "id": "crPQ6l4387JB"
      },
      "execution_count": null,
      "outputs": []
    }
  ]
}
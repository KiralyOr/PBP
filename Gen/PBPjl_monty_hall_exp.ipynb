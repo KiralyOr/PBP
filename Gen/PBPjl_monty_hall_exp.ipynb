{
 "cells": [
  {
   "cell_type": "markdown",
   "metadata": {},
   "source": [
    "## Implementation of JuliaBP interpreter using Gen"
   ]
  },
  {
   "cell_type": "markdown",
   "metadata": {},
   "source": [
    "standard gen imports"
   ]
  },
  {
   "cell_type": "code",
   "execution_count": 1,
   "metadata": {},
   "outputs": [],
   "source": [
    "using ResumableFunctions\n",
    "using Gen\n",
    "using PyPlot"
   ]
  },
  {
   "cell_type": "code",
   "execution_count": 2,
   "metadata": {},
   "outputs": [],
   "source": [
    "# add bthread to the BP\n",
    "function registerBThread(bThread_dict, name, bThread, bt_id)\n",
    "    bThread_dict[bt_id] = Dict(\"Name\" => name, \"bThread\" => bThread)\n",
    "    end;"
   ]
  },
  {
   "cell_type": "code",
   "execution_count": 3,
   "metadata": {},
   "outputs": [],
   "source": [
    "function event_to_int(e)\n",
    "    val = 48\n",
    "    if e[1] == 'H'\n",
    "        return Int(e[2])-val\n",
    "    elseif e[1] == 'O'\n",
    "        return Int(e[2])-val+3\n",
    "    else\n",
    "        return Int(e[2])-val+6\n",
    "    end\n",
    "end;  "
   ]
  },
  {
   "cell_type": "code",
   "execution_count": 5,
   "metadata": {},
   "outputs": [],
   "source": [
    "@resumable function get_bt_id()\n",
    "    i = 1\n",
    "    while true \n",
    "        @yield \"bt_$i\"\n",
    "        i+=1\n",
    "    end    \n",
    "end;"
   ]
  },
  {
   "cell_type": "code",
   "execution_count": 8,
   "metadata": {},
   "outputs": [],
   "source": [
    "function btDict(bThread_list)\n",
    "    dict = Dict()\n",
    "    k = keys(bThread_list) \n",
    "    for key in k\n",
    "        dict[key] = nothing\n",
    "    end\n",
    "    return  dict\n",
    "end;"
   ]
  },
  {
   "cell_type": "code",
   "execution_count": 9,
   "metadata": {},
   "outputs": [],
   "source": [
    "@gen function selectEvent(i,request_list, block_list)\n",
    "    request_and_not_block = setdiff(request_list,block_list)\n",
    "    m = size(request_and_not_block)[1]\n",
    "    n = size(events)[1]\n",
    "    prob = [events[j] in Set(request_and_not_block)  ? 1/m : 0.0 for j=1:n]\n",
    "    log_flag ? println(\"probability vector: $prob\") : -1\n",
    "    #idx2 = @trace(categorical(prob),(:event, i))\n",
    "    return prob\n",
    "end;"
   ]
  },
  {
   "cell_type": "code",
   "execution_count": 10,
   "metadata": {},
   "outputs": [],
   "source": [
    "function is_wait_for_requested(event, wait_for_list,requested_list)\n",
    "    events =[wait_for_list ;requested_list]\n",
    "    if in(event, events)\n",
    "        return true\n",
    "    else \n",
    "        return false\n",
    "    end\n",
    "end;"
   ]
  },
  {
   "cell_type": "code",
   "execution_count": 11,
   "metadata": {},
   "outputs": [
    {
     "data": {
      "text/plain": [
       "DynamicDSLFunction{Any}(Dict{Symbol,Any}(), Dict{Symbol,Any}(), Type[Any], false, Union{Nothing, Some{Any}}[nothing], ##bProgram#258, Bool[0], false)"
      ]
     },
     "execution_count": 11,
     "metadata": {},
     "output_type": "execute_result"
    }
   ],
   "source": [
    "@gen function bProgram(bThread_list)\n",
    "    i = 0\n",
    "    event = \"init\"\n",
    "    bt_wait_for = btDict(bThread_list)\n",
    "    bt_requeste = btDict(bThread_list)\n",
    "\n",
    "    while true\n",
    "        to_delete = []\n",
    "        block = []\n",
    "        requests = []\n",
    "        ids = keys(bThread_list)\n",
    "        for bt_id in ids\n",
    "            if  is_wait_for_requested(event,bt_wait_for[bt_id],bt_requeste[bt_id]) || event == \"init\"\n",
    "                tmp = bThread_list[bt_id][\"bThread\"](event)\n",
    "                if tmp != false\n",
    "                    log_flag ? println(bt_id,\"::\",bThread_list[bt_id][\"Name\"],\"::\\t \",tmp) : -1\n",
    "                    if in(\"request\",keys(tmp))\n",
    "                        requests = [requests ; tmp[\"request\"]]\n",
    "                        bt_requeste[bt_id] = tmp[\"request\"]\n",
    "                    end\n",
    "                    if in(\"block\",keys(tmp))\n",
    "                        block = [block ; tmp[\"block\"]]\n",
    "                    end\n",
    "                    \n",
    "                    if in(\"wait_for\",keys(tmp))\n",
    "                        bt_wait_for[bt_id] = tmp[\"wait_for\"]\n",
    "                    end    \n",
    "                else\n",
    "                    push!(to_delete,bt_id)\n",
    "                end  \n",
    "            end        \n",
    "        end\n",
    "        for bt_id in to_delete\n",
    "            delete!(bThread_list, bt_id)\n",
    "        end\n",
    "        if size(requests)[1] > 0\n",
    "            i+=1\n",
    "            prob = selectEvent(i, requests, block)\n",
    "            idx2 = @trace(categorical(prob),(:event, i))\n",
    "            event = events[idx2]\n",
    "            log_flag ? println(\"$i. Selected event: $event\") : -1\n",
    "        else\n",
    "            break\n",
    "            end    \n",
    "        log_flag ? println(\"*************\") : -1\n",
    "        \n",
    "    end\n",
    "end    "
   ]
  },
  {
   "cell_type": "markdown",
   "metadata": {},
   "source": [
    "# Monty Hall\n",
    "\n",
    "Main scenario:\n",
    "\n",
    "\tRequest H1, H2, H3\n",
    "\n",
    "    Request G1, G2, G3\n",
    "\n",
    "    Request O1, O2, O3\n",
    "\n",
    "\n",
    "\n",
    "Second scenario:\n",
    "\n",
    "\th = Wait H1, H2, H3\n",
    "\n",
    "    g = Wait G1, G2, G3\n",
    "\n",
    "    Block O(index(h)), O(index(g))\n",
    "\n",
    "\n",
    "Third scenario:\n",
    "\n",
    "\th = Wait H1, H2, H3\n",
    "\n",
    "    g = Wait G1, G2, G3\n",
    "\n",
    "    assert ( index(h) == index(g) )"
   ]
  },
  {
   "cell_type": "code",
   "execution_count": 30,
   "metadata": {},
   "outputs": [
    {
     "data": {
      "text/plain": [
       "main_scenario (generic function with 1 method)"
      ]
     },
     "execution_count": 30,
     "metadata": {},
     "output_type": "execute_result"
    }
   ],
   "source": [
    "@resumable function main_scenario() \n",
    "    @yield Dict(\"request\" => [\"H1\", \"H2\", \"H3\"])\n",
    "    @yield Dict(\"request\" => [\"G1\", \"G2\", \"G3\"])\n",
    "    @yield Dict(\"request\" => [\"O1\", \"O2\", \"O3\"])\n",
    "end;"
   ]
  },
  {
   "cell_type": "code",
   "execution_count": 31,
   "metadata": {},
   "outputs": [
    {
     "data": {
      "text/plain": [
       "second_scenario (generic function with 1 method)"
      ]
     },
     "execution_count": 31,
     "metadata": {},
     "output_type": "execute_result"
    }
   ],
   "source": [
    "@resumable function second_scenario() \n",
    "    h = @yield Dict(\"wait_for\" => [\"H1\", \"H2\", \"H3\"])\n",
    "    g = @yield Dict(\"wait_for\" => [\"G1\", \"G2\", \"G3\"])\n",
    "    @yield Dict(\"block\" => [\"O$(h[2])\",\"O$(g[2])\"])\n",
    "end;"
   ]
  },
  {
   "cell_type": "code",
   "execution_count": 40,
   "metadata": {},
   "outputs": [],
   "source": [
    "events = [\"H1\",\"H2\",\"H3\",\"G1\",\"G2\",\"G3\",\"O1\",\"O2\",\"O3\"];\n",
    "         # 1.    2.   3.  4.   5.   6.   7.   8.   9.  "
   ]
  },
  {
   "cell_type": "code",
   "execution_count": 41,
   "metadata": {},
   "outputs": [
    {
     "name": "stdout",
     "output_type": "stream",
     "text": [
      "bt_2::montyBT  ::\t Dict(\"wait_for\" => [\"H1\", \"H2\", \"H3\"])\n",
      "bt_1::playerBT::\t Dict(\"request\" => [\"H1\", \"H2\", \"H3\"])\n",
      "probability vector: [0.3333333333333333, 0.3333333333333333, 0.3333333333333333, 0.0, 0.0, 0.0, 0.0, 0.0, 0.0]\n",
      "1. Selected event: H3\n",
      "*************\n",
      "bt_2::montyBT  ::\t Dict(\"wait_for\" => [\"G1\", \"G2\", \"G3\"])\n",
      "bt_1::playerBT::\t Dict(\"request\" => [\"G1\", \"G2\", \"G3\"])\n",
      "probability vector: [0.0, 0.0, 0.0, 0.3333333333333333, 0.3333333333333333, 0.3333333333333333, 0.0, 0.0, 0.0]\n",
      "2. Selected event: G3\n",
      "*************\n",
      "bt_2::montyBT  ::\t Dict(\"block\" => [\"O3\", \"O3\"])\n",
      "bt_1::playerBT::\t Dict(\"request\" => [\"O1\", \"O2\", \"O3\"])\n",
      "probability vector: [0.0, 0.0, 0.0, 0.0, 0.0, 0.0, 0.5, 0.5, 0.0]\n",
      "3. Selected event: O1\n",
      "*************\n"
     ]
    },
    {
     "data": {
      "text/plain": [
       "│\n",
       "├── (:event, 3) : 7\n",
       "│\n",
       "├── (:event, 1) : 3\n",
       "│\n",
       "└── (:event, 2) : 6\n"
      ]
     },
     "execution_count": 41,
     "metadata": {},
     "output_type": "execute_result"
    }
   ],
   "source": [
    "log_flag = true\n",
    "@gen function monty_hall()\n",
    "    bThread_list_monty = Dict()\n",
    "    id_gen = get_bt_id()\n",
    "    registerBThread(bThread_list_monty,\"playerBT\" ,main_scenario(),id_gen())\n",
    "    registerBThread(bThread_list_monty,\"montyBT  \" ,second_scenario(),id_gen())\n",
    "    @trace(bProgram(bThread_list_monty))\n",
    "end\n",
    "trace = Gen.simulate(monty_hall, ());\n",
    "Gen.get_choices(trace)"
   ]
  },
  {
   "cell_type": "code",
   "execution_count": 42,
   "metadata": {},
   "outputs": [],
   "source": [
    "function do_inference(model, g,o, amount_of_computation)\n",
    "\n",
    "    observations = Gen.choicemap()\n",
    "    observations[(:event, 2)] = g\n",
    "    observations[(:event, 3)] = o\n",
    "\n",
    " \n",
    "    (traces, log_norm_weights, lml_est) = Gen.importance_sampling(model,(), observations, amount_of_computation);\n",
    "\n",
    "    #TODO: add inference methods (MCMC)\n",
    "    return traces, log_norm_weights, lml_est\n",
    "end;"
   ]
  },
  {
   "cell_type": "code",
   "execution_count": 43,
   "metadata": {},
   "outputs": [
    {
     "name": "stdout",
     "output_type": "stream",
     "text": [
      "p[H1]=0.3303357314148686, p[H2]=0.6696642685851314, p[H3]=0.0\n"
     ]
    }
   ],
   "source": [
    "\n",
    "log_flag = false\n",
    "traces,log_norm_weights, lml_est= do_inference(monty_hall, 4, 9, 10000)\n",
    "#println(traces)\n",
    "sum_1 = 0\n",
    "sum_2 = 0 \n",
    "sum_3 = 0\n",
    "\n",
    "for (i,t) in enumerate(traces)\n",
    "    if t[(:event, 1)] == 1\n",
    "        sum_1 += exp(log_norm_weights[i])\n",
    "    elseif t[(:event, 1)] == 2\n",
    "        sum_2 += exp(log_norm_weights[i])    \n",
    "    else \n",
    "        sum_3 += exp(log_norm_weights[i])             \n",
    "\n",
    "    end\n",
    "end\n",
    "\n",
    "total = sum_1 + sum_2 + sum_3\n",
    "println(\"p[H1]=$(sum_1/total), p[H2]=$(sum_2/total), p[H3]=$sum_3\")\n",
    "\n"
   ]
  }
 ],
 "metadata": {
  "kernelspec": {
   "display_name": "Julia 1.4.2",
   "language": "julia",
   "name": "julia-1.4"
  },
  "language_info": {
   "file_extension": ".jl",
   "mimetype": "application/julia",
   "name": "julia",
   "version": "1.4.2"
  }
 },
 "nbformat": 4,
 "nbformat_minor": 4
}

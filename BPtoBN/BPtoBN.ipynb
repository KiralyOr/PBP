{
  "nbformat": 4,
  "nbformat_minor": 0,
  "metadata": {
    "colab": {
      "name": "BPtoBN.ipynb",
      "private_outputs": true,
      "provenance": [],
      "collapsed_sections": [],
      "toc_visible": true,
      "include_colab_link": true
    },
    "kernelspec": {
      "name": "python3",
      "display_name": "Python 3"
    },
    "language_info": {
      "name": "python"
    }
  },
  "cells": [
    {
      "cell_type": "markdown",
      "metadata": {
        "id": "view-in-github",
        "colab_type": "text"
      },
      "source": [
        "<a href=\"https://colab.research.google.com/github/KiralyOr/PBP/blob/bayesian_network/BPtoBN.ipynb\" target=\"_parent\"><img src=\"https://colab.research.google.com/assets/colab-badge.svg\" alt=\"Open In Colab\"/></a>"
      ]
    },
    {
      "cell_type": "code",
      "source": [
        "!pip install pgmpy"
      ],
      "metadata": {
        "id": "4uZ8HcdKAF4E"
      },
      "execution_count": null,
      "outputs": []
    },
    {
      "cell_type": "code",
      "source": [
        "from collections import defaultdict\n",
        "import itertools\n",
        "import graphviz\n",
        "import pandas as pd"
      ],
      "metadata": {
        "id": "UvbWuYnR804N"
      },
      "execution_count": null,
      "outputs": []
    },
    {
      "cell_type": "markdown",
      "source": [
        "#Monty Hall pgmpy\n"
      ],
      "metadata": {
        "id": "aNGt6ZnwklYY"
      }
    },
    {
      "cell_type": "code",
      "source": [
        "dot = graphviz.Digraph(comment='#Monty Hall pgmpy')\n",
        "\n",
        "dot.node('G', 'Guess')\n",
        "dot.node('H', 'Hide')\n",
        "dot.node('O', 'Open')\n",
        "\n",
        "dot.edges(['GO', 'HO'])\n",
        "dot"
      ],
      "metadata": {
        "id": "kMrUb2_HosC0"
      },
      "execution_count": null,
      "outputs": []
    },
    {
      "cell_type": "code",
      "source": [
        "from pgmpy.models import BayesianNetwork\n",
        "from pgmpy.factors.discrete import TabularCPD\n",
        "\n",
        "# Defining the network structure\n",
        "model = BayesianNetwork([(\"G\", \"O\"), (\"H\", \"O\")])\n",
        "\n",
        "# Defining the CPDs:\n",
        "cpd_g = TabularCPD(\"G\", 3, [[0.33], [0.33], [0.33]])\n",
        "cpd_h = TabularCPD(\"H\", 3, [[0.33], [0.33], [0.33]])\n",
        "cpd_o = TabularCPD(\n",
        "    \"O\",\n",
        "    3,\n",
        "    [\n",
        "        [0, 0, 0, 0, 0.5, 1, 0, 1, 0.5],\n",
        "        [0.5, 0, 1, 0, 0, 0, 1, 0, 0.5],\n",
        "        [0.5, 1, 0, 1, 0.5, 0, 0, 0, 0],\n",
        "    ],\n",
        "    evidence=[\"G\", \"H\"],\n",
        "    evidence_card=[3, 3],\n",
        ")\n",
        "\n",
        "# Associating the CPDs with the network structure.\n",
        "model.add_cpds(cpd_g, cpd_h, cpd_o)\n",
        "\n",
        "# Some other methods\n",
        "model.get_cpds()"
      ],
      "metadata": {
        "id": "2bqOlWwwkaQm"
      },
      "execution_count": null,
      "outputs": []
    },
    {
      "cell_type": "code",
      "source": [
        "# check_model check for the model structure and the associated CPD and returns True if everything is correct otherwise throws an exception\n",
        "model.check_model()"
      ],
      "metadata": {
        "id": "SR3t1irNksCr"
      },
      "execution_count": null,
      "outputs": []
    },
    {
      "cell_type": "code",
      "source": [
        "# Infering the posterior probability\n",
        "from pgmpy.inference import VariableElimination\n",
        "\n",
        "infer = VariableElimination(model)\n",
        "posterior_h = infer.query([\"H\"], evidence={\"G\": 0, \"O\": 2})\n",
        "print(posterior_h)"
      ],
      "metadata": {
        "id": "TqiKPzKYk0kU"
      },
      "execution_count": null,
      "outputs": []
    },
    {
      "cell_type": "markdown",
      "source": [
        "#BThreds implementation\n"
      ],
      "metadata": {
        "id": "XZJfs34xlgul"
      }
    },
    {
      "cell_type": "markdown",
      "source": [
        "###Data Structure definition"
      ],
      "metadata": {
        "id": "GUB0SgnzlwU9"
      }
    },
    {
      "cell_type": "code",
      "execution_count": null,
      "metadata": {
        "id": "0dz9hAFj7nMo"
      },
      "outputs": [],
      "source": [
        "INITIALS={'bt1':'0', 'bt2':'0', 'bt3':'0'}\n",
        "\n",
        "BTHREADS= ['bt1','bt2','bt3']\n",
        "\n",
        "\n",
        "EVENTS = ['default', 'g1', 'g2', 'g3', 'h1', 'h2', 'h3', 'o1', 'o2', 'o3']\n",
        "\n",
        "STATES = defaultdict(list,\n",
        "            {'bt1':['0','1','2','3'],\n",
        "             'bt2':['0','1','2','3'],\n",
        "             'bt3':['0','1','2','3']})\n",
        "                         \n",
        "                     \n",
        "\n",
        "BLOCKED =defaultdict(list,\n",
        "            {'bt3_state_1': ['o1'],\n",
        "             'bt3_state_2': ['o2'],\n",
        "             'bt3_state_3': ['o3'],\n",
        "             'bt2_state_1': ['o1'],\n",
        "             'bt2_state_2': ['o2'],\n",
        "             'bt2_state_3': ['o3']})\n",
        "\n",
        "REQUESTED=defaultdict(list,\n",
        "            {'bt1_state_0': ['h1', 'h2', 'h3'],\n",
        "             'bt1_state_1': ['g1', 'g2', 'g3'],\n",
        "             'bt1_state_2': ['o1', 'o2', 'o3']})\n",
        "\n",
        "TIME=[0, 1, 2]\n",
        "TRANSITIONS={('bt1_state_0', 'bt1_state_1', 'h1'),\n",
        " ('bt1_state_0', 'bt1_state_1', 'h2'),\n",
        " ('bt1_state_0', 'bt1_state_1', 'h3'),\n",
        " ('bt1_state_1', 'bt1_state_2', 'g1'),\n",
        " ('bt1_state_1', 'bt1_state_2', 'g2'),\n",
        " ('bt1_state_1', 'bt1_state_2', 'g3'),\n",
        " ('bt1_state_2', 'bt1_state_3', 'o1'),\n",
        " ('bt1_state_2', 'bt1_state_3', 'o2'),\n",
        " ('bt1_state_2', 'bt1_state_3', 'o3'),\n",
        " ('bt2_state_0', 'bt2_state_1', 'h1'),\n",
        " ('bt2_state_0', 'bt2_state_2', 'h2'),\n",
        " ('bt2_state_0', 'bt2_state_3', 'h3'),\n",
        " ('bt3_state_0', 'bt3_state_1', 'g1'),\n",
        " ('bt3_state_0', 'bt3_state_2', 'g2'),\n",
        " ('bt3_state_0', 'bt3_state_3', 'g3')}"
      ]
    },
    {
      "cell_type": "markdown",
      "source": [
        "# Translation to Bayesian Network"
      ],
      "metadata": {
        "id": "MRqKMp2l7xsZ"
      }
    },
    {
      "cell_type": "code",
      "source": [
        "p = graphviz.Graph(name='Bayesian Network')\n",
        "\n",
        "for i in range(1,4):\n",
        "  p.node(f'e_{i}', f'event({i})')\n",
        "\n",
        "for bt in BTHREADS:\n",
        "  for i in range(4):\n",
        "    p.node(f'{bt}_{i}', f'state({bt},{i})')\n",
        "\n",
        "for i in range(1,4):\n",
        "  for bt in BTHREADS:\n",
        "    p.edge(f'e_{i}', f'{bt}_{i}')\n",
        "\n",
        "for bt in BTHREADS:\n",
        "  for i in range(3):\n",
        "    p.edge(f'{bt}_{i}',f'e_{i+1}')\n",
        "    p.edge(f'{bt}_{i}',f'{bt}_{i+1}')\n",
        "p"
      ],
      "metadata": {
        "id": "KK0vFyAvigSP"
      },
      "execution_count": null,
      "outputs": []
    },
    {
      "cell_type": "markdown",
      "source": [
        "##BP util functions"
      ],
      "metadata": {
        "id": "Pmyjz1sNbPY_"
      }
    },
    {
      "cell_type": "code",
      "source": [
        "def requested_not_blocked(row) -> set:\n",
        "  # get set of all requested not blocked  from given state\n",
        "  states = [row[bt] for bt in BTHREADS]\n",
        "  requested = list()\n",
        "  blocked = list()\n",
        "  for bt,s in enumerate(states):\n",
        "    requested.extend(REQUESTED[f'bt{bt+1}_state_{s}'])\n",
        "    blocked.extend(BLOCKED[f'bt{bt+1}_state_{s}'])\n",
        "  return set(requested) - set(blocked)"
      ],
      "metadata": {
        "id": "QRclI04g9_3S"
      },
      "execution_count": null,
      "outputs": []
    },
    {
      "cell_type": "code",
      "source": [
        "def event_prob(event,rnb_set):\n",
        "  # calculate event probability \n",
        "  # using uniform distribution for all \n",
        "  # requested not blocked events\n",
        "  if event in rnb_set:\n",
        "    return 1/len(rnb_set)\n",
        "  elif len(rnb_set) == 0 and event == 'default':\n",
        "    return 1\n",
        "  else:  \n",
        "    return 0"
      ],
      "metadata": {
        "id": "BzrapGbfJ-CV"
      },
      "execution_count": null,
      "outputs": []
    },
    {
      "cell_type": "code",
      "source": [
        "def check_no_tarnsiton(bt_name, source, event):\n",
        "  # checks that there aren't any transition from given state with given event\n",
        "  for target in STATES[bt_name]:\n",
        "    if (f\"{bt_name}_state_{source}\", f\"{bt_name}_state_{target}\" , event) in TRANSITIONS:\n",
        "      return False\n",
        "  return True\n",
        "check_no_tarnsiton('bt1', '0', 'h1')"
      ],
      "metadata": {
        "id": "8BkDT0ZATXVu"
      },
      "execution_count": null,
      "outputs": []
    },
    {
      "cell_type": "code",
      "source": [
        "def is_valid_transition(bt_name, source, target, event):\n",
        "  # check if transition is valid using TRANSITIONS data structure\n",
        "  # if the transition not exists checks if self loop should be assigend\n",
        "  if (f\"{bt_name}_state_{source}\", f\"{bt_name}_state_{target}\" , event) in TRANSITIONS:\n",
        "    return 1\n",
        "  elif source == target and check_no_tarnsiton(bt_name, source, event):\n",
        "    return 1\n",
        "  else:   \n",
        "    return 0"
      ],
      "metadata": {
        "id": "yoOuFqELbYLp"
      },
      "execution_count": null,
      "outputs": []
    },
    {
      "cell_type": "markdown",
      "source": [
        "##Create CPDs"
      ],
      "metadata": {
        "id": "8RGTsS20c3Ag"
      }
    },
    {
      "cell_type": "code",
      "source": [
        "def pivot_cpd(df):\n",
        "  pivot_df = pd.pivot_table(df, values='prob', index=['event'],\n",
        "                    columns=BTHREADS).reset_index()                 \n",
        "  return pivot_df\n",
        "\n",
        "def get_cpd_event_table():\n",
        "  states = [STATES[bt] for bt in BTHREADS]\n",
        "  states.append(EVENTS)\n",
        "  event_table = [p for p in itertools.product(*states)]\n",
        "  columns = BTHREADS +['event']\n",
        "  df = pd.DataFrame(event_table, columns=columns)\n",
        "  df['prob'] = df.apply(lambda x: event_prob(x['event'], requested_not_blocked((x))), axis=1)\n",
        "  df.sort_values(by=columns)\n",
        "  return pivot_cpd(df)"
      ],
      "metadata": {
        "id": "a4RtAPs59cTZ"
      },
      "execution_count": null,
      "outputs": []
    },
    {
      "cell_type": "code",
      "source": [
        "def get_cpd_table_internal_state(bt_name):\n",
        "  states = [STATES[bt_name],list(EVENTS), STATES[bt_name]]\n",
        "  event_table = [p for p in itertools.product(*states)]\n",
        "  columns = [bt_name , 'event', f'next_{bt_name}']\n",
        "  df = pd.DataFrame(event_table, columns=columns)\n",
        "  df['prob'] = df.apply(lambda x: is_valid_transition(bt_name, x[bt_name], x[f'next_{bt_name}'], x['event']) ,axis=1) \n",
        "  pivot_df = pd.pivot_table(df, values='prob', index=[f'next_{bt_name}'],\n",
        "                    columns=[bt_name, 'event']).reset_index().fillna(0)\n",
        "  return pivot_df"
      ],
      "metadata": {
        "id": "xy0ZEpW5w30L"
      },
      "execution_count": null,
      "outputs": []
    },
    {
      "cell_type": "code",
      "source": [
        "def get_bt_initial_cpd(bt_name):\n",
        "  df = pd.DataFrame(STATES[bt_name], columns=[bt_name])\n",
        "  df['prob'] = df.apply(lambda x: 1 if INITIALS[bt_name] == x[bt_name] else 0 ,axis=1) \n",
        "  return df\n",
        "get_bt_initial_cpd('bt1')  "
      ],
      "metadata": {
        "id": "eVllxoSIJHK9"
      },
      "execution_count": null,
      "outputs": []
    },
    {
      "cell_type": "markdown",
      "source": [
        "### Convert Dataframe to list of lists"
      ],
      "metadata": {
        "id": "JNPAQvTVjLQB"
      }
    },
    {
      "cell_type": "code",
      "source": [
        "df_bt1_initial = get_bt_initial_cpd('bt1')\n",
        "df_bt1_initial"
      ],
      "metadata": {
        "id": "ZJxg2XWUKqrF"
      },
      "execution_count": null,
      "outputs": []
    },
    {
      "cell_type": "code",
      "source": [
        "df_bt2_initial = get_bt_initial_cpd('bt2')\n",
        "df_bt2_initial"
      ],
      "metadata": {
        "id": "KmULU_FxKq1o"
      },
      "execution_count": null,
      "outputs": []
    },
    {
      "cell_type": "code",
      "source": [
        "df_bt3_initial = get_bt_initial_cpd('bt3')\n",
        "df_bt3_initial"
      ],
      "metadata": {
        "id": "uox7MTkuKqQS"
      },
      "execution_count": null,
      "outputs": []
    },
    {
      "cell_type": "code",
      "source": [
        "df_event = get_cpd_event_table()\n",
        "df_event"
      ],
      "metadata": {
        "id": "VrCBjddH2e5P"
      },
      "execution_count": null,
      "outputs": []
    },
    {
      "cell_type": "code",
      "source": [
        "df_bt1 = get_cpd_table_internal_state('bt1') \n",
        "df_bt1"
      ],
      "metadata": {
        "id": "SG5h7Ew_AyES"
      },
      "execution_count": null,
      "outputs": []
    },
    {
      "cell_type": "code",
      "source": [
        "df_bt2 = get_cpd_table_internal_state('bt2') \n",
        "df_bt2"
      ],
      "metadata": {
        "id": "4JD7u8jyBX3M"
      },
      "execution_count": null,
      "outputs": []
    },
    {
      "cell_type": "code",
      "source": [
        "df_bt3 = get_cpd_table_internal_state('bt3') \n",
        "df_bt3"
      ],
      "metadata": {
        "id": "fvmom4QNBY0W"
      },
      "execution_count": null,
      "outputs": []
    },
    {
      "cell_type": "code",
      "source": [
        "cpd_df_bt1_initial = [l[1:] for l in df_bt1_initial.values.tolist()]\n",
        "cpd_df_bt2_initial = [l[1:] for l in df_bt2_initial.values.tolist()]\n",
        "cpd_df_bt3_initial = [l[1:] for l in df_bt3_initial.values.tolist()]\n",
        "\n",
        "cpd_df_event = [l[1:] for l in df_event.values.tolist()]\n",
        "\n",
        "cpd_df_bt1 = [l[1:] for l in df_bt1.values.tolist()]\n",
        "cpd_df_bt2 = [l[1:] for l in df_bt2.values.tolist()]\n",
        "cpd_df_bt3 = [l[1:] for l in df_bt3.values.tolist()]\n",
        "\n"
      ],
      "metadata": {
        "id": "jzoVJhikBmRu"
      },
      "execution_count": null,
      "outputs": []
    },
    {
      "cell_type": "markdown",
      "source": [
        "### Build Bayesian Network"
      ],
      "metadata": {
        "id": "XwGbol94jU1a"
      }
    },
    {
      "cell_type": "code",
      "source": [
        "# Defining the network structure\n",
        "BN = []\n",
        "for i in range(1,4):\n",
        "  for bt in BTHREADS:\n",
        "    BN.append((f'event_{i}', f'state_{bt}_{i}'))\n",
        "\n",
        "for bt in BTHREADS:\n",
        "  for i in range(3):\n",
        "    BN.append((f'state_{bt}_{i}',f'event_{i+1}'))\n",
        "    BN.append((f'state_{bt}_{i}',f'state_{bt}_{i+1}'))\n",
        "model = BayesianNetwork(BN)\n",
        "BN"
      ],
      "metadata": {
        "id": "OjRcFTqikCyW"
      },
      "execution_count": null,
      "outputs": []
    },
    {
      "cell_type": "code",
      "source": [
        "# Defining the CPDs:\n",
        "cpd_state_bt1_0 = TabularCPD(\"state_bt1_0\", 4, cpd_df_bt1_initial)\n",
        "cpd_state_bt2_0 = TabularCPD(\"state_bt2_0\", 4, cpd_df_bt2_initial)\n",
        "cpd_state_bt3_0 = TabularCPD(\"state_bt3_0\", 4, cpd_df_bt3_initial)\n",
        "cpd_event_1 = TabularCPD(\"event_1\", 10, cpd_df_event, evidence=[\"state_bt1_0\", \"state_bt2_0\", \"state_bt3_0\"], evidence_card=[4, 4, 4])"
      ],
      "metadata": {
        "id": "5o-iEdntw5Gy"
      },
      "execution_count": null,
      "outputs": []
    },
    {
      "cell_type": "code",
      "source": [
        "cpd_state_bt1_1 = TabularCPD(\"state_bt1_1\", 4, cpd_df_bt1, evidence=[\"state_bt1_0\", \"event_1\"], evidence_card=[4,10])\n",
        "cpd_state_bt2_1 = TabularCPD(\"state_bt2_1\", 4, cpd_df_bt2, evidence=[\"state_bt2_0\", \"event_1\"], evidence_card=[4,10])\n",
        "cpd_state_bt3_1 = TabularCPD(\"state_bt3_1\", 4, cpd_df_bt3, evidence=[\"state_bt3_0\", \"event_1\"], evidence_card=[4,10])\n",
        "cpd_event_2 = TabularCPD(\"event_2\", 10, cpd_df_event, evidence=[\"state_bt1_1\", \"state_bt2_1\", \"state_bt3_1\"], evidence_card=[4, 4, 4])"
      ],
      "metadata": {
        "id": "_Wwn9UvI9udS"
      },
      "execution_count": null,
      "outputs": []
    },
    {
      "cell_type": "code",
      "source": [
        "cpd_state_bt1_2 = TabularCPD(\"state_bt1_2\", 4, cpd_df_bt1, evidence=[\"state_bt1_1\", \"event_2\"], evidence_card=[4, 10])\n",
        "cpd_state_bt2_2 = TabularCPD(\"state_bt2_2\", 4, cpd_df_bt2, evidence=[\"state_bt2_1\", \"event_2\"], evidence_card=[4, 10])\n",
        "cpd_state_bt3_2 = TabularCPD(\"state_bt3_2\", 4, cpd_df_bt3, evidence=[\"state_bt3_1\", \"event_2\"], evidence_card=[4, 10])\n",
        "cpd_event_3 = TabularCPD(\"event_3\", 10, cpd_df_event, evidence=[\"state_bt1_2\", \"state_bt2_2\", \"state_bt3_2\"], evidence_card=[4, 4, 4])"
      ],
      "metadata": {
        "id": "LXfU8rLrmd-M"
      },
      "execution_count": null,
      "outputs": []
    },
    {
      "cell_type": "code",
      "source": [
        "cpd_state_bt1_3 = TabularCPD(\"state_bt1_3\", 4, cpd_df_bt1, evidence=[\"state_bt1_2\", \"event_3\"], evidence_card=[4, 10])\n",
        "cpd_state_bt2_3 = TabularCPD(\"state_bt2_3\", 4, cpd_df_bt2, evidence=[\"state_bt2_2\", \"event_3\"], evidence_card=[4, 10])\n",
        "cpd_state_bt3_3 = TabularCPD(\"state_bt3_3\", 4, cpd_df_bt3, evidence=[\"state_bt3_2\", \"event_3\"], evidence_card=[4, 10])"
      ],
      "metadata": {
        "id": "bGqVZe3FmgoB"
      },
      "execution_count": null,
      "outputs": []
    },
    {
      "cell_type": "code",
      "source": [
        "# Associating the CPDs with the network structure.\n",
        "model.add_cpds(\n",
        "    cpd_state_bt1_0,\n",
        "    cpd_state_bt2_0,\n",
        "    cpd_state_bt3_0,\n",
        "    cpd_event_1,\n",
        "    cpd_state_bt1_1,\n",
        "    cpd_state_bt2_1,\n",
        "    cpd_state_bt3_1,\n",
        "    cpd_event_2,\n",
        "    cpd_state_bt1_2,\n",
        "    cpd_state_bt2_2,\n",
        "    cpd_state_bt3_2,\n",
        "    cpd_event_3,\n",
        "    cpd_state_bt1_3,\n",
        "    cpd_state_bt2_3,\n",
        "    cpd_state_bt3_3,\n",
        ")"
      ],
      "metadata": {
        "id": "QHyQzD9ylqet"
      },
      "execution_count": null,
      "outputs": []
    },
    {
      "cell_type": "code",
      "source": [
        "# check_model check for the model structure and the associated CPD and returns True if everything is correct otherwise throws an exception\n",
        "model.check_model()"
      ],
      "metadata": {
        "id": "TJM5dJPUr4mc"
      },
      "execution_count": null,
      "outputs": []
    },
    {
      "cell_type": "markdown",
      "source": [
        "## Model evaluation\n"
      ],
      "metadata": {
        "id": "A3C-jDD3N7p_"
      }
    },
    {
      "cell_type": "code",
      "source": [
        "# Infering the posterior probability\n",
        "from pgmpy.inference import VariableElimination\n",
        "\n",
        "infer = VariableElimination(model)\n",
        "# EVENTS = ['default', 'g1', 'g2', 'g3', 'h1', 'h2', 'h3', 'o1', 'o2', 'o3']\n",
        "posterior_h = infer.query([\"event_1\"], evidence={\"event_2\": 2, \"event_3\": 9})\n",
        "print(posterior_h)"
      ],
      "metadata": {
        "id": "6tHs7eZpsMl5"
      },
      "execution_count": null,
      "outputs": []
    },
    {
      "cell_type": "code",
      "source": [
        "posterior_h = infer.query([\"event_3\"], evidence={\"event_2\": 1, \"event_1\": 4})\n",
        "print(posterior_h)"
      ],
      "metadata": {
        "id": "LcqdIeM8YjC9"
      },
      "execution_count": null,
      "outputs": []
    }
  ]
}
